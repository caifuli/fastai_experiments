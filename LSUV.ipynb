{
  "nbformat": 4,
  "nbformat_minor": 0,
  "metadata": {
    "colab": {
      "name": "LSUV.ipynb",
      "provenance": [],
      "collapsed_sections": []
    },
    "kernelspec": {
      "name": "python3",
      "display_name": "Python 3"
    },
    "accelerator": "GPU"
  },
  "cells": [
    {
      "cell_type": "markdown",
      "metadata": {
        "id": "0ZPHUCRUrHuh",
        "colab_type": "text"
      },
      "source": [
        "###**All you need is a Good init**###\n",
        "\n",
        "In [fastai 2019](https://course.fast.ai/part2) Jeremy covers implementing [All you need is a Good init](https://arxiv.org/pdf/1511.06422.pdf) over [here](https://github.com/fastai/course-v3/blob/master/nbs/dl2/07a_lsuv.ipynb)\n",
        "\n",
        "In his lectures (as a part of Part II rules) he's building the fastai library from scratch. \n",
        "\n",
        "Here I shall try to implement a `HookCallback` which implements the paper. \n",
        "I've also added a few modifications which are necessary in my opinion. \n",
        "\n",
        "First I shall implement it for the `text.vision` setup. Experiment with Pretrained as `True` and `False`\n",
        "\n",
        "\n",
        "\n"
      ]
    },
    {
      "cell_type": "code",
      "metadata": {
        "id": "_VtJvDIICBN_",
        "colab_type": "code",
        "colab": {}
      },
      "source": [
        "! pip install git+https://github.com/fastai/fastai_dev"
      ],
      "execution_count": 0,
      "outputs": []
    },
    {
      "cell_type": "markdown",
      "metadata": {
        "id": "ci5MlMnu-jLG",
        "colab_type": "text"
      },
      "source": [
        "So in `Deep Learning for coders` the course by fastai in the first lesson Jeremy implements a pet classifier which is available over [here](https://github.com/fastai/course-v3/blob/master/nbs/dl1/lesson1-pets.ipynb). I'm going to building on top of that. "
      ]
    },
    {
      "cell_type": "code",
      "metadata": {
        "id": "NVUKPiKcPq6a",
        "colab_type": "code",
        "colab": {}
      },
      "source": [
        "from fastai.vision import *\n",
        "from fastai.metrics import error_rate\n",
        "from fastai.callbacks import Hooks"
      ],
      "execution_count": 0,
      "outputs": []
    },
    {
      "cell_type": "code",
      "metadata": {
        "id": "4ou4a4qeQeFl",
        "colab_type": "code",
        "colab": {}
      },
      "source": [
        "bs = 32   # uncomment this line if you run out of memory even after clicking Kernel->Restart\n"
      ],
      "execution_count": 0,
      "outputs": []
    },
    {
      "cell_type": "code",
      "metadata": {
        "id": "1_JUt7ob22GM",
        "colab_type": "code",
        "outputId": "4077ee51-d1ef-46dc-ffec-c52abf5667b1",
        "colab": {
          "base_uri": "https://localhost:8080/",
          "height": 34
        }
      },
      "source": [
        "path = untar_data(URLs.PETS); path\n"
      ],
      "execution_count": 16,
      "outputs": [
        {
          "output_type": "execute_result",
          "data": {
            "text/plain": [
              "PosixPath('/root/.fastai/data/oxford-iiit-pet')"
            ]
          },
          "metadata": {
            "tags": []
          },
          "execution_count": 16
        }
      ]
    },
    {
      "cell_type": "code",
      "metadata": {
        "id": "cIakpqhe251a",
        "colab_type": "code",
        "colab": {}
      },
      "source": [
        "path_anno = path/'annotations'\n",
        "path_img = path/'images'\n",
        "fnames = get_image_files(path_img)\n"
      ],
      "execution_count": 0,
      "outputs": []
    },
    {
      "cell_type": "code",
      "metadata": {
        "id": "4zCgxoVn3Vj8",
        "colab_type": "code",
        "colab": {}
      },
      "source": [
        "np.random.seed(2)\n",
        "pat = r'/([^/]+)_\\d+.jpg$'"
      ],
      "execution_count": 0,
      "outputs": []
    },
    {
      "cell_type": "code",
      "metadata": {
        "id": "pPeK5tEn27_w",
        "colab_type": "code",
        "colab": {}
      },
      "source": [
        "data = ImageDataBunch.from_name_re(path_img, fnames, pat, ds_tfms=get_transforms(), size=224, bs=bs\n",
        "                                  ).normalize(imagenet_stats)"
      ],
      "execution_count": 0,
      "outputs": []
    },
    {
      "cell_type": "code",
      "metadata": {
        "id": "WoTP88lN2-Pw",
        "colab_type": "code",
        "outputId": "cc0173cd-7e94-4af0-a0d6-0511a4fa65c2",
        "colab": {
          "base_uri": "https://localhost:8080/",
          "height": 441
        }
      },
      "source": [
        "data.show_batch(rows=3, figsize=(7,6))\n"
      ],
      "execution_count": 20,
      "outputs": [
        {
          "output_type": "display_data",
          "data": {
            "image/png": "[encoded data removed]",
            "text/plain": [
              "<Figure size 504x432 with 9 Axes>"
            ]
          },
          "metadata": {
            "tags": []
          }
        }
      ]
    },
    {
      "cell_type": "code",
      "metadata": {
        "id": "8iAEHWsd3AII",
        "colab_type": "code",
        "colab": {}
      },
      "source": [
        "from fastai.callbacks import ActivationStats"
      ],
      "execution_count": 0,
      "outputs": []
    },
    {
      "cell_type": "markdown",
      "metadata": {
        "id": "JiT4ca_I_19K",
        "colab_type": "text"
      },
      "source": [
        "`ActivationStats` is a HookCallBack present in the fastai library. Here are the [documentation](https://docs.fast.ai/callbacks.hooks.html#ActivationStats) and [source](https://github.com/fastai/fastai/blob/master/fastai/callbacks/hooks.py#L82).\n",
        "\n",
        "It stores the mean and std of activations of all layers that are passed to it. \n"
      ]
    },
    {
      "cell_type": "code",
      "metadata": {
        "id": "4qcB2aJ4LDSR",
        "colab_type": "code",
        "colab": {}
      },
      "source": [
        "from torch.nn import Conv2d"
      ],
      "execution_count": 0,
      "outputs": []
    },
    {
      "cell_type": "markdown",
      "metadata": {
        "id": "ue93YJZqAlp_",
        "colab_type": "text"
      },
      "source": [
        "I've written a few functions to see bool status of `requires_grad` which indicates if a layer is forzen or not/if it will be learning. "
      ]
    },
    {
      "cell_type": "code",
      "metadata": {
        "id": "S2IrtcUqOghA",
        "colab_type": "code",
        "colab": {}
      },
      "source": [
        "import collections\n",
        "\n",
        "def requires_grad_counter(m:nn.Module)->Optional[bool]:\n",
        "    ps = list(m.parameters())\n",
        "    return collections.Counter([it.requires_grad for it in ps])\n",
        "\n",
        "\n",
        "def requires_grad_bool(m:nn.Module)->Optional[bool]:\n",
        "    ps = list(m.parameters())\n",
        "    return ps[0].requires_grad"
      ],
      "execution_count": 0,
      "outputs": []
    },
    {
      "cell_type": "markdown",
      "metadata": {
        "id": "SN0R2l5gBTf1",
        "colab_type": "text"
      },
      "source": [
        "### **LSUV_HookCallBack** ###\n",
        "\n",
        "\n",
        "I have imported the code for `HookCallBack`, `ActivationStats`. \n",
        "I have modified the `HookCallBack` so that `ActivationStats` will only be registering the `Conv2d` layers to calculate the mean and std of the activations. \n",
        "\n",
        "\n",
        "`LSUV_HookCallBack` is the CallBack for the paper:\n",
        "HookCallBack registers hooks (defined in the hook func in the class) for the layers I am passing to it. \n",
        "The hook registered returns the mean and std(which we are trying to normalize) of the activations for a layer. \n",
        "\n",
        "Before trainning begins I am taking a batch from the databunch.\n",
        "I go layer by layer and I keep dividing the weights of that layer by the variance of the activations. \n",
        "\n",
        "Here is the psuedo code from the paper. \n",
        "\n",
        "    Pre-initialize network with orthonormal matrices as in Saxe et al. (2014)\n",
        "      for each layer L do\n",
        "        while |Var(BL) − 1.0| ≥ Tolvar and (Ti < Tmax) do\n",
        "          do Forward pass with a mini-batch\n",
        "          calculate Var(BL)\n",
        "          WL = WL / Var(BL)\n",
        "        end while\n",
        "      end for\n",
        "\n",
        "One subtle difference you will notice is that Jeremy in his notebook as well as I have divided the weights not by the root of the variance but by the variance. \n",
        "We can do a couple of iterations with this factor after initially testing.\n",
        "\n",
        "        \n",
        "        "
      ]
    },
    {
      "cell_type": "code",
      "metadata": {
        "id": "QZhzjFaKKuxf",
        "colab_type": "code",
        "colab": {}
      },
      "source": [
        "class HookCallback(LearnerCallback):\n",
        "    \"Callback that can be used to register hooks on `modules`. Implement the corresponding function in `self.hook`.\"\n",
        "    def __init__(self, learn:Learner, modules:Sequence[nn.Module]=None, do_remove:bool=True):\n",
        "        super().__init__(learn)\n",
        "        self.modules,self.do_remove = modules,do_remove\n",
        "\n",
        "    def on_train_begin(self, **kwargs):\n",
        "        \"Register the `Hooks` on `self.modules`.\"\n",
        "        if not self.modules:\n",
        "            self.modules = [m for m in flatten_model(self.learn.model)\n",
        "                            if isinstance(m, Conv2d)]\n",
        "        self.hooks = Hooks(self.modules, self.hook)\n",
        "\n",
        "    def on_train_end(self, **kwargs):\n",
        "        \"Remove the `Hooks`.\"\n",
        "        if self.do_remove: self.remove()\n",
        "\n",
        "    def remove(self): \n",
        "        if getattr(self, 'hooks', None): self.hooks.remove()\n",
        "    def __del__(self): self.remove()\n",
        "\n",
        "class ActivationStats(HookCallback):\n",
        "    \"Callback that record the mean and std of activations.\"\n",
        "\n",
        "    def on_train_begin(self, **kwargs):\n",
        "        \"Initialize stats.\"\n",
        "        super().on_train_begin(**kwargs)\n",
        "        self.stats = []\n",
        "\n",
        "    def hook(self, m:nn.Module, i:Tensors, o:Tensors)->Tuple[Rank0Tensor,Rank0Tensor]:\n",
        "        \"Take the mean and std of `o`.\"\n",
        "        return o.mean().item(),o.std().item()\n",
        "    def on_batch_end(self, train, **kwargs):\n",
        "        \"Take the stored results and puts it in `self.stats`\"\n",
        "        if train: self.stats.append(self.hooks.stored)\n",
        "    def on_train_end(self, **kwargs):\n",
        "        \"Polish the final result.\"\n",
        "        super().on_train_end(**kwargs)\n",
        "        self.stats = tensor(self.stats).permute(2,1,0)\n",
        "\n",
        "class LSUV_HookCallBack(HookCallback):\n",
        "\n",
        "    def on_train_begin(self, **kwargs):\n",
        "        \"Register the `Hooks` on `self.modules`.\"\n",
        "        '''\n",
        "        Here is the CallBack for the paper:\n",
        "        HookCallBack registers hooks (defined in the hook func below) for the layers I am passing to it. \n",
        "        The hook registered returns the std(which we are trying to normalize)\n",
        "        \n",
        "        Before trainning begins I am taking a batch from the databunch.\n",
        "        I go layer by layer and I keep dividing the weights of that layer by the variance of the activations. \n",
        "        \n",
        "\n",
        "        '''\n",
        "        super().on_train_begin(**kwargs)\n",
        "        self.xb, self.yb = self.learn.data.one_batch()\n",
        "        self.xb = self.xb.cuda()\n",
        "\n",
        "\n",
        "        self.stats = {}\n",
        "\n",
        "        for idx,(mod,hook) in enumerate(zip(self.modules, self.hooks)):\n",
        "          self.stats[idx] = []\n",
        "          _ = self.learn.model(self.xb)\n",
        "          self.stats[idx].append(hook.stored[1])\n",
        "          print(idx)\n",
        "          print(hook.stored[1])\n",
        "          \n",
        "          while self.learn.model(self.xb) is not None and abs(hook.stored[1]-1) > 1e-3:\n",
        "            mod.weight.data /= hook.stored[1]\n",
        "            _ = self.learn.model(self.xb)\n",
        "            print(hook.stored[1])\n",
        "            self.stats[idx].append(hook.stored[1])\n",
        "\n",
        "        self.remove() \n",
        "\n",
        "            \n",
        "      \n",
        "    def hook(self, m:nn.Module, i:Tensors, o:Tensors)->Tuple[Rank0Tensor,Rank0Tensor]:\n",
        "        \"Take the mean and std of `o`.\"\n",
        "        return o.mean().item(),o.std().item()\n"
      ],
      "execution_count": 0,
      "outputs": []
    },
    {
      "cell_type": "code",
      "metadata": {
        "id": "LuCpXa2KmSDL",
        "colab_type": "code",
        "colab": {
          "base_uri": "https://localhost:8080/",
          "height": 52
        },
        "outputId": "768f05f8-e1e5-4f80-eefa-995c20c21e02"
      },
      "source": [
        "learn = cnn_learner(data, models.resnet34, metrics=error_rate,callback_fns=ActivationStats)\n"
      ],
      "execution_count": 25,
      "outputs": [
        {
          "output_type": "stream",
          "text": [
            "Downloading: \"https://download.pytorch.org/models/resnet34-333f7ec4.pth\" to /root/.cache/torch/checkpoints/resnet34-333f7ec4.pth\n",
            "100%|██████████| 83.3M/83.3M [00:00<00:00, 168MB/s]\n"
          ],
          "name": "stderr"
        }
      ]
    },
    {
      "cell_type": "markdown",
      "metadata": {
        "id": "Gj31rsQsFven",
        "colab_type": "text"
      },
      "source": [
        "First let's have a look at the layers and check which have `requires_grad` set as `True`. "
      ]
    },
    {
      "cell_type": "code",
      "metadata": {
        "id": "FnPZK-4dq7hZ",
        "colab_type": "code",
        "colab": {}
      },
      "source": [
        "def has_params(m:nn.Module)->bool:\n",
        "    \"Check if `m` has at least one parameter\"\n",
        "    return len(list(m.parameters())) > 0\n"
      ],
      "execution_count": 0,
      "outputs": []
    },
    {
      "cell_type": "code",
      "metadata": {
        "id": "cOKNPqLUlxLv",
        "colab_type": "code",
        "colab": {}
      },
      "source": [
        " mods = [m for m in flatten_model(learn.model)\n",
        "                            if isinstance(m, Conv2d)]"
      ],
      "execution_count": 0,
      "outputs": []
    },
    {
      "cell_type": "code",
      "metadata": {
        "id": "U-tqrb0OrE0V",
        "colab_type": "code",
        "outputId": "cd136d1d-f9c5-4334-807a-1e3d945f32e4",
        "colab": {
          "base_uri": "https://localhost:8080/",
          "height": 656
        }
      },
      "source": [
        "for it in mods:\n",
        "  print(requires_grad_counter(it),it)"
      ],
      "execution_count": 28,
      "outputs": [
        {
          "output_type": "stream",
          "text": [
            "Counter({False: 1}) Conv2d(3, 64, kernel_size=(7, 7), stride=(2, 2), padding=(3, 3), bias=False)\n",
            "Counter({False: 1}) Conv2d(64, 64, kernel_size=(3, 3), stride=(1, 1), padding=(1, 1), bias=False)\n",
            "Counter({False: 1}) Conv2d(64, 64, kernel_size=(3, 3), stride=(1, 1), padding=(1, 1), bias=False)\n",
            "Counter({False: 1}) Conv2d(64, 64, kernel_size=(3, 3), stride=(1, 1), padding=(1, 1), bias=False)\n",
            "Counter({False: 1}) Conv2d(64, 64, kernel_size=(3, 3), stride=(1, 1), padding=(1, 1), bias=False)\n",
            "Counter({False: 1}) Conv2d(64, 64, kernel_size=(3, 3), stride=(1, 1), padding=(1, 1), bias=False)\n",
            "Counter({False: 1}) Conv2d(64, 64, kernel_size=(3, 3), stride=(1, 1), padding=(1, 1), bias=False)\n",
            "Counter({False: 1}) Conv2d(64, 128, kernel_size=(3, 3), stride=(2, 2), padding=(1, 1), bias=False)\n",
            "Counter({False: 1}) Conv2d(128, 128, kernel_size=(3, 3), stride=(1, 1), padding=(1, 1), bias=False)\n",
            "Counter({False: 1}) Conv2d(64, 128, kernel_size=(1, 1), stride=(2, 2), bias=False)\n",
            "Counter({False: 1}) Conv2d(128, 128, kernel_size=(3, 3), stride=(1, 1), padding=(1, 1), bias=False)\n",
            "Counter({False: 1}) Conv2d(128, 128, kernel_size=(3, 3), stride=(1, 1), padding=(1, 1), bias=False)\n",
            "Counter({False: 1}) Conv2d(128, 128, kernel_size=(3, 3), stride=(1, 1), padding=(1, 1), bias=False)\n",
            "Counter({False: 1}) Conv2d(128, 128, kernel_size=(3, 3), stride=(1, 1), padding=(1, 1), bias=False)\n",
            "Counter({False: 1}) Conv2d(128, 128, kernel_size=(3, 3), stride=(1, 1), padding=(1, 1), bias=False)\n",
            "Counter({False: 1}) Conv2d(128, 128, kernel_size=(3, 3), stride=(1, 1), padding=(1, 1), bias=False)\n",
            "Counter({False: 1}) Conv2d(128, 256, kernel_size=(3, 3), stride=(2, 2), padding=(1, 1), bias=False)\n",
            "Counter({False: 1}) Conv2d(256, 256, kernel_size=(3, 3), stride=(1, 1), padding=(1, 1), bias=False)\n",
            "Counter({False: 1}) Conv2d(128, 256, kernel_size=(1, 1), stride=(2, 2), bias=False)\n",
            "Counter({False: 1}) Conv2d(256, 256, kernel_size=(3, 3), stride=(1, 1), padding=(1, 1), bias=False)\n",
            "Counter({False: 1}) Conv2d(256, 256, kernel_size=(3, 3), stride=(1, 1), padding=(1, 1), bias=False)\n",
            "Counter({False: 1}) Conv2d(256, 256, kernel_size=(3, 3), stride=(1, 1), padding=(1, 1), bias=False)\n",
            "Counter({False: 1}) Conv2d(256, 256, kernel_size=(3, 3), stride=(1, 1), padding=(1, 1), bias=False)\n",
            "Counter({False: 1}) Conv2d(256, 256, kernel_size=(3, 3), stride=(1, 1), padding=(1, 1), bias=False)\n",
            "Counter({False: 1}) Conv2d(256, 256, kernel_size=(3, 3), stride=(1, 1), padding=(1, 1), bias=False)\n",
            "Counter({False: 1}) Conv2d(256, 256, kernel_size=(3, 3), stride=(1, 1), padding=(1, 1), bias=False)\n",
            "Counter({False: 1}) Conv2d(256, 256, kernel_size=(3, 3), stride=(1, 1), padding=(1, 1), bias=False)\n",
            "Counter({False: 1}) Conv2d(256, 256, kernel_size=(3, 3), stride=(1, 1), padding=(1, 1), bias=False)\n",
            "Counter({False: 1}) Conv2d(256, 256, kernel_size=(3, 3), stride=(1, 1), padding=(1, 1), bias=False)\n",
            "Counter({False: 1}) Conv2d(256, 512, kernel_size=(3, 3), stride=(2, 2), padding=(1, 1), bias=False)\n",
            "Counter({False: 1}) Conv2d(512, 512, kernel_size=(3, 3), stride=(1, 1), padding=(1, 1), bias=False)\n",
            "Counter({False: 1}) Conv2d(256, 512, kernel_size=(1, 1), stride=(2, 2), bias=False)\n",
            "Counter({False: 1}) Conv2d(512, 512, kernel_size=(3, 3), stride=(1, 1), padding=(1, 1), bias=False)\n",
            "Counter({False: 1}) Conv2d(512, 512, kernel_size=(3, 3), stride=(1, 1), padding=(1, 1), bias=False)\n",
            "Counter({False: 1}) Conv2d(512, 512, kernel_size=(3, 3), stride=(1, 1), padding=(1, 1), bias=False)\n",
            "Counter({False: 1}) Conv2d(512, 512, kernel_size=(3, 3), stride=(1, 1), padding=(1, 1), bias=False)\n"
          ],
          "name": "stdout"
        }
      ]
    },
    {
      "cell_type": "markdown",
      "metadata": {
        "id": "RcMrMRi5G2yW",
        "colab_type": "text"
      },
      "source": [
        "As you can see in it's default state none of the Conv2D layers are unfrozen.\n",
        "This is done by default by the fastai library based on the [ULMFit](https://arxiv.org/pdf/1801.06146.pdf) paper by Jeremy et.al. This paper shows the benefits gradually unfreezing the layers. \n",
        "\n",
        "Now why is that important? \n",
        "\n",
        "As Jeremy mentions in his lectures (As per my understanding):\n",
        "\n",
        "It is extremly important to to have good initilizations for the purposes of learning. When we start learning we want the activations of our layers to have mean 0 and std as 1. This helps in learning because as we're training deep layers we don't want the activations to explode or vanish. \n",
        "\n",
        "However, since all of the Conv2D layers are frozen they won't be learning anything. So we want perform this activity for layers that are unfrozen.  \n"
      ]
    },
    {
      "cell_type": "code",
      "metadata": {
        "id": "ngOxMUt7dxOt",
        "colab_type": "code",
        "colab": {}
      },
      "source": [
        "learn.freeze_to(-2)\n"
      ],
      "execution_count": 0,
      "outputs": []
    },
    {
      "cell_type": "code",
      "metadata": {
        "id": "dVSCAaPtd1Ip",
        "colab_type": "code",
        "outputId": "e9155216-a2eb-414d-859a-960f15148090",
        "colab": {
          "base_uri": "https://localhost:8080/",
          "height": 656
        }
      },
      "source": [
        " mods = [m for m in flatten_model(learn.model)\n",
        "                            if isinstance(m, Conv2d)]\n",
        "for it in mods:\n",
        "  print(requires_grad_counter(it),it)"
      ],
      "execution_count": 31,
      "outputs": [
        {
          "output_type": "stream",
          "text": [
            "Counter({False: 1}) Conv2d(3, 64, kernel_size=(7, 7), stride=(2, 2), padding=(3, 3), bias=False)\n",
            "Counter({False: 1}) Conv2d(64, 64, kernel_size=(3, 3), stride=(1, 1), padding=(1, 1), bias=False)\n",
            "Counter({False: 1}) Conv2d(64, 64, kernel_size=(3, 3), stride=(1, 1), padding=(1, 1), bias=False)\n",
            "Counter({False: 1}) Conv2d(64, 64, kernel_size=(3, 3), stride=(1, 1), padding=(1, 1), bias=False)\n",
            "Counter({False: 1}) Conv2d(64, 64, kernel_size=(3, 3), stride=(1, 1), padding=(1, 1), bias=False)\n",
            "Counter({False: 1}) Conv2d(64, 64, kernel_size=(3, 3), stride=(1, 1), padding=(1, 1), bias=False)\n",
            "Counter({False: 1}) Conv2d(64, 64, kernel_size=(3, 3), stride=(1, 1), padding=(1, 1), bias=False)\n",
            "Counter({False: 1}) Conv2d(64, 128, kernel_size=(3, 3), stride=(2, 2), padding=(1, 1), bias=False)\n",
            "Counter({False: 1}) Conv2d(128, 128, kernel_size=(3, 3), stride=(1, 1), padding=(1, 1), bias=False)\n",
            "Counter({False: 1}) Conv2d(64, 128, kernel_size=(1, 1), stride=(2, 2), bias=False)\n",
            "Counter({False: 1}) Conv2d(128, 128, kernel_size=(3, 3), stride=(1, 1), padding=(1, 1), bias=False)\n",
            "Counter({False: 1}) Conv2d(128, 128, kernel_size=(3, 3), stride=(1, 1), padding=(1, 1), bias=False)\n",
            "Counter({False: 1}) Conv2d(128, 128, kernel_size=(3, 3), stride=(1, 1), padding=(1, 1), bias=False)\n",
            "Counter({False: 1}) Conv2d(128, 128, kernel_size=(3, 3), stride=(1, 1), padding=(1, 1), bias=False)\n",
            "Counter({False: 1}) Conv2d(128, 128, kernel_size=(3, 3), stride=(1, 1), padding=(1, 1), bias=False)\n",
            "Counter({False: 1}) Conv2d(128, 128, kernel_size=(3, 3), stride=(1, 1), padding=(1, 1), bias=False)\n",
            "Counter({True: 1}) Conv2d(128, 256, kernel_size=(3, 3), stride=(2, 2), padding=(1, 1), bias=False)\n",
            "Counter({True: 1}) Conv2d(256, 256, kernel_size=(3, 3), stride=(1, 1), padding=(1, 1), bias=False)\n",
            "Counter({True: 1}) Conv2d(128, 256, kernel_size=(1, 1), stride=(2, 2), bias=False)\n",
            "Counter({True: 1}) Conv2d(256, 256, kernel_size=(3, 3), stride=(1, 1), padding=(1, 1), bias=False)\n",
            "Counter({True: 1}) Conv2d(256, 256, kernel_size=(3, 3), stride=(1, 1), padding=(1, 1), bias=False)\n",
            "Counter({True: 1}) Conv2d(256, 256, kernel_size=(3, 3), stride=(1, 1), padding=(1, 1), bias=False)\n",
            "Counter({True: 1}) Conv2d(256, 256, kernel_size=(3, 3), stride=(1, 1), padding=(1, 1), bias=False)\n",
            "Counter({True: 1}) Conv2d(256, 256, kernel_size=(3, 3), stride=(1, 1), padding=(1, 1), bias=False)\n",
            "Counter({True: 1}) Conv2d(256, 256, kernel_size=(3, 3), stride=(1, 1), padding=(1, 1), bias=False)\n",
            "Counter({True: 1}) Conv2d(256, 256, kernel_size=(3, 3), stride=(1, 1), padding=(1, 1), bias=False)\n",
            "Counter({True: 1}) Conv2d(256, 256, kernel_size=(3, 3), stride=(1, 1), padding=(1, 1), bias=False)\n",
            "Counter({True: 1}) Conv2d(256, 256, kernel_size=(3, 3), stride=(1, 1), padding=(1, 1), bias=False)\n",
            "Counter({True: 1}) Conv2d(256, 256, kernel_size=(3, 3), stride=(1, 1), padding=(1, 1), bias=False)\n",
            "Counter({True: 1}) Conv2d(256, 512, kernel_size=(3, 3), stride=(2, 2), padding=(1, 1), bias=False)\n",
            "Counter({True: 1}) Conv2d(512, 512, kernel_size=(3, 3), stride=(1, 1), padding=(1, 1), bias=False)\n",
            "Counter({True: 1}) Conv2d(256, 512, kernel_size=(1, 1), stride=(2, 2), bias=False)\n",
            "Counter({True: 1}) Conv2d(512, 512, kernel_size=(3, 3), stride=(1, 1), padding=(1, 1), bias=False)\n",
            "Counter({True: 1}) Conv2d(512, 512, kernel_size=(3, 3), stride=(1, 1), padding=(1, 1), bias=False)\n",
            "Counter({True: 1}) Conv2d(512, 512, kernel_size=(3, 3), stride=(1, 1), padding=(1, 1), bias=False)\n",
            "Counter({True: 1}) Conv2d(512, 512, kernel_size=(3, 3), stride=(1, 1), padding=(1, 1), bias=False)\n"
          ],
          "name": "stdout"
        }
      ]
    },
    {
      "cell_type": "markdown",
      "metadata": {
        "id": "xgQIOm2_I0AQ",
        "colab_type": "text"
      },
      "source": [
        "We see here we can unfreeze the Conv2D layers by the `freeze_to` func. "
      ]
    },
    {
      "cell_type": "code",
      "metadata": {
        "id": "c5_hq1NHd1Fn",
        "colab_type": "code",
        "outputId": "b6e8a18f-1110-4d96-cd9b-e0c35c11ee3d",
        "colab": {
          "base_uri": "https://localhost:8080/",
          "height": 1000
        }
      },
      "source": [
        "learn.model"
      ],
      "execution_count": 0,
      "outputs": [
        {
          "output_type": "execute_result",
          "data": {
            "text/plain": [
              "Sequential(\n",
              "  (0): Sequential(\n",
              "    (0): Conv2d(3, 64, kernel_size=(7, 7), stride=(2, 2), padding=(3, 3), bias=False)\n",
              "    (1): BatchNorm2d(64, eps=1e-05, momentum=0.1, affine=True, track_running_stats=True)\n",
              "    (2): ReLU(inplace=True)\n",
              "    (3): MaxPool2d(kernel_size=3, stride=2, padding=1, dilation=1, ceil_mode=False)\n",
              "    (4): Sequential(\n",
              "      (0): BasicBlock(\n",
              "        (conv1): Conv2d(64, 64, kernel_size=(3, 3), stride=(1, 1), padding=(1, 1), bias=False)\n",
              "        (bn1): BatchNorm2d(64, eps=1e-05, momentum=0.1, affine=True, track_running_stats=True)\n",
              "        (relu): ReLU(inplace=True)\n",
              "        (conv2): Conv2d(64, 64, kernel_size=(3, 3), stride=(1, 1), padding=(1, 1), bias=False)\n",
              "        (bn2): BatchNorm2d(64, eps=1e-05, momentum=0.1, affine=True, track_running_stats=True)\n",
              "      )\n",
              "      (1): BasicBlock(\n",
              "        (conv1): Conv2d(64, 64, kernel_size=(3, 3), stride=(1, 1), padding=(1, 1), bias=False)\n",
              "        (bn1): BatchNorm2d(64, eps=1e-05, momentum=0.1, affine=True, track_running_stats=True)\n",
              "        (relu): ReLU(inplace=True)\n",
              "        (conv2): Conv2d(64, 64, kernel_size=(3, 3), stride=(1, 1), padding=(1, 1), bias=False)\n",
              "        (bn2): BatchNorm2d(64, eps=1e-05, momentum=0.1, affine=True, track_running_stats=True)\n",
              "      )\n",
              "      (2): BasicBlock(\n",
              "        (conv1): Conv2d(64, 64, kernel_size=(3, 3), stride=(1, 1), padding=(1, 1), bias=False)\n",
              "        (bn1): BatchNorm2d(64, eps=1e-05, momentum=0.1, affine=True, track_running_stats=True)\n",
              "        (relu): ReLU(inplace=True)\n",
              "        (conv2): Conv2d(64, 64, kernel_size=(3, 3), stride=(1, 1), padding=(1, 1), bias=False)\n",
              "        (bn2): BatchNorm2d(64, eps=1e-05, momentum=0.1, affine=True, track_running_stats=True)\n",
              "      )\n",
              "    )\n",
              "    (5): Sequential(\n",
              "      (0): BasicBlock(\n",
              "        (conv1): Conv2d(64, 128, kernel_size=(3, 3), stride=(2, 2), padding=(1, 1), bias=False)\n",
              "        (bn1): BatchNorm2d(128, eps=1e-05, momentum=0.1, affine=True, track_running_stats=True)\n",
              "        (relu): ReLU(inplace=True)\n",
              "        (conv2): Conv2d(128, 128, kernel_size=(3, 3), stride=(1, 1), padding=(1, 1), bias=False)\n",
              "        (bn2): BatchNorm2d(128, eps=1e-05, momentum=0.1, affine=True, track_running_stats=True)\n",
              "        (downsample): Sequential(\n",
              "          (0): Conv2d(64, 128, kernel_size=(1, 1), stride=(2, 2), bias=False)\n",
              "          (1): BatchNorm2d(128, eps=1e-05, momentum=0.1, affine=True, track_running_stats=True)\n",
              "        )\n",
              "      )\n",
              "      (1): BasicBlock(\n",
              "        (conv1): Conv2d(128, 128, kernel_size=(3, 3), stride=(1, 1), padding=(1, 1), bias=False)\n",
              "        (bn1): BatchNorm2d(128, eps=1e-05, momentum=0.1, affine=True, track_running_stats=True)\n",
              "        (relu): ReLU(inplace=True)\n",
              "        (conv2): Conv2d(128, 128, kernel_size=(3, 3), stride=(1, 1), padding=(1, 1), bias=False)\n",
              "        (bn2): BatchNorm2d(128, eps=1e-05, momentum=0.1, affine=True, track_running_stats=True)\n",
              "      )\n",
              "      (2): BasicBlock(\n",
              "        (conv1): Conv2d(128, 128, kernel_size=(3, 3), stride=(1, 1), padding=(1, 1), bias=False)\n",
              "        (bn1): BatchNorm2d(128, eps=1e-05, momentum=0.1, affine=True, track_running_stats=True)\n",
              "        (relu): ReLU(inplace=True)\n",
              "        (conv2): Conv2d(128, 128, kernel_size=(3, 3), stride=(1, 1), padding=(1, 1), bias=False)\n",
              "        (bn2): BatchNorm2d(128, eps=1e-05, momentum=0.1, affine=True, track_running_stats=True)\n",
              "      )\n",
              "      (3): BasicBlock(\n",
              "        (conv1): Conv2d(128, 128, kernel_size=(3, 3), stride=(1, 1), padding=(1, 1), bias=False)\n",
              "        (bn1): BatchNorm2d(128, eps=1e-05, momentum=0.1, affine=True, track_running_stats=True)\n",
              "        (relu): ReLU(inplace=True)\n",
              "        (conv2): Conv2d(128, 128, kernel_size=(3, 3), stride=(1, 1), padding=(1, 1), bias=False)\n",
              "        (bn2): BatchNorm2d(128, eps=1e-05, momentum=0.1, affine=True, track_running_stats=True)\n",
              "      )\n",
              "    )\n",
              "    (6): Sequential(\n",
              "      (0): BasicBlock(\n",
              "        (conv1): Conv2d(128, 256, kernel_size=(3, 3), stride=(2, 2), padding=(1, 1), bias=False)\n",
              "        (bn1): BatchNorm2d(256, eps=1e-05, momentum=0.1, affine=True, track_running_stats=True)\n",
              "        (relu): ReLU(inplace=True)\n",
              "        (conv2): Conv2d(256, 256, kernel_size=(3, 3), stride=(1, 1), padding=(1, 1), bias=False)\n",
              "        (bn2): BatchNorm2d(256, eps=1e-05, momentum=0.1, affine=True, track_running_stats=True)\n",
              "        (downsample): Sequential(\n",
              "          (0): Conv2d(128, 256, kernel_size=(1, 1), stride=(2, 2), bias=False)\n",
              "          (1): BatchNorm2d(256, eps=1e-05, momentum=0.1, affine=True, track_running_stats=True)\n",
              "        )\n",
              "      )\n",
              "      (1): BasicBlock(\n",
              "        (conv1): Conv2d(256, 256, kernel_size=(3, 3), stride=(1, 1), padding=(1, 1), bias=False)\n",
              "        (bn1): BatchNorm2d(256, eps=1e-05, momentum=0.1, affine=True, track_running_stats=True)\n",
              "        (relu): ReLU(inplace=True)\n",
              "        (conv2): Conv2d(256, 256, kernel_size=(3, 3), stride=(1, 1), padding=(1, 1), bias=False)\n",
              "        (bn2): BatchNorm2d(256, eps=1e-05, momentum=0.1, affine=True, track_running_stats=True)\n",
              "      )\n",
              "      (2): BasicBlock(\n",
              "        (conv1): Conv2d(256, 256, kernel_size=(3, 3), stride=(1, 1), padding=(1, 1), bias=False)\n",
              "        (bn1): BatchNorm2d(256, eps=1e-05, momentum=0.1, affine=True, track_running_stats=True)\n",
              "        (relu): ReLU(inplace=True)\n",
              "        (conv2): Conv2d(256, 256, kernel_size=(3, 3), stride=(1, 1), padding=(1, 1), bias=False)\n",
              "        (bn2): BatchNorm2d(256, eps=1e-05, momentum=0.1, affine=True, track_running_stats=True)\n",
              "      )\n",
              "      (3): BasicBlock(\n",
              "        (conv1): Conv2d(256, 256, kernel_size=(3, 3), stride=(1, 1), padding=(1, 1), bias=False)\n",
              "        (bn1): BatchNorm2d(256, eps=1e-05, momentum=0.1, affine=True, track_running_stats=True)\n",
              "        (relu): ReLU(inplace=True)\n",
              "        (conv2): Conv2d(256, 256, kernel_size=(3, 3), stride=(1, 1), padding=(1, 1), bias=False)\n",
              "        (bn2): BatchNorm2d(256, eps=1e-05, momentum=0.1, affine=True, track_running_stats=True)\n",
              "      )\n",
              "      (4): BasicBlock(\n",
              "        (conv1): Conv2d(256, 256, kernel_size=(3, 3), stride=(1, 1), padding=(1, 1), bias=False)\n",
              "        (bn1): BatchNorm2d(256, eps=1e-05, momentum=0.1, affine=True, track_running_stats=True)\n",
              "        (relu): ReLU(inplace=True)\n",
              "        (conv2): Conv2d(256, 256, kernel_size=(3, 3), stride=(1, 1), padding=(1, 1), bias=False)\n",
              "        (bn2): BatchNorm2d(256, eps=1e-05, momentum=0.1, affine=True, track_running_stats=True)\n",
              "      )\n",
              "      (5): BasicBlock(\n",
              "        (conv1): Conv2d(256, 256, kernel_size=(3, 3), stride=(1, 1), padding=(1, 1), bias=False)\n",
              "        (bn1): BatchNorm2d(256, eps=1e-05, momentum=0.1, affine=True, track_running_stats=True)\n",
              "        (relu): ReLU(inplace=True)\n",
              "        (conv2): Conv2d(256, 256, kernel_size=(3, 3), stride=(1, 1), padding=(1, 1), bias=False)\n",
              "        (bn2): BatchNorm2d(256, eps=1e-05, momentum=0.1, affine=True, track_running_stats=True)\n",
              "      )\n",
              "    )\n",
              "    (7): Sequential(\n",
              "      (0): BasicBlock(\n",
              "        (conv1): Conv2d(256, 512, kernel_size=(3, 3), stride=(2, 2), padding=(1, 1), bias=False)\n",
              "        (bn1): BatchNorm2d(512, eps=1e-05, momentum=0.1, affine=True, track_running_stats=True)\n",
              "        (relu): ReLU(inplace=True)\n",
              "        (conv2): Conv2d(512, 512, kernel_size=(3, 3), stride=(1, 1), padding=(1, 1), bias=False)\n",
              "        (bn2): BatchNorm2d(512, eps=1e-05, momentum=0.1, affine=True, track_running_stats=True)\n",
              "        (downsample): Sequential(\n",
              "          (0): Conv2d(256, 512, kernel_size=(1, 1), stride=(2, 2), bias=False)\n",
              "          (1): BatchNorm2d(512, eps=1e-05, momentum=0.1, affine=True, track_running_stats=True)\n",
              "        )\n",
              "      )\n",
              "      (1): BasicBlock(\n",
              "        (conv1): Conv2d(512, 512, kernel_size=(3, 3), stride=(1, 1), padding=(1, 1), bias=False)\n",
              "        (bn1): BatchNorm2d(512, eps=1e-05, momentum=0.1, affine=True, track_running_stats=True)\n",
              "        (relu): ReLU(inplace=True)\n",
              "        (conv2): Conv2d(512, 512, kernel_size=(3, 3), stride=(1, 1), padding=(1, 1), bias=False)\n",
              "        (bn2): BatchNorm2d(512, eps=1e-05, momentum=0.1, affine=True, track_running_stats=True)\n",
              "      )\n",
              "      (2): BasicBlock(\n",
              "        (conv1): Conv2d(512, 512, kernel_size=(3, 3), stride=(1, 1), padding=(1, 1), bias=False)\n",
              "        (bn1): BatchNorm2d(512, eps=1e-05, momentum=0.1, affine=True, track_running_stats=True)\n",
              "        (relu): ReLU(inplace=True)\n",
              "        (conv2): Conv2d(512, 512, kernel_size=(3, 3), stride=(1, 1), padding=(1, 1), bias=False)\n",
              "        (bn2): BatchNorm2d(512, eps=1e-05, momentum=0.1, affine=True, track_running_stats=True)\n",
              "      )\n",
              "    )\n",
              "  )\n",
              "  (1): Sequential(\n",
              "    (0): AdaptiveConcatPool2d(\n",
              "      (ap): AdaptiveAvgPool2d(output_size=1)\n",
              "      (mp): AdaptiveMaxPool2d(output_size=1)\n",
              "    )\n",
              "    (1): Flatten()\n",
              "    (2): BatchNorm1d(1024, eps=1e-05, momentum=0.1, affine=True, track_running_stats=True)\n",
              "    (3): Dropout(p=0.25, inplace=False)\n",
              "    (4): Linear(in_features=1024, out_features=512, bias=True)\n",
              "    (5): ReLU(inplace=True)\n",
              "    (6): BatchNorm1d(512, eps=1e-05, momentum=0.1, affine=True, track_running_stats=True)\n",
              "    (7): Dropout(p=0.5, inplace=False)\n",
              "    (8): Linear(in_features=512, out_features=37, bias=True)\n",
              "  )\n",
              ")"
            ]
          },
          "metadata": {
            "tags": []
          },
          "execution_count": 18
        }
      ]
    },
    {
      "cell_type": "markdown",
      "metadata": {
        "id": "Mp3Y4UQuKP-3",
        "colab_type": "text"
      },
      "source": [
        "By default only the items in `(1): Sequential` are unfrozen. \n",
        "\n",
        "\n"
      ]
    },
    {
      "cell_type": "markdown",
      "metadata": {
        "id": "FV0iJ3z1LDyE",
        "colab_type": "text"
      },
      "source": [
        "### **BASELINE** ###\n",
        "\n",
        "So let's try the default setting. In this setting we're using the pretrained model for resnet30"
      ]
    },
    {
      "cell_type": "code",
      "metadata": {
        "id": "KwYKLeNvuWRK",
        "colab_type": "code",
        "outputId": "bc1d1c1f-603e-44ae-d762-7e7ef41818b7",
        "colab": {
          "base_uri": "https://localhost:8080/",
          "height": 197
        }
      },
      "source": [
        "learn = cnn_learner(data, models.resnet34, metrics=error_rate,callback_fns=ActivationStats)\n",
        "learn.fit_one_cycle(5)\n"
      ],
      "execution_count": 34,
      "outputs": [
        {
          "output_type": "display_data",
          "data": {
            "text/html": [
              "<table border=\"1\" class=\"dataframe\">\n",
              "  <thead>\n",
              "    <tr style=\"text-align: left;\">\n",
              "      <th>epoch</th>\n",
              "      <th>train_loss</th>\n",
              "      <th>valid_loss</th>\n",
              "      <th>error_rate</th>\n",
              "      <th>time</th>\n",
              "    </tr>\n",
              "  </thead>\n",
              "  <tbody>\n",
              "    <tr>\n",
              "      <td>0</td>\n",
              "      <td>1.008615</td>\n",
              "      <td>0.365868</td>\n",
              "      <td>0.114344</td>\n",
              "      <td>01:50</td>\n",
              "    </tr>\n",
              "    <tr>\n",
              "      <td>1</td>\n",
              "      <td>0.662402</td>\n",
              "      <td>0.347306</td>\n",
              "      <td>0.110284</td>\n",
              "      <td>01:51</td>\n",
              "    </tr>\n",
              "    <tr>\n",
              "      <td>2</td>\n",
              "      <td>0.449351</td>\n",
              "      <td>0.231594</td>\n",
              "      <td>0.080514</td>\n",
              "      <td>01:55</td>\n",
              "    </tr>\n",
              "    <tr>\n",
              "      <td>3</td>\n",
              "      <td>0.330042</td>\n",
              "      <td>0.224404</td>\n",
              "      <td>0.071042</td>\n",
              "      <td>01:56</td>\n",
              "    </tr>\n",
              "    <tr>\n",
              "      <td>4</td>\n",
              "      <td>0.261298</td>\n",
              "      <td>0.203329</td>\n",
              "      <td>0.070365</td>\n",
              "      <td>01:55</td>\n",
              "    </tr>\n",
              "  </tbody>\n",
              "</table>"
            ],
            "text/plain": [
              "<IPython.core.display.HTML object>"
            ]
          },
          "metadata": {
            "tags": []
          }
        }
      ]
    },
    {
      "cell_type": "markdown",
      "metadata": {
        "id": "hyqeHntcMDRP",
        "colab_type": "text"
      },
      "source": [
        "Let's checkout the mean and std for the activations. X Axis defines the layer number. "
      ]
    },
    {
      "cell_type": "code",
      "metadata": {
        "id": "h03TKamxz4t2",
        "colab_type": "code",
        "colab": {}
      },
      "source": [
        "layers_len = len(learn.activation_stats.modules)\n",
        "\n",
        "means = [learn.activation_stats.stats[0][i].mean() for i in range(layers_len)]\n",
        "stds = [learn.activation_stats.stats[1][i].mean() for i in range(layers_len)]"
      ],
      "execution_count": 0,
      "outputs": []
    },
    {
      "cell_type": "code",
      "metadata": {
        "id": "3Mr53d0vz7ai",
        "colab_type": "code",
        "outputId": "8d3bf5d6-3231-464b-db2e-ea16325f405a",
        "colab": {
          "base_uri": "https://localhost:8080/",
          "height": 282
        }
      },
      "source": [
        "plt.plot(means)"
      ],
      "execution_count": 37,
      "outputs": [
        {
          "output_type": "execute_result",
          "data": {
            "text/plain": [
              "[<matplotlib.lines.Line2D at 0x7fcf97f99400>]"
            ]
          },
          "metadata": {
            "tags": []
          },
          "execution_count": 37
        },
        {
          "output_type": "display_data",
          "data": {
            "image/png": "[encoded data removed]",
            "text/plain": [
              "<Figure size 432x288 with 1 Axes>"
            ]
          },
          "metadata": {
            "tags": []
          }
        }
      ]
    },
    {
      "cell_type": "code",
      "metadata": {
        "id": "lSlVuvoY0FkZ",
        "colab_type": "code",
        "outputId": "27baed78-d69c-407c-a119-a8ffc66902e9",
        "colab": {
          "base_uri": "https://localhost:8080/",
          "height": 282
        }
      },
      "source": [
        "plt.plot(stds)"
      ],
      "execution_count": 38,
      "outputs": [
        {
          "output_type": "execute_result",
          "data": {
            "text/plain": [
              "[<matplotlib.lines.Line2D at 0x7fcf97f0f7f0>]"
            ]
          },
          "metadata": {
            "tags": []
          },
          "execution_count": 38
        },
        {
          "output_type": "display_data",
          "data": {
            "image/png": "[encoded data removed]",
            "text/plain": [
              "<Figure size 432x288 with 1 Axes>"
            ]
          },
          "metadata": {
            "tags": []
          }
        }
      ]
    },
    {
      "cell_type": "markdown",
      "metadata": {
        "id": "NeiPyVCaRb3d",
        "colab_type": "text"
      },
      "source": [
        "First let's try out this technique only on all layers that are not forzen by default. I'm not sure of the behaviour for the `BatchNorm` layer. But we shall see. \n",
        "\n",
        "Adding the `has_params` func from the fastai library and adding the condition that the parameters should have `requires_grad` set as `True`. "
      ]
    },
    {
      "cell_type": "code",
      "metadata": {
        "id": "stwMe08DRaKM",
        "colab_type": "code",
        "colab": {}
      },
      "source": [
        "def has_params(m:nn.Module)->bool:\n",
        "    \"Check if `m` has at least one parameter\"\n",
        "    return len(list(m.parameters())) > 0\n",
        "\n",
        "class HookCallback(LearnerCallback):\n",
        "    \"Callback that can be used to register hooks on `modules`. Implement the corresponding function in `self.hook`.\"\n",
        "    def __init__(self, learn:Learner, modules:Sequence[nn.Module]=None, do_remove:bool=True):\n",
        "        super().__init__(learn)\n",
        "        self.modules,self.do_remove = modules,do_remove\n",
        "\n",
        "    def on_train_begin(self, **kwargs):\n",
        "        \"Register the `Hooks` on `self.modules`.\"\n",
        "        if not self.modules:\n",
        "            self.modules = [m for m in flatten_model(self.learn.model)\n",
        "                            if has_params(m) and requires_grad_bool(m)]\n",
        "        self.hooks = Hooks(self.modules, self.hook)\n",
        "\n",
        "    def on_train_end(self, **kwargs):\n",
        "        \"Remove the `Hooks`.\"\n",
        "        if self.do_remove: self.remove()\n",
        "\n",
        "    def remove(self): \n",
        "        if getattr(self, 'hooks', None): self.hooks.remove()\n",
        "    def __del__(self): self.remove()\n",
        "\n",
        "class ActivationStats(HookCallback):\n",
        "    \"Callback that record the mean and std of activations.\"\n",
        "\n",
        "    def on_train_begin(self, **kwargs):\n",
        "        \"Initialize stats.\"\n",
        "        super().on_train_begin(**kwargs)\n",
        "        self.stats = []\n",
        "\n",
        "    def hook(self, m:nn.Module, i:Tensors, o:Tensors)->Tuple[Rank0Tensor,Rank0Tensor]:\n",
        "        \"Take the mean and std of `o`.\"\n",
        "        return o.mean().item(),o.std().item()\n",
        "    def on_batch_end(self, train, **kwargs):\n",
        "        \"Take the stored results and puts it in `self.stats`\"\n",
        "        if train: self.stats.append(self.hooks.stored)\n",
        "    def on_train_end(self, **kwargs):\n",
        "        \"Polish the final result.\"\n",
        "        super().on_train_end(**kwargs)\n",
        "        self.stats = tensor(self.stats).permute(2,1,0)\n",
        "\n",
        "class LSUV_HookCallBack(HookCallback):\n",
        "\n",
        "    def on_train_begin(self, **kwargs):\n",
        "        \"Register the `Hooks` on `self.modules`.\"\n",
        "        '''\n",
        "        Here is the CallBack for the paper:\n",
        "        HookCallBack registers hooks (defined in the hook func below) for the layers I am passing to it. \n",
        "        The hook registered returns the std(which we are trying to normalize)\n",
        "        \n",
        "        Before trainning begins I am taking a batch from the databunch.\n",
        "        I go layer by layer and I keep dividing the weights of that layer by the variance of the activations. \n",
        "        \n",
        "\n",
        "        '''\n",
        "        super().on_train_begin(**kwargs)\n",
        "        self.xb, self.yb = self.learn.data.one_batch()\n",
        "        self.xb = self.xb.cuda()\n",
        "\n",
        "\n",
        "        self.stats = {}\n",
        "\n",
        "        for idx,(mod,hook) in enumerate(zip(self.modules, self.hooks)):\n",
        "          self.stats[idx] = []\n",
        "          _ = self.learn.model(self.xb)\n",
        "          self.stats[idx].append(hook.stored[1])\n",
        "          print(idx, mod)\n",
        "          print(hook.stored[1])\n",
        "          \n",
        "          while self.learn.model(self.xb) is not None and abs(hook.stored[1]-1) > 1e-3:\n",
        "            mod.weight.data /= hook.stored[1]\n",
        "            _ = self.learn.model(self.xb)\n",
        "            print(hook.stored[1])\n",
        "            self.stats[idx].append(hook.stored[1])\n",
        "\n",
        "        self.remove() \n",
        "\n",
        "            \n",
        "      \n",
        "    def hook(self, m:nn.Module, i:Tensors, o:Tensors)->Tuple[Rank0Tensor,Rank0Tensor]:\n",
        "        \"Take the mean and std of `o`.\"\n",
        "        return o.mean().item(),o.std().item()"
      ],
      "execution_count": 0,
      "outputs": []
    },
    {
      "cell_type": "markdown",
      "metadata": {
        "id": "TJxz-YtiV19V",
        "colab_type": "text"
      },
      "source": [
        "I'm printing the std for the process. We can see how the std is converging on to 1. "
      ]
    },
    {
      "cell_type": "code",
      "metadata": {
        "id": "WpZonjaiSWWd",
        "colab_type": "code",
        "colab": {
          "base_uri": "https://localhost:8080/",
          "height": 1000
        },
        "outputId": "b47b2aec-f772-4774-e9d7-62713aa9ef44"
      },
      "source": [
        "learn = cnn_learner(data, models.resnet34, metrics=error_rate,callback_fns=[LSUV_HookCallBack,ActivationStats])\n",
        "learn.fit_one_cycle(5)"
      ],
      "execution_count": 43,
      "outputs": [
        {
          "output_type": "stream",
          "text": [
            "0 BatchNorm2d(64, eps=1e-05, momentum=0.1, affine=True, track_running_stats=True)\n",
            "0.30728286504745483\n",
            "0.4484558403491974\n",
            "0.8037204146385193\n",
            "0.9733064770698547\n",
            "0.9972638487815857\n",
            "0.9997292160987854\n",
            "1 BatchNorm2d(64, eps=1e-05, momentum=0.1, affine=True, track_running_stats=True)\n",
            "0.7545009851455688\n",
            "0.995147705078125\n",
            "0.9999505281448364\n",
            "2 BatchNorm2d(64, eps=1e-05, momentum=0.1, affine=True, track_running_stats=True)\n",
            "1.5631694793701172\n",
            "0.991115152835846\n",
            "1.0001728534698486\n",
            "3 BatchNorm2d(64, eps=1e-05, momentum=0.1, affine=True, track_running_stats=True)\n",
            "0.6305303573608398\n",
            "0.9758666753768921\n",
            "0.9991491436958313\n",
            "4 BatchNorm2d(64, eps=1e-05, momentum=0.1, affine=True, track_running_stats=True)\n",
            "1.0346474647521973\n",
            "1.000527262687683\n",
            "5 BatchNorm2d(64, eps=1e-05, momentum=0.1, affine=True, track_running_stats=True)\n",
            "0.6339687705039978\n",
            "0.9869344234466553\n",
            "0.9997552037239075\n",
            "6 BatchNorm2d(64, eps=1e-05, momentum=0.1, affine=True, track_running_stats=True)\n",
            "1.139829397201538\n",
            "1.0009099245071411\n",
            "7 BatchNorm2d(128, eps=1e-05, momentum=0.1, affine=True, track_running_stats=True)\n",
            "0.5134709477424622\n",
            "0.9945048093795776\n",
            "0.999986469745636\n",
            "8 BatchNorm2d(128, eps=1e-05, momentum=0.1, affine=True, track_running_stats=True)\n",
            "1.227104902267456\n",
            "1.002734661102295\n",
            "1.0000420808792114\n",
            "9 BatchNorm2d(128, eps=1e-05, momentum=0.1, affine=True, track_running_stats=True)\n",
            "0.8105784058570862\n",
            "0.9989095330238342\n",
            "0.999995768070221\n",
            "10 BatchNorm2d(128, eps=1e-05, momentum=0.1, affine=True, track_running_stats=True)\n",
            "0.6904823780059814\n",
            "0.9943408966064453\n",
            "0.9999433755874634\n",
            "11 BatchNorm2d(128, eps=1e-05, momentum=0.1, affine=True, track_running_stats=True)\n",
            "1.0361984968185425\n",
            "1.000450849533081\n",
            "12 BatchNorm2d(128, eps=1e-05, momentum=0.1, affine=True, track_running_stats=True)\n",
            "0.6178430318832397\n",
            "0.990636944770813\n",
            "0.9998712539672852\n",
            "13 BatchNorm2d(128, eps=1e-05, momentum=0.1, affine=True, track_running_stats=True)\n",
            "0.942189633846283\n",
            "0.9980199337005615\n",
            "0.999936580657959\n",
            "14 BatchNorm2d(128, eps=1e-05, momentum=0.1, affine=True, track_running_stats=True)\n",
            "0.5948268175125122\n",
            "0.9856345653533936\n",
            "0.9997178912162781\n",
            "15 BatchNorm2d(128, eps=1e-05, momentum=0.1, affine=True, track_running_stats=True)\n",
            "0.7248621582984924\n",
            "0.9827425479888916\n",
            "0.9992533326148987\n",
            "16 BatchNorm2d(256, eps=1e-05, momentum=0.1, affine=True, track_running_stats=True)\n",
            "0.8693987727165222\n",
            "0.9993723034858704\n",
            "17 BatchNorm2d(256, eps=1e-05, momentum=0.1, affine=True, track_running_stats=True)\n",
            "0.7640419602394104\n",
            "1.0003138780593872\n",
            "18 BatchNorm2d(256, eps=1e-05, momentum=0.1, affine=True, track_running_stats=True)\n",
            "0.5371328592300415\n",
            "0.999306321144104\n",
            "19 BatchNorm2d(256, eps=1e-05, momentum=0.1, affine=True, track_running_stats=True)\n",
            "0.9112433195114136\n",
            "1.0000025033950806\n",
            "20 BatchNorm2d(256, eps=1e-05, momentum=0.1, affine=True, track_running_stats=True)\n",
            "1.3806718587875366\n",
            "1.0071203708648682\n",
            "1.0001887083053589\n",
            "21 BatchNorm2d(256, eps=1e-05, momentum=0.1, affine=True, track_running_stats=True)\n",
            "0.7094591856002808\n",
            "0.9958723783493042\n",
            "0.9999629259109497\n",
            "22 BatchNorm2d(256, eps=1e-05, momentum=0.1, affine=True, track_running_stats=True)\n",
            "1.6924786567687988\n",
            "1.0080440044403076\n",
            "1.0001646280288696\n",
            "23 BatchNorm2d(256, eps=1e-05, momentum=0.1, affine=True, track_running_stats=True)\n",
            "0.809924840927124\n",
            "0.9934874176979065\n",
            "0.9998229146003723\n",
            "24 BatchNorm2d(256, eps=1e-05, momentum=0.1, affine=True, track_running_stats=True)\n",
            "1.7288013696670532\n",
            "1.011242151260376\n",
            "1.0003117322921753\n",
            "25 BatchNorm2d(256, eps=1e-05, momentum=0.1, affine=True, track_running_stats=True)\n",
            "0.5592174530029297\n",
            "0.9818392992019653\n",
            "0.9996315836906433\n",
            "26 BatchNorm2d(256, eps=1e-05, momentum=0.1, affine=True, track_running_stats=True)\n",
            "1.4651728868484497\n",
            "1.0015058517456055\n",
            "1.0000090599060059\n",
            "27 BatchNorm2d(256, eps=1e-05, momentum=0.1, affine=True, track_running_stats=True)\n",
            "0.7961623668670654\n",
            "0.9971046447753906\n",
            "0.9999687075614929\n",
            "28 BatchNorm2d(256, eps=1e-05, momentum=0.1, affine=True, track_running_stats=True)\n",
            "2.002591848373413\n",
            "1.022935390472412\n",
            "1.001075029373169\n",
            "1.000051498413086\n",
            "29 BatchNorm2d(512, eps=1e-05, momentum=0.1, affine=True, track_running_stats=True)\n",
            "0.6334084272384644\n",
            "1.0004929304122925\n",
            "30 BatchNorm2d(512, eps=1e-05, momentum=0.1, affine=True, track_running_stats=True)\n",
            "3.089350938796997\n",
            "1.001291036605835\n",
            "1.0000040531158447\n",
            "31 BatchNorm2d(512, eps=1e-05, momentum=0.1, affine=True, track_running_stats=True)\n",
            "1.1982964277267456\n",
            "1.0002741813659668\n",
            "32 BatchNorm2d(512, eps=1e-05, momentum=0.1, affine=True, track_running_stats=True)\n",
            "0.3079870343208313\n",
            "0.9863895177841187\n",
            "0.9999598264694214\n",
            "33 BatchNorm2d(512, eps=1e-05, momentum=0.1, affine=True, track_running_stats=True)\n",
            "5.565204620361328\n",
            "1.0096867084503174\n",
            "1.0001338720321655\n",
            "34 BatchNorm2d(512, eps=1e-05, momentum=0.1, affine=True, track_running_stats=True)\n",
            "0.3506016135215759\n",
            "0.9652212262153625\n",
            "0.9994437098503113\n",
            "35 BatchNorm2d(512, eps=1e-05, momentum=0.1, affine=True, track_running_stats=True)\n",
            "1.9799007177352905\n",
            "1.0007739067077637\n",
            "36 BatchNorm1d(1024, eps=1e-05, momentum=0.1, affine=True, track_running_stats=True)\n",
            "0.9983999729156494\n",
            "0.9999999403953552\n",
            "37 Linear(in_features=1024, out_features=512, bias=True)\n",
            "1.6387594938278198\n",
            "0.9927498698234558\n",
            "1.0057607889175415\n",
            "0.9927053451538086\n",
            "1.0029635429382324\n",
            "0.9868800044059753\n",
            "0.9996004104614258\n",
            "0.9986923336982727\n",
            "1.014426350593567\n",
            "0.9952573776245117\n",
            "38 BatchNorm1d(512, eps=1e-05, momentum=0.1, affine=True, track_running_stats=True)\n",
            "1.000012755393982\n",
            "39 Linear(in_features=512, out_features=37, bias=True)\n",
            "1.994085431098938\n",
            "1.0096242427825928\n",
            "1.0384066104888916\n",
            "1.0320125818252563\n",
            "1.019999384880066\n",
            "1.0037683248519897\n",
            "0.9607490301132202\n",
            "1.0143989324569702\n",
            "1.0074392557144165\n",
            "1.015520691871643\n",
            "0.9779265522956848\n",
            "1.052686095237732\n",
            "0.9896113276481628\n",
            "0.9642382264137268\n",
            "1.025977373123169\n",
            "0.9786389470100403\n",
            "1.024294137954712\n",
            "0.9983518123626709\n",
            "0.9534530639648438\n",
            "0.9847651124000549\n",
            "1.038795828819275\n",
            "1.0149056911468506\n",
            "0.9941922426223755\n",
            "0.94050532579422\n",
            "0.9664028286933899\n",
            "0.9506666660308838\n",
            "1.0005730390548706\n",
            "1.012802243232727\n",
            "0.9888602495193481\n",
            "1.0071991682052612\n",
            "1.0039210319519043\n",
            "0.9171254634857178\n",
            "1.0079400539398193\n",
            "0.9889706373214722\n",
            "1.0065854787826538\n",
            "1.003312587738037\n",
            "1.0041711330413818\n",
            "0.9262616634368896\n",
            "0.9640157222747803\n",
            "0.9693536758422852\n",
            "1.0163615942001343\n",
            "1.0467112064361572\n",
            "0.9852046370506287\n",
            "1.0390716791152954\n",
            "0.9636752605438232\n",
            "1.0042423009872437\n",
            "0.9728870391845703\n",
            "1.0444334745407104\n",
            "1.0575222969055176\n",
            "0.97991943359375\n",
            "0.951221227645874\n"
          ],
          "name": "stdout"
        },
        {
          "output_type": "display_data",
          "data": {
            "text/html": [
              "<table border=\"1\" class=\"dataframe\">\n",
              "  <thead>\n",
              "    <tr style=\"text-align: left;\">\n",
              "      <th>epoch</th>\n",
              "      <th>train_loss</th>\n",
              "      <th>valid_loss</th>\n",
              "      <th>error_rate</th>\n",
              "      <th>time</th>\n",
              "    </tr>\n",
              "  </thead>\n",
              "  <tbody>\n",
              "    <tr>\n",
              "      <td>0</td>\n",
              "      <td>1.495207</td>\n",
              "      <td>0.757058</td>\n",
              "      <td>0.230041</td>\n",
              "      <td>01:55</td>\n",
              "    </tr>\n",
              "    <tr>\n",
              "      <td>1</td>\n",
              "      <td>0.950202</td>\n",
              "      <td>0.526879</td>\n",
              "      <td>0.164411</td>\n",
              "      <td>01:54</td>\n",
              "    </tr>\n",
              "    <tr>\n",
              "      <td>2</td>\n",
              "      <td>0.680864</td>\n",
              "      <td>0.404345</td>\n",
              "      <td>0.131935</td>\n",
              "      <td>01:54</td>\n",
              "    </tr>\n",
              "    <tr>\n",
              "      <td>3</td>\n",
              "      <td>0.544746</td>\n",
              "      <td>0.350513</td>\n",
              "      <td>0.115020</td>\n",
              "      <td>01:54</td>\n",
              "    </tr>\n",
              "    <tr>\n",
              "      <td>4</td>\n",
              "      <td>0.388527</td>\n",
              "      <td>0.334020</td>\n",
              "      <td>0.108931</td>\n",
              "      <td>01:55</td>\n",
              "    </tr>\n",
              "  </tbody>\n",
              "</table>"
            ],
            "text/plain": [
              "<IPython.core.display.HTML object>"
            ]
          },
          "metadata": {
            "tags": []
          }
        }
      ]
    },
    {
      "cell_type": "markdown",
      "metadata": {
        "id": "SuKvwtliVBXq",
        "colab_type": "text"
      },
      "source": [
        "So, clearly that didn't work if we're looking at the error rate. "
      ]
    },
    {
      "cell_type": "code",
      "metadata": {
        "colab_type": "code",
        "id": "kY5wn2KaVOzt",
        "colab": {}
      },
      "source": [
        "layers_len = len(learn.activation_stats.modules)\n",
        "\n",
        "means = [learn.activation_stats.stats[0][i].mean() for i in range(layers_len)]\n",
        "stds = [learn.activation_stats.stats[1][i].mean() for i in range(layers_len)]"
      ],
      "execution_count": 0,
      "outputs": []
    },
    {
      "cell_type": "code",
      "metadata": {
        "colab_type": "code",
        "outputId": "7ba95f56-31e8-4ae9-c8d4-96ef7c22634f",
        "id": "a0iPKqKQVOz1",
        "colab": {
          "base_uri": "https://localhost:8080/",
          "height": 282
        }
      },
      "source": [
        "plt.plot(means)"
      ],
      "execution_count": 45,
      "outputs": [
        {
          "output_type": "execute_result",
          "data": {
            "text/plain": [
              "[<matplotlib.lines.Line2D at 0x7fcfb010f898>]"
            ]
          },
          "metadata": {
            "tags": []
          },
          "execution_count": 45
        },
        {
          "output_type": "display_data",
          "data": {
            "image/png": "[encoded data removed]",
            "text/plain": [
              "<Figure size 432x288 with 1 Axes>"
            ]
          },
          "metadata": {
            "tags": []
          }
        }
      ]
    },
    {
      "cell_type": "code",
      "metadata": {
        "colab_type": "code",
        "outputId": "2f3bf631-5ed4-4109-9439-a4f42e5eadb6",
        "id": "QwCQm_VbVOz9",
        "colab": {
          "base_uri": "https://localhost:8080/",
          "height": 284
        }
      },
      "source": [
        "plt.plot(stds)"
      ],
      "execution_count": 46,
      "outputs": [
        {
          "output_type": "execute_result",
          "data": {
            "text/plain": [
              "[<matplotlib.lines.Line2D at 0x7fcf98a24c50>]"
            ]
          },
          "metadata": {
            "tags": []
          },
          "execution_count": 46
        },
        {
          "output_type": "display_data",
          "data": {
            "image/png": "[encoded data removed]",
            "text/plain": [
              "<Figure size 432x288 with 1 Axes>"
            ]
          },
          "metadata": {
            "tags": []
          }
        }
      ]
    },
    {
      "cell_type": "markdown",
      "metadata": {
        "id": "4d8C0I2wVZvp",
        "colab_type": "text"
      },
      "source": [
        "Seem like std for the activations in the last layers has actually gone up. \n",
        "\n",
        "Keep in mind we're still trying with a pretrained model \n",
        "\n",
        "\n",
        "### pretrained=False ###\n",
        "Let's try with pretrained set to False"
      ]
    },
    {
      "cell_type": "code",
      "metadata": {
        "colab_type": "code",
        "outputId": "c0fa9531-7f4f-4f5c-b013-94b0a9be879a",
        "id": "rq-QvWovYVHm",
        "colab": {
          "base_uri": "https://localhost:8080/",
          "height": 197
        }
      },
      "source": [
        "learn = cnn_learner(data, models.resnet34, metrics=error_rate,callback_fns=ActivationStats,pretrained=False)\n",
        "learn.unfreeze()\n",
        "learn.fit_one_cycle(5)\n"
      ],
      "execution_count": 49,
      "outputs": [
        {
          "output_type": "display_data",
          "data": {
            "text/html": [
              "<table border=\"1\" class=\"dataframe\">\n",
              "  <thead>\n",
              "    <tr style=\"text-align: left;\">\n",
              "      <th>epoch</th>\n",
              "      <th>train_loss</th>\n",
              "      <th>valid_loss</th>\n",
              "      <th>error_rate</th>\n",
              "      <th>time</th>\n",
              "    </tr>\n",
              "  </thead>\n",
              "  <tbody>\n",
              "    <tr>\n",
              "      <td>0</td>\n",
              "      <td>4.473606</td>\n",
              "      <td>3.903148</td>\n",
              "      <td>0.940460</td>\n",
              "      <td>02:06</td>\n",
              "    </tr>\n",
              "    <tr>\n",
              "      <td>1</td>\n",
              "      <td>4.113922</td>\n",
              "      <td>3.477778</td>\n",
              "      <td>0.924899</td>\n",
              "      <td>02:06</td>\n",
              "    </tr>\n",
              "    <tr>\n",
              "      <td>2</td>\n",
              "      <td>3.751937</td>\n",
              "      <td>3.421106</td>\n",
              "      <td>0.880244</td>\n",
              "      <td>02:07</td>\n",
              "    </tr>\n",
              "    <tr>\n",
              "      <td>3</td>\n",
              "      <td>3.379098</td>\n",
              "      <td>3.021091</td>\n",
              "      <td>0.823410</td>\n",
              "      <td>02:07</td>\n",
              "    </tr>\n",
              "    <tr>\n",
              "      <td>4</td>\n",
              "      <td>3.091667</td>\n",
              "      <td>2.841817</td>\n",
              "      <td>0.775372</td>\n",
              "      <td>02:05</td>\n",
              "    </tr>\n",
              "  </tbody>\n",
              "</table>"
            ],
            "text/plain": [
              "<IPython.core.display.HTML object>"
            ]
          },
          "metadata": {
            "tags": []
          }
        }
      ]
    },
    {
      "cell_type": "markdown",
      "metadata": {
        "colab_type": "text",
        "id": "GA2TlQQ7YVHr"
      },
      "source": [
        "Let's checkout the mean and std for the activations. X Axis defines the layer number. "
      ]
    },
    {
      "cell_type": "code",
      "metadata": {
        "colab_type": "code",
        "id": "bLbImjLRYVHr",
        "colab": {}
      },
      "source": [
        "layers_len = len(learn.activation_stats.modules)\n",
        "\n",
        "means = [learn.activation_stats.stats[0][i].mean() for i in range(layers_len)]\n",
        "stds = [learn.activation_stats.stats[1][i].mean() for i in range(layers_len)]"
      ],
      "execution_count": 0,
      "outputs": []
    },
    {
      "cell_type": "code",
      "metadata": {
        "colab_type": "code",
        "outputId": "36012830-6ef0-41a3-aacb-674d2eba28e3",
        "id": "eDRvOhcrYVHu",
        "colab": {
          "base_uri": "https://localhost:8080/",
          "height": 282
        }
      },
      "source": [
        "plt.plot(means)"
      ],
      "execution_count": 51,
      "outputs": [
        {
          "output_type": "execute_result",
          "data": {
            "text/plain": [
              "[<matplotlib.lines.Line2D at 0x7fcf966951d0>]"
            ]
          },
          "metadata": {
            "tags": []
          },
          "execution_count": 51
        },
        {
          "output_type": "display_data",
          "data": {
            "image/png": "[encoded data removed]",
            "text/plain": [
              "<Figure size 432x288 with 1 Axes>"
            ]
          },
          "metadata": {
            "tags": []
          }
        }
      ]
    },
    {
      "cell_type": "code",
      "metadata": {
        "colab_type": "code",
        "outputId": "d09e6216-bbb3-42ea-d4f5-0e295f954123",
        "id": "kZ5wUt9KYVHx",
        "colab": {
          "base_uri": "https://localhost:8080/",
          "height": 282
        }
      },
      "source": [
        "plt.plot(stds)"
      ],
      "execution_count": 52,
      "outputs": [
        {
          "output_type": "execute_result",
          "data": {
            "text/plain": [
              "[<matplotlib.lines.Line2D at 0x7fcf97b0ea20>]"
            ]
          },
          "metadata": {
            "tags": []
          },
          "execution_count": 52
        },
        {
          "output_type": "display_data",
          "data": {
            "image/png": "[encoded data removed]",
            "text/plain": [
              "<Figure size 432x288 with 1 Axes>"
            ]
          },
          "metadata": {
            "tags": []
          }
        }
      ]
    },
    {
      "cell_type": "code",
      "metadata": {
        "id": "mBWVhAnWedPz",
        "colab_type": "code",
        "colab": {
          "base_uri": "https://localhost:8080/",
          "height": 1000
        },
        "outputId": "f6928b8d-b03d-48b3-b878-f0cc6e1f5bda"
      },
      "source": [
        "learn = cnn_learner(data, models.resnet34, metrics=error_rate,callback_fns=[LSUV_HookCallBack,ActivationStats],pretrained=False)\n",
        "learn.unfreeze()\n",
        "learn.fit_one_cycle(5)"
      ],
      "execution_count": 57,
      "outputs": [
        {
          "output_type": "stream",
          "text": [
            "0 Conv2d(3, 64, kernel_size=(7, 7), stride=(2, 2), padding=(3, 3), bias=False)\n",
            "0.12944702804088593\n",
            "0.9999998807907104\n",
            "1 BatchNorm2d(64, eps=1e-05, momentum=0.1, affine=True, track_running_stats=True)\n",
            "0.9999948740005493\n",
            "2 Conv2d(64, 64, kernel_size=(3, 3), stride=(1, 1), padding=(1, 1), bias=False)\n",
            "1.3836114406585693\n",
            "0.9999999403953552\n",
            "3 BatchNorm2d(64, eps=1e-05, momentum=0.1, affine=True, track_running_stats=True)\n",
            "0.9999949336051941\n",
            "4 Conv2d(64, 64, kernel_size=(3, 3), stride=(1, 1), padding=(1, 1), bias=False)\n",
            "0.9051938056945801\n",
            "1.0000001192092896\n",
            "5 BatchNorm2d(64, eps=1e-05, momentum=0.1, affine=True, track_running_stats=True)\n",
            "0.9999950528144836\n",
            "6 Conv2d(64, 64, kernel_size=(3, 3), stride=(1, 1), padding=(1, 1), bias=False)\n",
            "1.7313892841339111\n",
            "1.0\n",
            "7 BatchNorm2d(64, eps=1e-05, momentum=0.1, affine=True, track_running_stats=True)\n",
            "0.9999948740005493\n",
            "8 Conv2d(64, 64, kernel_size=(3, 3), stride=(1, 1), padding=(1, 1), bias=False)\n",
            "0.8507806658744812\n",
            "1.0\n",
            "9 BatchNorm2d(64, eps=1e-05, momentum=0.1, affine=True, track_running_stats=True)\n",
            "0.9999948740005493\n",
            "10 Conv2d(64, 64, kernel_size=(3, 3), stride=(1, 1), padding=(1, 1), bias=False)\n",
            "2.10754132270813\n",
            "0.9999999403953552\n",
            "11 BatchNorm2d(64, eps=1e-05, momentum=0.1, affine=True, track_running_stats=True)\n",
            "0.9999948740005493\n",
            "12 Conv2d(64, 64, kernel_size=(3, 3), stride=(1, 1), padding=(1, 1), bias=False)\n",
            "1.016780138015747\n",
            "1.0\n",
            "13 BatchNorm2d(64, eps=1e-05, momentum=0.1, affine=True, track_running_stats=True)\n",
            "0.9999948740005493\n",
            "14 Conv2d(64, 128, kernel_size=(3, 3), stride=(2, 2), padding=(1, 1), bias=False)\n",
            "1.563810110092163\n",
            "0.9999999403953552\n",
            "15 BatchNorm2d(128, eps=1e-05, momentum=0.1, affine=True, track_running_stats=True)\n",
            "0.9999949932098389\n",
            "16 Conv2d(128, 128, kernel_size=(3, 3), stride=(1, 1), padding=(1, 1), bias=False)\n",
            "1.0120043754577637\n",
            "1.0\n",
            "17 BatchNorm2d(128, eps=1e-05, momentum=0.1, affine=True, track_running_stats=True)\n",
            "0.9999949932098389\n",
            "18 Conv2d(64, 128, kernel_size=(1, 1), stride=(2, 2), bias=False)\n",
            "1.6050217151641846\n",
            "0.9999999403953552\n",
            "19 BatchNorm2d(128, eps=1e-05, momentum=0.1, affine=True, track_running_stats=True)\n",
            "0.9999948740005493\n",
            "20 Conv2d(128, 128, kernel_size=(3, 3), stride=(1, 1), padding=(1, 1), bias=False)\n",
            "1.4053939580917358\n",
            "1.0\n",
            "21 BatchNorm2d(128, eps=1e-05, momentum=0.1, affine=True, track_running_stats=True)\n",
            "0.9999949932098389\n",
            "22 Conv2d(128, 128, kernel_size=(3, 3), stride=(1, 1), padding=(1, 1), bias=False)\n",
            "0.9221509695053101\n",
            "1.0\n",
            "23 BatchNorm2d(128, eps=1e-05, momentum=0.1, affine=True, track_running_stats=True)\n",
            "0.9999948740005493\n",
            "24 Conv2d(128, 128, kernel_size=(3, 3), stride=(1, 1), padding=(1, 1), bias=False)\n",
            "1.686498761177063\n",
            "0.9999999403953552\n",
            "25 BatchNorm2d(128, eps=1e-05, momentum=0.1, affine=True, track_running_stats=True)\n",
            "0.9999948740005493\n",
            "26 Conv2d(128, 128, kernel_size=(3, 3), stride=(1, 1), padding=(1, 1), bias=False)\n",
            "0.9889390468597412\n",
            "1.0\n",
            "27 BatchNorm2d(128, eps=1e-05, momentum=0.1, affine=True, track_running_stats=True)\n",
            "0.9999949932098389\n",
            "28 Conv2d(128, 128, kernel_size=(3, 3), stride=(1, 1), padding=(1, 1), bias=False)\n",
            "2.042844295501709\n",
            "1.0\n",
            "29 BatchNorm2d(128, eps=1e-05, momentum=0.1, affine=True, track_running_stats=True)\n",
            "0.9999949336051941\n",
            "30 Conv2d(128, 128, kernel_size=(3, 3), stride=(1, 1), padding=(1, 1), bias=False)\n",
            "1.0474827289581299\n",
            "0.9999998807907104\n",
            "31 BatchNorm2d(128, eps=1e-05, momentum=0.1, affine=True, track_running_stats=True)\n",
            "0.9999949336051941\n",
            "32 Conv2d(128, 256, kernel_size=(3, 3), stride=(2, 2), padding=(1, 1), bias=False)\n",
            "1.6149877309799194\n",
            "1.0\n",
            "33 BatchNorm2d(256, eps=1e-05, momentum=0.1, affine=True, track_running_stats=True)\n",
            "0.9999949932098389\n",
            "34 Conv2d(256, 256, kernel_size=(3, 3), stride=(1, 1), padding=(1, 1), bias=False)\n",
            "1.0141940116882324\n",
            "1.0000001192092896\n",
            "35 BatchNorm2d(256, eps=1e-05, momentum=0.1, affine=True, track_running_stats=True)\n",
            "0.9999949932098389\n",
            "36 Conv2d(128, 256, kernel_size=(1, 1), stride=(2, 2), bias=False)\n",
            "1.64244544506073\n",
            "1.0\n",
            "37 BatchNorm2d(256, eps=1e-05, momentum=0.1, affine=True, track_running_stats=True)\n",
            "0.9999948740005493\n",
            "38 Conv2d(256, 256, kernel_size=(3, 3), stride=(1, 1), padding=(1, 1), bias=False)\n",
            "1.330119252204895\n",
            "1.0\n",
            "39 BatchNorm2d(256, eps=1e-05, momentum=0.1, affine=True, track_running_stats=True)\n",
            "0.9999948740005493\n",
            "40 Conv2d(256, 256, kernel_size=(3, 3), stride=(1, 1), padding=(1, 1), bias=False)\n",
            "0.9386552572250366\n",
            "1.0\n",
            "41 BatchNorm2d(256, eps=1e-05, momentum=0.1, affine=True, track_running_stats=True)\n",
            "0.9999949336051941\n",
            "42 Conv2d(256, 256, kernel_size=(3, 3), stride=(1, 1), padding=(1, 1), bias=False)\n",
            "1.7627068758010864\n",
            "1.0000001192092896\n",
            "43 BatchNorm2d(256, eps=1e-05, momentum=0.1, affine=True, track_running_stats=True)\n",
            "0.9999949932098389\n",
            "44 Conv2d(256, 256, kernel_size=(3, 3), stride=(1, 1), padding=(1, 1), bias=False)\n",
            "0.9345723986625671\n",
            "0.9999998807907104\n",
            "45 BatchNorm2d(256, eps=1e-05, momentum=0.1, affine=True, track_running_stats=True)\n",
            "0.9999948740005493\n",
            "46 Conv2d(256, 256, kernel_size=(3, 3), stride=(1, 1), padding=(1, 1), bias=False)\n",
            "2.372932195663452\n",
            "0.9999999403953552\n",
            "47 BatchNorm2d(256, eps=1e-05, momentum=0.1, affine=True, track_running_stats=True)\n",
            "0.9999948740005493\n",
            "48 Conv2d(256, 256, kernel_size=(3, 3), stride=(1, 1), padding=(1, 1), bias=False)\n",
            "0.8826282024383545\n",
            "0.9999998807907104\n",
            "49 BatchNorm2d(256, eps=1e-05, momentum=0.1, affine=True, track_running_stats=True)\n",
            "0.9999948740005493\n",
            "50 Conv2d(256, 256, kernel_size=(3, 3), stride=(1, 1), padding=(1, 1), bias=False)\n",
            "2.272479295730591\n",
            "0.9999998807907104\n",
            "51 BatchNorm2d(256, eps=1e-05, momentum=0.1, affine=True, track_running_stats=True)\n",
            "0.9999947547912598\n",
            "52 Conv2d(256, 256, kernel_size=(3, 3), stride=(1, 1), padding=(1, 1), bias=False)\n",
            "0.9422759413719177\n",
            "0.9999998807907104\n",
            "53 BatchNorm2d(256, eps=1e-05, momentum=0.1, affine=True, track_running_stats=True)\n",
            "0.9999947547912598\n",
            "54 Conv2d(256, 256, kernel_size=(3, 3), stride=(1, 1), padding=(1, 1), bias=False)\n",
            "2.709477424621582\n",
            "1.0000001192092896\n",
            "55 BatchNorm2d(256, eps=1e-05, momentum=0.1, affine=True, track_running_stats=True)\n",
            "0.9999949932098389\n",
            "56 Conv2d(256, 256, kernel_size=(3, 3), stride=(1, 1), padding=(1, 1), bias=False)\n",
            "0.9979028105735779\n",
            "1.0\n",
            "57 BatchNorm2d(256, eps=1e-05, momentum=0.1, affine=True, track_running_stats=True)\n",
            "0.9999949932098389\n",
            "58 Conv2d(256, 512, kernel_size=(3, 3), stride=(2, 2), padding=(1, 1), bias=False)\n",
            "2.1733405590057373\n",
            "1.0\n",
            "59 BatchNorm2d(512, eps=1e-05, momentum=0.1, affine=True, track_running_stats=True)\n",
            "0.9999949336051941\n",
            "60 Conv2d(512, 512, kernel_size=(3, 3), stride=(1, 1), padding=(1, 1), bias=False)\n",
            "0.9510382413864136\n",
            "0.9999999403953552\n",
            "61 BatchNorm2d(512, eps=1e-05, momentum=0.1, affine=True, track_running_stats=True)\n",
            "0.9999948740005493\n",
            "62 Conv2d(256, 512, kernel_size=(1, 1), stride=(2, 2), bias=False)\n",
            "2.133986234664917\n",
            "1.0\n",
            "63 BatchNorm2d(512, eps=1e-05, momentum=0.1, affine=True, track_running_stats=True)\n",
            "0.9999949336051941\n",
            "64 Conv2d(512, 512, kernel_size=(3, 3), stride=(1, 1), padding=(1, 1), bias=False)\n",
            "1.3639845848083496\n",
            "0.9999998807907104\n",
            "65 BatchNorm2d(512, eps=1e-05, momentum=0.1, affine=True, track_running_stats=True)\n",
            "0.9999948740005493\n",
            "66 Conv2d(512, 512, kernel_size=(3, 3), stride=(1, 1), padding=(1, 1), bias=False)\n",
            "0.9589202404022217\n",
            "1.0\n",
            "67 BatchNorm2d(512, eps=1e-05, momentum=0.1, affine=True, track_running_stats=True)\n",
            "0.9999949932098389\n",
            "68 Conv2d(512, 512, kernel_size=(3, 3), stride=(1, 1), padding=(1, 1), bias=False)\n",
            "1.7965214252471924\n",
            "1.0\n",
            "69 BatchNorm2d(512, eps=1e-05, momentum=0.1, affine=True, track_running_stats=True)\n",
            "0.9999949932098389\n",
            "70 Conv2d(512, 512, kernel_size=(3, 3), stride=(1, 1), padding=(1, 1), bias=False)\n",
            "0.9580819606781006\n",
            "1.0\n",
            "71 BatchNorm2d(512, eps=1e-05, momentum=0.1, affine=True, track_running_stats=True)\n",
            "0.9999949932098389\n",
            "72 BatchNorm1d(1024, eps=1e-05, momentum=0.1, affine=True, track_running_stats=True)\n",
            "0.995537281036377\n",
            "1.0\n",
            "73 Linear(in_features=1024, out_features=512, bias=True)\n",
            "1.627788782119751\n",
            "0.9847843647003174\n",
            "1.003682017326355\n",
            "74 BatchNorm1d(512, eps=1e-05, momentum=0.1, affine=True, track_running_stats=True)\n",
            "1.0000070333480835\n",
            "75 Linear(in_features=512, out_features=37, bias=True)\n",
            "1.9466687440872192\n",
            "0.9655551910400391\n",
            "1.0430735349655151\n",
            "0.9738842248916626\n",
            "1.0364608764648438\n",
            "0.9887925982475281\n",
            "0.9862825274467468\n",
            "0.9549814462661743\n",
            "1.0410228967666626\n",
            "0.9256223440170288\n",
            "1.0273222923278809\n",
            "1.0083671808242798\n",
            "1.016252875328064\n",
            "0.9732879400253296\n",
            "1.0218051671981812\n",
            "0.995615541934967\n",
            "1.0243369340896606\n",
            "1.0840572118759155\n",
            "0.9684207439422607\n",
            "1.048415184020996\n",
            "0.9989782571792603\n",
            "1.0608570575714111\n",
            "1.049519658088684\n",
            "1.0587486028671265\n",
            "0.9655667543411255\n",
            "1.0616472959518433\n",
            "1.0117958784103394\n",
            "0.9298082590103149\n",
            "0.9145519137382507\n",
            "0.9659953713417053\n",
            "1.0548768043518066\n",
            "1.0026350021362305\n",
            "1.0067399740219116\n",
            "0.9506596922874451\n",
            "0.9836058020591736\n",
            "0.9759095311164856\n",
            "0.9791107773780823\n",
            "1.1031972169876099\n",
            "0.9792992472648621\n",
            "1.0474140644073486\n",
            "0.9935009479522705\n",
            "1.0252842903137207\n",
            "0.9092689156532288\n",
            "0.9405064582824707\n",
            "0.9527277946472168\n",
            "1.0279778242111206\n",
            "0.9840653538703918\n",
            "1.020825743675232\n",
            "1.0477938652038574\n",
            "0.9484105110168457\n",
            "0.9819793701171875\n",
            "1.030477523803711\n",
            "0.9674181938171387\n",
            "1.0075979232788086\n",
            "1.0198533535003662\n",
            "0.9535210132598877\n",
            "0.9897712469100952\n",
            "0.9818933010101318\n",
            "1.0176982879638672\n",
            "0.9680702686309814\n",
            "1.0513743162155151\n",
            "0.9924331307411194\n",
            "0.9684003591537476\n",
            "0.9945558905601501\n",
            "1.0178885459899902\n",
            "0.9682551026344299\n",
            "1.0491811037063599\n",
            "1.0290162563323975\n",
            "1.0163068771362305\n",
            "1.0055121183395386\n",
            "0.9771755337715149\n",
            "0.9826375842094421\n",
            "1.0014762878417969\n",
            "0.9846100211143494\n",
            "1.0448168516159058\n",
            "1.046331524848938\n",
            "1.0148887634277344\n",
            "1.0010353326797485\n",
            "0.97845458984375\n",
            "1.1370153427124023\n",
            "1.0378495454788208\n",
            "1.0061497688293457\n"
          ],
          "name": "stdout"
        },
        {
          "output_type": "display_data",
          "data": {
            "text/html": [
              "<table border=\"1\" class=\"dataframe\">\n",
              "  <thead>\n",
              "    <tr style=\"text-align: left;\">\n",
              "      <th>epoch</th>\n",
              "      <th>train_loss</th>\n",
              "      <th>valid_loss</th>\n",
              "      <th>error_rate</th>\n",
              "      <th>time</th>\n",
              "    </tr>\n",
              "  </thead>\n",
              "  <tbody>\n",
              "    <tr>\n",
              "      <td>0</td>\n",
              "      <td>3.790586</td>\n",
              "      <td>3.683014</td>\n",
              "      <td>0.925575</td>\n",
              "      <td>02:06</td>\n",
              "    </tr>\n",
              "    <tr>\n",
              "      <td>1</td>\n",
              "      <td>3.743856</td>\n",
              "      <td>3.564291</td>\n",
              "      <td>0.907984</td>\n",
              "      <td>02:07</td>\n",
              "    </tr>\n",
              "    <tr>\n",
              "      <td>2</td>\n",
              "      <td>3.508799</td>\n",
              "      <td>3.304871</td>\n",
              "      <td>0.861976</td>\n",
              "      <td>02:06</td>\n",
              "    </tr>\n",
              "    <tr>\n",
              "      <td>3</td>\n",
              "      <td>3.141965</td>\n",
              "      <td>2.809401</td>\n",
              "      <td>0.783491</td>\n",
              "      <td>02:06</td>\n",
              "    </tr>\n",
              "    <tr>\n",
              "      <td>4</td>\n",
              "      <td>2.825634</td>\n",
              "      <td>2.559343</td>\n",
              "      <td>0.738160</td>\n",
              "      <td>02:08</td>\n",
              "    </tr>\n",
              "  </tbody>\n",
              "</table>"
            ],
            "text/plain": [
              "<IPython.core.display.HTML object>"
            ]
          },
          "metadata": {
            "tags": []
          }
        }
      ]
    },
    {
      "cell_type": "markdown",
      "metadata": {
        "id": "hRPrS87VhDy2",
        "colab_type": "text"
      },
      "source": [
        "So, there's an improvement in performance. "
      ]
    },
    {
      "cell_type": "markdown",
      "metadata": {
        "id": "_SgIgdaVeW4T",
        "colab_type": "text"
      },
      "source": [
        "Here I'm trying with the pretrained model after unfreezing all the layers. "
      ]
    },
    {
      "cell_type": "code",
      "metadata": {
        "id": "vHr5aNoohn-0",
        "colab_type": "code",
        "colab": {
          "base_uri": "https://localhost:8080/",
          "height": 197
        },
        "outputId": "c6a0c9e9-ba0b-4043-a594-67b0ae14970b"
      },
      "source": [
        "learn = cnn_learner(data, models.resnet34, metrics=error_rate,callback_fns=ActivationStats)\n",
        "learn.unfreeze()\n",
        "learn.fit_one_cycle(5)"
      ],
      "execution_count": 58,
      "outputs": [
        {
          "output_type": "display_data",
          "data": {
            "text/html": [
              "<table border=\"1\" class=\"dataframe\">\n",
              "  <thead>\n",
              "    <tr style=\"text-align: left;\">\n",
              "      <th>epoch</th>\n",
              "      <th>train_loss</th>\n",
              "      <th>valid_loss</th>\n",
              "      <th>error_rate</th>\n",
              "      <th>time</th>\n",
              "    </tr>\n",
              "  </thead>\n",
              "  <tbody>\n",
              "    <tr>\n",
              "      <td>0</td>\n",
              "      <td>1.083959</td>\n",
              "      <td>0.751720</td>\n",
              "      <td>0.223275</td>\n",
              "      <td>02:06</td>\n",
              "    </tr>\n",
              "    <tr>\n",
              "      <td>1</td>\n",
              "      <td>1.021521</td>\n",
              "      <td>0.974534</td>\n",
              "      <td>0.249662</td>\n",
              "      <td>02:06</td>\n",
              "    </tr>\n",
              "    <tr>\n",
              "      <td>2</td>\n",
              "      <td>0.707196</td>\n",
              "      <td>0.559092</td>\n",
              "      <td>0.165088</td>\n",
              "      <td>02:07</td>\n",
              "    </tr>\n",
              "    <tr>\n",
              "      <td>3</td>\n",
              "      <td>0.366112</td>\n",
              "      <td>0.284102</td>\n",
              "      <td>0.085250</td>\n",
              "      <td>02:06</td>\n",
              "    </tr>\n",
              "    <tr>\n",
              "      <td>4</td>\n",
              "      <td>0.206789</td>\n",
              "      <td>0.238180</td>\n",
              "      <td>0.074425</td>\n",
              "      <td>02:06</td>\n",
              "    </tr>\n",
              "  </tbody>\n",
              "</table>"
            ],
            "text/plain": [
              "<IPython.core.display.HTML object>"
            ]
          },
          "metadata": {
            "tags": []
          }
        }
      ]
    },
    {
      "cell_type": "code",
      "metadata": {
        "colab_type": "code",
        "outputId": "f676cd31-08d0-4731-8c29-8fe3d229f555",
        "id": "CbbguLquaK0c",
        "colab": {
          "base_uri": "https://localhost:8080/",
          "height": 1000
        }
      },
      "source": [
        "learn = cnn_learner(data, models.resnet34, metrics=error_rate,callback_fns=[LSUV_HookCallBack,ActivationStats])\n",
        "learn.unfreeze()\n",
        "learn.fit_one_cycle(5)\n"
      ],
      "execution_count": 53,
      "outputs": [
        {
          "output_type": "stream",
          "text": [
            "0 Conv2d(3, 64, kernel_size=(7, 7), stride=(2, 2), padding=(3, 3), bias=False)\n",
            "0.5769408345222473\n",
            "1.0\n",
            "1 BatchNorm2d(64, eps=1e-05, momentum=0.1, affine=True, track_running_stats=True)\n",
            "0.34284520149230957\n",
            "0.6002209782600403\n",
            "0.9143491387367249\n",
            "0.9904356598854065\n",
            "0.9990493059158325\n",
            "2 Conv2d(64, 64, kernel_size=(3, 3), stride=(1, 1), padding=(1, 1), bias=False)\n",
            "1.887245535850525\n",
            "0.9999998211860657\n",
            "3 BatchNorm2d(64, eps=1e-05, momentum=0.1, affine=True, track_running_stats=True)\n",
            "0.40407055616378784\n",
            "0.9641643762588501\n",
            "0.9999256730079651\n",
            "4 Conv2d(64, 64, kernel_size=(3, 3), stride=(1, 1), padding=(1, 1), bias=False)\n",
            "1.379089117050171\n",
            "1.0\n",
            "5 BatchNorm2d(64, eps=1e-05, momentum=0.1, affine=True, track_running_stats=True)\n",
            "1.211487054824829\n",
            "0.9982249140739441\n",
            "1.0000133514404297\n",
            "6 Conv2d(64, 64, kernel_size=(3, 3), stride=(1, 1), padding=(1, 1), bias=False)\n",
            "1.8398405313491821\n",
            "0.9999998807907104\n",
            "7 BatchNorm2d(64, eps=1e-05, momentum=0.1, affine=True, track_running_stats=True)\n",
            "0.43092936277389526\n",
            "0.9945339560508728\n",
            "1.0000628232955933\n",
            "8 Conv2d(64, 64, kernel_size=(3, 3), stride=(1, 1), padding=(1, 1), bias=False)\n",
            "1.1029939651489258\n",
            "1.0\n",
            "9 BatchNorm2d(64, eps=1e-05, momentum=0.1, affine=True, track_running_stats=True)\n",
            "1.4528837203979492\n",
            "1.0015398263931274\n",
            "1.0000120401382446\n",
            "10 Conv2d(64, 64, kernel_size=(3, 3), stride=(1, 1), padding=(1, 1), bias=False)\n",
            "1.8491829633712769\n",
            "1.0\n",
            "11 BatchNorm2d(64, eps=1e-05, momentum=0.1, affine=True, track_running_stats=True)\n",
            "0.442448228597641\n",
            "0.980060875415802\n",
            "0.9998654723167419\n",
            "12 Conv2d(64, 64, kernel_size=(3, 3), stride=(1, 1), padding=(1, 1), bias=False)\n",
            "0.8444429039955139\n",
            "1.0\n",
            "13 BatchNorm2d(64, eps=1e-05, momentum=0.1, affine=True, track_running_stats=True)\n",
            "1.8265810012817383\n",
            "1.0117652416229248\n",
            "1.0003275871276855\n",
            "14 Conv2d(64, 128, kernel_size=(3, 3), stride=(2, 2), padding=(1, 1), bias=False)\n",
            "2.03498911857605\n",
            "1.0000001192092896\n",
            "15 BatchNorm2d(128, eps=1e-05, momentum=0.1, affine=True, track_running_stats=True)\n",
            "0.31507328152656555\n",
            "0.9824042320251465\n",
            "0.9999938607215881\n",
            "16 Conv2d(128, 128, kernel_size=(3, 3), stride=(1, 1), padding=(1, 1), bias=False)\n",
            "0.9389796853065491\n",
            "1.0\n",
            "17 BatchNorm2d(128, eps=1e-05, momentum=0.1, affine=True, track_running_stats=True)\n",
            "1.3581254482269287\n",
            "1.0036535263061523\n",
            "1.000053882598877\n",
            "18 Conv2d(64, 128, kernel_size=(1, 1), stride=(2, 2), bias=False)\n",
            "1.1794980764389038\n",
            "1.0\n",
            "19 BatchNorm2d(128, eps=1e-05, momentum=0.1, affine=True, track_running_stats=True)\n",
            "0.7723327875137329\n",
            "0.9992311596870422\n",
            "20 Conv2d(128, 128, kernel_size=(3, 3), stride=(1, 1), padding=(1, 1), bias=False)\n",
            "1.3334945440292358\n",
            "1.0\n",
            "21 BatchNorm2d(128, eps=1e-05, momentum=0.1, affine=True, track_running_stats=True)\n",
            "0.49961644411087036\n",
            "0.9957728981971741\n",
            "1.0000075101852417\n",
            "22 Conv2d(128, 128, kernel_size=(3, 3), stride=(1, 1), padding=(1, 1), bias=False)\n",
            "0.8189780712127686\n",
            "1.0\n",
            "23 BatchNorm2d(128, eps=1e-05, momentum=0.1, affine=True, track_running_stats=True)\n",
            "1.5197807550430298\n",
            "1.006188154220581\n",
            "1.0001275539398193\n",
            "24 Conv2d(128, 128, kernel_size=(3, 3), stride=(1, 1), padding=(1, 1), bias=False)\n",
            "1.0614343881607056\n",
            "0.9999998807907104\n",
            "25 BatchNorm2d(128, eps=1e-05, momentum=0.1, affine=True, track_running_stats=True)\n",
            "0.5479693412780762\n",
            "0.9893548488616943\n",
            "0.9998832941055298\n",
            "26 Conv2d(128, 128, kernel_size=(3, 3), stride=(1, 1), padding=(1, 1), bias=False)\n",
            "0.5102176070213318\n",
            "1.0000001192092896\n",
            "27 BatchNorm2d(128, eps=1e-05, momentum=0.1, affine=True, track_running_stats=True)\n",
            "1.8780525922775269\n",
            "1.0106420516967773\n",
            "1.0002655982971191\n",
            "28 Conv2d(128, 128, kernel_size=(3, 3), stride=(1, 1), padding=(1, 1), bias=False)\n",
            "1.0264039039611816\n",
            "1.0\n",
            "29 BatchNorm2d(128, eps=1e-05, momentum=0.1, affine=True, track_running_stats=True)\n",
            "0.5395600199699402\n",
            "0.9833028316497803\n",
            "0.9997051358222961\n",
            "30 Conv2d(128, 128, kernel_size=(3, 3), stride=(1, 1), padding=(1, 1), bias=False)\n",
            "0.2924600839614868\n",
            "1.0\n",
            "31 BatchNorm2d(128, eps=1e-05, momentum=0.1, affine=True, track_running_stats=True)\n",
            "2.6931233406066895\n",
            "1.0190811157226562\n",
            "1.0006619691848755\n",
            "32 Conv2d(128, 256, kernel_size=(3, 3), stride=(2, 2), padding=(1, 1), bias=False)\n",
            "1.6421653032302856\n",
            "1.0\n",
            "33 BatchNorm2d(256, eps=1e-05, momentum=0.1, affine=True, track_running_stats=True)\n",
            "0.4844458997249603\n",
            "0.9951544404029846\n",
            "0.9999904632568359\n",
            "34 Conv2d(256, 256, kernel_size=(3, 3), stride=(1, 1), padding=(1, 1), bias=False)\n",
            "1.023985743522644\n",
            "1.0\n",
            "35 BatchNorm2d(256, eps=1e-05, momentum=0.1, affine=True, track_running_stats=True)\n",
            "1.0142955780029297\n",
            "0.9999300241470337\n",
            "36 Conv2d(128, 256, kernel_size=(1, 1), stride=(2, 2), bias=False)\n",
            "0.6113302111625671\n",
            "0.9999998211860657\n",
            "37 BatchNorm2d(256, eps=1e-05, momentum=0.1, affine=True, track_running_stats=True)\n",
            "0.8489336967468262\n",
            "1.0000497102737427\n",
            "38 Conv2d(256, 256, kernel_size=(3, 3), stride=(1, 1), padding=(1, 1), bias=False)\n",
            "1.7952312231063843\n",
            "1.0000001192092896\n",
            "39 BatchNorm2d(256, eps=1e-05, momentum=0.1, affine=True, track_running_stats=True)\n",
            "0.485185444355011\n",
            "1.001772165298462\n",
            "0.9999931454658508\n",
            "40 Conv2d(256, 256, kernel_size=(3, 3), stride=(1, 1), padding=(1, 1), bias=False)\n",
            "0.8470602631568909\n",
            "1.0\n",
            "41 BatchNorm2d(256, eps=1e-05, momentum=0.1, affine=True, track_running_stats=True)\n",
            "1.6924631595611572\n",
            "1.009680986404419\n",
            "1.000239610671997\n",
            "42 Conv2d(256, 256, kernel_size=(3, 3), stride=(1, 1), padding=(1, 1), bias=False)\n",
            "1.1824718713760376\n",
            "1.0\n",
            "43 BatchNorm2d(256, eps=1e-05, momentum=0.1, affine=True, track_running_stats=True)\n",
            "0.5666624903678894\n",
            "0.9958846569061279\n",
            "0.9999866485595703\n",
            "44 Conv2d(256, 256, kernel_size=(3, 3), stride=(1, 1), padding=(1, 1), bias=False)\n",
            "0.7561158537864685\n",
            "0.9999998211860657\n",
            "45 BatchNorm2d(256, eps=1e-05, momentum=0.1, affine=True, track_running_stats=True)\n",
            "2.4418485164642334\n",
            "1.011934518814087\n",
            "1.0002546310424805\n",
            "46 Conv2d(256, 256, kernel_size=(3, 3), stride=(1, 1), padding=(1, 1), bias=False)\n",
            "1.3868579864501953\n",
            "0.9999998807907104\n",
            "47 BatchNorm2d(256, eps=1e-05, momentum=0.1, affine=True, track_running_stats=True)\n",
            "0.5338132381439209\n",
            "0.9772070646286011\n",
            "0.9994585514068604\n",
            "48 Conv2d(256, 256, kernel_size=(3, 3), stride=(1, 1), padding=(1, 1), bias=False)\n",
            "0.588593065738678\n",
            "1.0\n",
            "49 BatchNorm2d(256, eps=1e-05, momentum=0.1, affine=True, track_running_stats=True)\n",
            "2.945415735244751\n",
            "1.0188889503479004\n",
            "1.0005691051483154\n",
            "50 Conv2d(256, 256, kernel_size=(3, 3), stride=(1, 1), padding=(1, 1), bias=False)\n",
            "0.8925224542617798\n",
            "0.9999999403953552\n",
            "51 BatchNorm2d(256, eps=1e-05, momentum=0.1, affine=True, track_running_stats=True)\n",
            "0.5747259855270386\n",
            "0.9858834147453308\n",
            "0.999769389629364\n",
            "52 Conv2d(256, 256, kernel_size=(3, 3), stride=(1, 1), padding=(1, 1), bias=False)\n",
            "0.4838526248931885\n",
            "0.9999999403953552\n",
            "53 BatchNorm2d(256, eps=1e-05, momentum=0.1, affine=True, track_running_stats=True)\n",
            "3.3416378498077393\n",
            "1.004970908164978\n",
            "1.000049114227295\n",
            "54 Conv2d(256, 256, kernel_size=(3, 3), stride=(1, 1), padding=(1, 1), bias=False)\n",
            "1.1906929016113281\n",
            "0.9999998807907104\n",
            "55 BatchNorm2d(256, eps=1e-05, momentum=0.1, affine=True, track_running_stats=True)\n",
            "0.5491334199905396\n",
            "0.9933210611343384\n",
            "0.9999560713768005\n",
            "56 Conv2d(256, 256, kernel_size=(3, 3), stride=(1, 1), padding=(1, 1), bias=False)\n",
            "0.7049049139022827\n",
            "1.0\n",
            "57 BatchNorm2d(256, eps=1e-05, momentum=0.1, affine=True, track_running_stats=True)\n",
            "3.125408172607422\n",
            "1.0339945554733276\n",
            "1.001733660697937\n",
            "1.000091314315796\n",
            "58 Conv2d(256, 512, kernel_size=(3, 3), stride=(2, 2), padding=(1, 1), bias=False)\n",
            "0.8318072557449341\n",
            "1.0000001192092896\n",
            "59 BatchNorm2d(512, eps=1e-05, momentum=0.1, affine=True, track_running_stats=True)\n",
            "0.6461995244026184\n",
            "0.9994218945503235\n",
            "60 Conv2d(512, 512, kernel_size=(3, 3), stride=(1, 1), padding=(1, 1), bias=False)\n",
            "0.5431751608848572\n",
            "1.0\n",
            "61 BatchNorm2d(512, eps=1e-05, momentum=0.1, affine=True, track_running_stats=True)\n",
            "6.280345439910889\n",
            "1.0020203590393066\n",
            "1.0000076293945312\n",
            "62 Conv2d(256, 512, kernel_size=(1, 1), stride=(2, 2), bias=False)\n",
            "0.31155523657798767\n",
            "1.0\n",
            "63 BatchNorm2d(512, eps=1e-05, momentum=0.1, affine=True, track_running_stats=True)\n",
            "3.9478299617767334\n",
            "1.0014894008636475\n",
            "1.000004768371582\n",
            "64 Conv2d(512, 512, kernel_size=(3, 3), stride=(1, 1), padding=(1, 1), bias=False)\n",
            "1.3493316173553467\n",
            "0.9999999403953552\n",
            "65 BatchNorm2d(512, eps=1e-05, momentum=0.1, affine=True, track_running_stats=True)\n",
            "0.20537282526493073\n",
            "0.9973984956741333\n",
            "1.0000122785568237\n",
            "66 Conv2d(512, 512, kernel_size=(3, 3), stride=(1, 1), padding=(1, 1), bias=False)\n",
            "1.4060535430908203\n",
            "1.0\n",
            "67 BatchNorm2d(512, eps=1e-05, momentum=0.1, affine=True, track_running_stats=True)\n",
            "7.941849231719971\n",
            "1.0132335424423218\n",
            "1.0002269744873047\n",
            "68 Conv2d(512, 512, kernel_size=(3, 3), stride=(1, 1), padding=(1, 1), bias=False)\n",
            "2.1397502422332764\n",
            "1.0000001192092896\n",
            "69 BatchNorm2d(512, eps=1e-05, momentum=0.1, affine=True, track_running_stats=True)\n",
            "0.16130878031253815\n",
            "0.9462954998016357\n",
            "0.9999901652336121\n",
            "70 Conv2d(512, 512, kernel_size=(3, 3), stride=(1, 1), padding=(1, 1), bias=False)\n",
            "0.5538089871406555\n",
            "1.0\n",
            "71 BatchNorm2d(512, eps=1e-05, momentum=0.1, affine=True, track_running_stats=True)\n",
            "16.44196891784668\n",
            "0.9985827803611755\n",
            "1.0000005960464478\n",
            "72 BatchNorm1d(1024, eps=1e-05, momentum=0.1, affine=True, track_running_stats=True)\n",
            "0.9992862939834595\n",
            "73 Linear(in_features=1024, out_features=512, bias=True)\n",
            "1.6378793716430664\n",
            "1.0036594867706299\n",
            "1.0016071796417236\n",
            "0.9981861710548401\n",
            "1.009474277496338\n",
            "1.0039435625076294\n",
            "1.001566767692566\n",
            "0.9866389036178589\n",
            "0.9954992532730103\n",
            "1.0043610334396362\n",
            "0.9928909540176392\n",
            "1.0027527809143066\n",
            "1.009250283241272\n",
            "0.9930878281593323\n",
            "0.9963399767875671\n",
            "0.9919171333312988\n",
            "0.9941561222076416\n",
            "1.000535011291504\n",
            "0.9931098222732544\n",
            "0.9815129637718201\n",
            "1.0117895603179932\n",
            "0.9955781102180481\n",
            "1.0071488618850708\n",
            "1.001577615737915\n",
            "1.0021482706069946\n",
            "1.0106366872787476\n",
            "1.0077463388442993\n",
            "0.9870316982269287\n",
            "0.9960896372795105\n",
            "0.9933983683586121\n",
            "1.001228928565979\n",
            "0.9978216290473938\n",
            "0.9987911581993103\n",
            "74 BatchNorm1d(512, eps=1e-05, momentum=0.1, affine=True, track_running_stats=True)\n",
            "1.0000126361846924\n",
            "75 Linear(in_features=512, out_features=37, bias=True)\n",
            "1.9725539684295654\n",
            "0.9828175902366638\n",
            "0.9749446511268616\n",
            "1.0206623077392578\n",
            "1.0302680730819702\n",
            "0.9850491285324097\n",
            "1.033495545387268\n",
            "0.9886801838874817\n"
          ],
          "name": "stdout"
        },
        {
          "output_type": "display_data",
          "data": {
            "text/html": [
              "<table border=\"1\" class=\"dataframe\">\n",
              "  <thead>\n",
              "    <tr style=\"text-align: left;\">\n",
              "      <th>epoch</th>\n",
              "      <th>train_loss</th>\n",
              "      <th>valid_loss</th>\n",
              "      <th>error_rate</th>\n",
              "      <th>time</th>\n",
              "    </tr>\n",
              "  </thead>\n",
              "  <tbody>\n",
              "    <tr>\n",
              "      <td>0</td>\n",
              "      <td>1.451866</td>\n",
              "      <td>1.066247</td>\n",
              "      <td>0.315291</td>\n",
              "      <td>02:08</td>\n",
              "    </tr>\n",
              "    <tr>\n",
              "      <td>1</td>\n",
              "      <td>1.142663</td>\n",
              "      <td>0.960697</td>\n",
              "      <td>0.281461</td>\n",
              "      <td>02:06</td>\n",
              "    </tr>\n",
              "    <tr>\n",
              "      <td>2</td>\n",
              "      <td>0.787331</td>\n",
              "      <td>0.534274</td>\n",
              "      <td>0.170501</td>\n",
              "      <td>02:05</td>\n",
              "    </tr>\n",
              "    <tr>\n",
              "      <td>3</td>\n",
              "      <td>0.454550</td>\n",
              "      <td>0.329617</td>\n",
              "      <td>0.095399</td>\n",
              "      <td>02:06</td>\n",
              "    </tr>\n",
              "    <tr>\n",
              "      <td>4</td>\n",
              "      <td>0.221876</td>\n",
              "      <td>0.284569</td>\n",
              "      <td>0.083221</td>\n",
              "      <td>02:07</td>\n",
              "    </tr>\n",
              "  </tbody>\n",
              "</table>"
            ],
            "text/plain": [
              "<IPython.core.display.HTML object>"
            ]
          },
          "metadata": {
            "tags": []
          }
        }
      ]
    },
    {
      "cell_type": "markdown",
      "metadata": {
        "colab_type": "text",
        "id": "7q0s9OyXaK0m"
      },
      "source": [
        "Let's checkout the mean and std for the activations. X Axis defines the layer number. "
      ]
    },
    {
      "cell_type": "code",
      "metadata": {
        "colab_type": "code",
        "id": "FYscNymzaK0o",
        "colab": {}
      },
      "source": [
        "layers_len = len(learn.activation_stats.modules)\n",
        "\n",
        "means = [learn.activation_stats.stats[0][i].mean() for i in range(layers_len)]\n",
        "stds = [learn.activation_stats.stats[1][i].mean() for i in range(layers_len)]"
      ],
      "execution_count": 0,
      "outputs": []
    },
    {
      "cell_type": "code",
      "metadata": {
        "colab_type": "code",
        "outputId": "98e7ede1-1638-4f04-864c-6189a2c7008a",
        "id": "2lsGnTizaK0v",
        "colab": {
          "base_uri": "https://localhost:8080/",
          "height": 282
        }
      },
      "source": [
        "plt.plot(means)"
      ],
      "execution_count": 55,
      "outputs": [
        {
          "output_type": "execute_result",
          "data": {
            "text/plain": [
              "[<matplotlib.lines.Line2D at 0x7fcf9663f240>]"
            ]
          },
          "metadata": {
            "tags": []
          },
          "execution_count": 55
        },
        {
          "output_type": "display_data",
          "data": {
            "image/png": "[encoded data removed]",
            "text/plain": [
              "<Figure size 432x288 with 1 Axes>"
            ]
          },
          "metadata": {
            "tags": []
          }
        }
      ]
    },
    {
      "cell_type": "code",
      "metadata": {
        "colab_type": "code",
        "outputId": "70a15a22-2c15-48ae-bfb8-11835dbe008e",
        "id": "DqFapNL7aK03",
        "colab": {
          "base_uri": "https://localhost:8080/",
          "height": 282
        }
      },
      "source": [
        "plt.plot(stds)"
      ],
      "execution_count": 56,
      "outputs": [
        {
          "output_type": "execute_result",
          "data": {
            "text/plain": [
              "[<matplotlib.lines.Line2D at 0x7fcf97b3e898>]"
            ]
          },
          "metadata": {
            "tags": []
          },
          "execution_count": 56
        },
        {
          "output_type": "display_data",
          "data": {
            "image/png": "[encoded data removed]",
            "text/plain": [
              "<Figure size 432x288 with 1 Axes>"
            ]
          },
          "metadata": {
            "tags": []
          }
        }
      ]
    },
    {
      "cell_type": "code",
      "metadata": {
        "id": "gF12-7HDhidE",
        "colab_type": "code",
        "colab": {}
      },
      "source": [
        ""
      ],
      "execution_count": 0,
      "outputs": []
    },
    {
      "cell_type": "markdown",
      "metadata": {
        "id": "X6V7-_mohhy-",
        "colab_type": "text"
      },
      "source": [
        "Below are a few more experiments I tried. A couple of variations of the LSUV modue. For example changing the factor the variance is being multiplied with etc. "
      ]
    },
    {
      "cell_type": "code",
      "metadata": {
        "id": "Z-RGn_gAOH__",
        "colab_type": "code",
        "colab": {}
      },
      "source": [
        "\n",
        "import math \n",
        "class LSUV_HookCallBack_Sqrt(HookCallback):\n",
        "\n",
        "    def on_train_begin(self, **kwargs):\n",
        "        \"Register the `Hooks` on `self.modules`.\"\n",
        "\n",
        "        super().on_train_begin(**kwargs)\n",
        "        self.xb, self.yb = self.learn.data.one_batch()\n",
        "        self.xb = self.xb.cuda()\n",
        "\n",
        "\n",
        "        self.stats = {}\n",
        "\n",
        "        for idx,(mod,hook) in enumerate(zip(self.modules, self.hooks)):\n",
        "          self.stats[idx] = []\n",
        "          _ = self.learn.model(self.xb)\n",
        "          self.stats[idx].append(hook.stored[1])\n",
        "          print(idx)\n",
        "          print(hook.stored[1])\n",
        "          \n",
        "          while self.learn.model(self.xb) is not None and abs(hook.stored[1]-1) > 1e-3:\n",
        "            mod.weight.data /= math.sqrt(hook.stored[1])\n",
        "            _ = self.learn.model(self.xb)\n",
        "            print(hook.stored[1])\n",
        "            self.stats[idx].append(hook.stored[1])\n",
        "\n",
        "            \n",
        "      \n",
        "    def hook(self, m:nn.Module, i:Tensors, o:Tensors)->Tuple[Rank0Tensor,Rank0Tensor]:\n",
        "        \"Take the mean and std of `o`.\"\n",
        "        return o.mean().item(),o.std().item()\n",
        "\n",
        "\n",
        "\n",
        "class LSUV_HookCallBack_Sq(HookCallback):\n",
        "\n",
        "    def on_train_begin(self, **kwargs):\n",
        "        \"Register the `Hooks` on `self.modules`.\"\n",
        "\n",
        "        super().on_train_begin(**kwargs)\n",
        "        self.xb, self.yb = self.learn.data.one_batch()\n",
        "        self.xb = self.xb.cuda()\n",
        "\n",
        "\n",
        "        self.stats = {}\n",
        "\n",
        "        for idx,(mod,hook) in enumerate(zip(self.modules, self.hooks)):\n",
        "          self.stats[idx] = []\n",
        "          _ = self.learn.model(self.xb)\n",
        "          self.stats[idx].append(hook.stored[1])\n",
        "          print(idx)\n",
        "          print(hook.stored[1])\n",
        "          \n",
        "          while self.learn.model(self.xb) is not None and abs(hook.stored[1]-1) > 1e-3:\n",
        "            mod.weight.data /= math.pow(hook.stored[1],2)\n",
        "            _ = self.learn.model(self.xb)\n",
        "            print(hook.stored[1])\n",
        "            self.stats[idx].append(hook.stored[1])\n",
        "\n",
        "            \n",
        "      \n",
        "    def hook(self, m:nn.Module, i:Tensors, o:Tensors)->Tuple[Rank0Tensor,Rank0Tensor]:\n",
        "        \"Take the mean and std of `o`.\"\n",
        "        return o.mean().item(),o.std().item()\n",
        "\n",
        "\n",
        "\n",
        "class LSUV_HookCallBack_Sq(HookCallback):\n",
        "\n",
        "    def on_train_begin(self, **kwargs):\n",
        "        \"Register the `Hooks` on `self.modules`.\"\n",
        "\n",
        "        super().on_train_begin(**kwargs)\n",
        "        self.xb, self.yb = self.learn.data.one_batch()\n",
        "        self.xb = self.xb.cuda()\n",
        "\n",
        "\n",
        "        self.stats = {}\n",
        "\n",
        "        for idx,(mod,hook) in enumerate(zip(self.modules, self.hooks)):\n",
        "          self.stats[idx] = []\n",
        "          _ = self.learn.model(self.xb)\n",
        "          self.stats[idx].append(hook.stored[1])\n",
        "          print(idx)\n",
        "          print(hook.stored[1])\n",
        "          \n",
        "          while self.learn.model(self.xb) is not None and abs(hook.stored[1]-1) > 1e-3:\n",
        "            mod.weight.data /= math.pow(hook.stored[1],1.5)\n",
        "            _ = self.learn.model(self.xb)\n",
        "            print(hook.stored[1])\n",
        "            self.stats[idx].append(hook.stored[1])\n",
        "\n",
        "            \n",
        "      \n",
        "    def hook(self, m:nn.Module, i:Tensors, o:Tensors)->Tuple[Rank0Tensor,Rank0Tensor]:\n",
        "        \"Take the mean and std of `o`.\"\n",
        "        return o.mean().item(),o.std().item()\n",
        "\n",
        "class LSUV_HookCallBack_xx(HookCallback):\n",
        "\n",
        "    def on_train_begin(self, **kwargs):\n",
        "        \"Register the `Hooks` on `self.modules`.\"\n",
        "\n",
        "        super().on_train_begin(**kwargs)\n",
        "        self.xb, self.yb = self.learn.data.one_batch()\n",
        "        self.xb = self.xb.cuda()\n",
        "\n",
        "\n",
        "        self.stats = {}\n",
        "\n",
        "        for idx,(mod,hook) in enumerate(zip(self.modules, self.hooks)):\n",
        "          self.stats[idx] = []\n",
        "          _ = self.learn.model(self.xb)\n",
        "          self.stats[idx].append(hook.stored[1])\n",
        "          print(idx)\n",
        "          print(hook.stored[1])\n",
        "          \n",
        "          while self.learn.model(self.xb) is not None and abs(hook.stored[1]-1) > 1e-3:\n",
        "            mod.weight.data /= hook.stored[1]*2\n",
        "            _ = self.learn.model(self.xb)\n",
        "            print(hook.stored[1])\n",
        "            self.stats[idx].append(hook.stored[1])\n",
        "\n",
        "            \n",
        "      \n",
        "    def hook(self, m:nn.Module, i:Tensors, o:Tensors)->Tuple[Rank0Tensor,Rank0Tensor]:\n",
        "        \"Take the mean and std of `o`.\"\n",
        "        return o.mean().item(),o.std().item()\n",
        "\n",
        "\n",
        "class LSUV_HookCallBack_xxx(HookCallback):\n",
        "\n",
        "    def on_train_begin(self, **kwargs):\n",
        "        \"Register the `Hooks` on `self.modules`.\"\n",
        "\n",
        "        super().on_train_begin(**kwargs)\n",
        "        self.xb, self.yb = self.learn.data.one_batch()\n",
        "        self.xb = self.xb.cuda()\n",
        "\n",
        "\n",
        "        self.stats = {}\n",
        "\n",
        "        for idx,(mod,hook) in enumerate(zip(self.modules, self.hooks)):\n",
        "          self.stats[idx] = []\n",
        "          _ = self.learn.model(self.xb)\n",
        "          self.stats[idx].append(hook.stored[1])\n",
        "          print(idx)\n",
        "          print(hook.stored[1])\n",
        "          \n",
        "          while self.learn.model(self.xb) is not None and abs(hook.stored[1]-1) > 1e-3:\n",
        "            mod.weight.data /= hook.stored[1]*3\n",
        "            _ = self.learn.model(self.xb)\n",
        "            print(hook.stored[1])\n",
        "            self.stats[idx].append(hook.stored[1])\n",
        "\n",
        "            \n",
        "      \n",
        "    def hook(self, m:nn.Module, i:Tensors, o:Tensors)->Tuple[Rank0Tensor,Rank0Tensor]:\n",
        "        \"Take the mean and std of `o`.\"\n",
        "        return o.mean().item(),o.std().item()\n",
        "\n",
        "\n",
        "class LSUV_HookCallBack_idx(HookCallback):\n",
        "\n",
        "    def on_train_begin(self, **kwargs):\n",
        "        \"Register the `Hooks` on `self.modules`.\"\n",
        "\n",
        "        super().on_train_begin(**kwargs)\n",
        "        self.xb, self.yb = self.learn.data.one_batch()\n",
        "        self.xb = self.xb.cuda()\n",
        "\n",
        "\n",
        "        self.stats = {}\n",
        "\n",
        "        for idx,(mod,hook) in enumerate(zip(self.modules, self.hooks)):\n",
        "          self.stats[idx] = []\n",
        "          _ = self.learn.model(self.xb)\n",
        "          self.stats[idx].append(hook.stored[1])\n",
        "          print(idx)\n",
        "          print(hook.stored[1])\n",
        "          \n",
        "          while self.learn.model(self.xb) is not None and abs(hook.stored[1]-1) > 1e-3:\n",
        "            mod.weight.data /= hook.stored[1]*idx\n",
        "            _ = self.learn.model(self.xb)\n",
        "            print(hook.stored[1])\n",
        "            self.stats[idx].append(hook.stored[1])\n",
        "\n",
        "            \n",
        "      \n",
        "    def hook(self, m:nn.Module, i:Tensors, o:Tensors)->Tuple[Rank0Tensor,Rank0Tensor]:\n",
        "        \"Take the mean and std of `o`.\"\n",
        "        return o.mean().item(),o.std().item()\n",
        "        \n"
      ],
      "execution_count": 0,
      "outputs": []
    },
    {
      "cell_type": "code",
      "metadata": {
        "colab_type": "code",
        "outputId": "ce57c5c1-907f-4228-ba6e-7d421c35694b",
        "id": "6HUZlPuZjG4d",
        "colab": {
          "base_uri": "https://localhost:8080/",
          "height": 1000
        }
      },
      "source": [
        "\n",
        "learn = cnn_learner(data, models.resnet34, metrics=error_rate,callback_fns=[LSUV_HookCallBack_Sqrt,ActivationStats])\n",
        "learn.fit_one_cycle(1)\n",
        "\n"
      ],
      "execution_count": 0,
      "outputs": [
        {
          "output_type": "stream",
          "text": [
            "0\n",
            "0.5965524315834045\n",
            "0.7723680138587952\n",
            "0.8788447976112366\n",
            "0.9374671578407288\n",
            "0.9682287573814392\n",
            "0.9839861989021301\n",
            "0.991960883140564\n",
            "0.9959722757339478\n",
            "0.9979841709136963\n",
            "0.9989916086196899\n",
            "0.9994957447052002\n",
            "1\n",
            "0.7001799941062927\n",
            "0.8367675542831421\n",
            "0.9147499799728394\n",
            "0.9564257264137268\n",
            "0.9779701232910156\n",
            "0.9889237284660339\n",
            "0.9944465160369873\n",
            "0.9972193241119385\n",
            "0.9986087679862976\n",
            "0.9993041753768921\n",
            "2\n",
            "0.2344624251127243\n",
            "0.4842131733894348\n",
            "0.6958543658256531\n",
            "0.8341788053512573\n",
            "0.9133339524269104\n",
            "0.955685019493103\n",
            "0.9775913953781128\n",
            "0.9887322187423706\n",
            "0.9943501353263855\n",
            "0.9971710443496704\n",
            "0.9985846281051636\n",
            "0.9992920160293579\n",
            "3\n",
            "1.0453519821166992\n",
            "1.022424578666687\n",
            "1.0111501216888428\n",
            "1.0055595636367798\n",
            "1.0027761459350586\n",
            "1.0013870000839233\n",
            "1.0006933212280273\n",
            "4\n",
            "0.1944638043642044\n",
            "0.4409804940223694\n",
            "0.664063572883606\n",
            "0.8149011135101318\n",
            "0.9027186036109924\n",
            "0.9501151442527771\n",
            "0.9747385382652283\n",
            "0.9872885346412659\n",
            "0.9936239719390869\n",
            "0.9968069791793823\n",
            "0.9984021782875061\n",
            "0.9992007613182068\n",
            "5\n",
            "1.4399609565734863\n",
            "1.1999835968017578\n",
            "1.09543776512146\n",
            "1.0466315746307373\n",
            "1.02305006980896\n",
            "1.011459469795227\n",
            "1.0057133436203003\n",
            "1.0028526782989502\n",
            "1.0014253854751587\n",
            "1.000712513923645\n",
            "6\n",
            "0.23054511845111847\n",
            "0.48015114665031433\n",
            "0.6929293870925903\n",
            "0.8324238061904907\n",
            "0.9123725295066833\n",
            "0.955181896686554\n",
            "0.9773340225219727\n",
            "0.9886021018028259\n",
            "0.9942846894264221\n",
            "0.9971382021903992\n",
            "0.9985681176185608\n",
            "0.9992837905883789\n",
            "7\n",
            "2.484663963317871\n",
            "1.5762817859649658\n",
            "1.2555005550384521\n",
            "1.1204911470413208\n",
            "1.0585325956344604\n",
            "1.0288500785827637\n",
            "1.0143224000930786\n",
            "1.0071356296539307\n",
            "1.0035616159439087\n",
            "1.0017791986465454\n",
            "1.0008893013000488\n",
            "8\n",
            "0.2873626947402954\n",
            "0.5360621809959412\n",
            "0.7321626543998718\n",
            "0.8556650280952454\n",
            "0.9250215888023376\n",
            "0.9617803692817688\n",
            "0.9807040691375732\n",
            "0.9903050065040588\n",
            "0.9951407313346863\n",
            "0.997567355632782\n",
            "0.9987829923629761\n",
            "0.9993910789489746\n",
            "9\n",
            "1.3306928873062134\n",
            "1.1535565853118896\n",
            "1.0740376710891724\n",
            "1.0363578796386719\n",
            "1.0180166959762573\n",
            "1.0089679956436157\n",
            "1.0044740438461304\n",
            "1.0022343397140503\n",
            "1.0011166334152222\n",
            "1.0005581378936768\n",
            "10\n",
            "1.2989320755004883\n",
            "1.139707088470459\n",
            "1.0675705671310425\n",
            "1.0332330465316772\n",
            "1.016480803489685\n",
            "1.0082067251205444\n",
            "1.0040949583053589\n",
            "1.0020453929901123\n",
            "1.001022219657898\n",
            "1.0005109310150146\n",
            "11\n",
            "0.26562339067459106\n",
            "0.515386700630188\n",
            "0.7179043292999268\n",
            "0.8472923040390015\n",
            "0.9204847812652588\n",
            "0.9594190120697021\n",
            "0.9794992804527283\n",
            "0.9896965622901917\n",
            "0.9948348999023438\n",
            "0.9974139928817749\n",
            "0.9987061619758606\n",
            "0.9993529915809631\n",
            "12\n",
            "1.0928491353988647\n",
            "1.0453943014144897\n",
            "1.0224452018737793\n",
            "1.0111603736877441\n",
            "1.0055646896362305\n",
            "1.0027785301208496\n",
            "1.0013880729675293\n",
            "1.0006937980651855\n",
            "13\n",
            "0.3049496114253998\n",
            "0.5522224307060242\n",
            "0.7431166768074036\n",
            "0.8620421886444092\n",
            "0.9284623265266418\n",
            "0.9635674357414246\n",
            "0.9816147089004517\n",
            "0.9907647371292114\n",
            "0.9953715801239014\n",
            "0.9976831674575806\n",
            "0.9988409280776978\n",
            "0.9994202852249146\n",
            "14\n",
            "1.4492560625076294\n",
            "1.2038506269454956\n",
            "1.0972011089324951\n",
            "1.0474737882614136\n",
            "1.0234615802764893\n",
            "1.0116628408432007\n",
            "1.0058144330978394\n",
            "1.0029031038284302\n",
            "1.0014504194259644\n",
            "1.0007250308990479\n",
            "15\n",
            "0.14881213009357452\n",
            "0.3857617676258087\n",
            "0.6210971474647522\n",
            "0.7880972027778625\n",
            "0.8877484202384949\n",
            "0.9422039985656738\n",
            "0.9706718921661377\n",
            "0.9852269291877747\n",
            "0.9925858974456787\n",
            "0.9962860345840454\n",
            "0.998141348361969\n",
            "0.9990702867507935\n",
            "16\n",
            "2.7332303524017334\n",
            "1.65324866771698\n",
            "1.2857871055603027\n",
            "1.133925437927246\n",
            "1.064859390258789\n",
            "1.031920313835144\n",
            "1.0158348083496094\n",
            "1.007886290550232\n",
            "1.0039353370666504\n",
            "1.0019657611846924\n",
            "1.0009822845458984\n",
            "17\n",
            "0.42670103907585144\n",
            "0.6532236337661743\n",
            "0.8082224726676941\n",
            "0.8990119099617004\n",
            "0.948162317276001\n",
            "0.9737361669540405\n",
            "0.9867808222770691\n",
            "0.99336838722229\n",
            "0.9966785907745361\n",
            "0.998337984085083\n",
            "0.9991688132286072\n",
            "18\n",
            "1.0229697227478027\n",
            "1.0114195346832275\n",
            "1.0056935548782349\n",
            "1.002842664718628\n",
            "1.001420259475708\n",
            "1.000709891319275\n",
            "19\n",
            "1.7423444986343384\n",
            "1.3199788331985474\n",
            "1.1489033699035645\n",
            "1.071869134902954\n",
            "1.035311222076416\n",
            "1.0175025463104248\n",
            "1.0087131261825562\n",
            "1.0043472051620483\n",
            "1.002171277999878\n",
            "1.0010850429534912\n",
            "1.0005422830581665\n",
            "20\n",
            "0.3014698922634125\n",
            "0.5490626692771912\n",
            "0.7409876585006714\n",
            "0.860806405544281\n",
            "0.9277966022491455\n",
            "0.9632219672203064\n",
            "0.9814385771751404\n",
            "0.9906760454177856\n",
            "0.9953269958496094\n",
            "0.997660756111145\n",
            "0.9988297820091248\n",
            "0.9994145631790161\n",
            "21\n",
            "1.43755042552948\n",
            "1.1989789009094238\n",
            "1.094978928565979\n",
            "1.0464123487472534\n",
            "1.0229429006576538\n",
            "1.0114065408706665\n",
            "1.0056869983673096\n",
            "1.0028395652770996\n",
            "1.0014187097549438\n",
            "1.000709056854248\n",
            "22\n",
            "0.3343730866909027\n",
            "0.578249990940094\n",
            "0.7604274153709412\n",
            "0.8720249533653259\n",
            "0.9338228106498718\n",
            "0.9663450121879578\n",
            "0.9830284714698792\n",
            "0.9914779663085938\n",
            "0.9957298636436462\n",
            "0.9978625774383545\n",
            "0.9989308714866638\n",
            "0.99946528673172\n",
            "23\n",
            "2.402620553970337\n",
            "1.5500389337539673\n",
            "1.245005488395691\n",
            "1.1157982349395752\n",
            "1.0563135147094727\n",
            "1.0277711153030396\n",
            "1.013790488243103\n",
            "1.0068715810775757\n",
            "1.0034300088882446\n",
            "1.001713514328003\n",
            "1.0008563995361328\n",
            "24\n",
            "0.2602863013744354\n",
            "0.5101825594902039\n",
            "0.7142707109451294\n",
            "0.8451453447341919\n",
            "0.9193178415298462\n",
            "0.9588106870651245\n",
            "0.9791887402534485\n",
            "0.9895397424697876\n",
            "0.9947560429573059\n",
            "0.9973744750022888\n",
            "0.9986864924430847\n",
            "0.9993429183959961\n",
            "25\n",
            "1.2768388986587524\n",
            "1.1299729347229004\n",
            "1.0630017518997192\n",
            "1.031019926071167\n",
            "1.0153913497924805\n",
            "1.0076663494110107\n",
            "1.0038259029388428\n",
            "1.0019110441207886\n",
            "1.0009551048278809\n",
            "26\n",
            "0.22129319608211517\n",
            "0.47041815519332886\n",
            "0.685870349407196\n",
            "0.8281729221343994\n",
            "0.9100401401519775\n",
            "0.9539602398872375\n",
            "0.9767088294029236\n",
            "0.9882858991622925\n",
            "0.9941256642341614\n",
            "0.9970584511756897\n",
            "0.998528242111206\n",
            "0.9992637634277344\n",
            "27\n",
            "3.1730563640594482\n",
            "1.7813074588775635\n",
            "1.3346563577651978\n",
            "1.1552733182907104\n",
            "1.0748363733291626\n",
            "1.0367431640625\n",
            "1.0182057619094849\n",
            "1.0090619325637817\n",
            "1.0045206546783447\n",
            "1.0022577047348022\n",
            "1.0011281967163086\n",
            "1.0005639791488647\n",
            "28\n",
            "0.4489915668964386\n",
            "0.6700682640075684\n",
            "0.8185771107673645\n",
            "0.9047525525093079\n",
            "0.9511848092079163\n",
            "0.975287139415741\n",
            "0.9875662922859192\n",
            "0.9937636852264404\n",
            "0.9968769550323486\n",
            "0.9984372854232788\n",
            "0.999218225479126\n",
            "29\n",
            "1.951348900794983\n",
            "1.396906852722168\n",
            "1.181908130645752\n",
            "1.0871559381484985\n",
            "1.0426676273345947\n",
            "1.021111011505127\n",
            "1.010500431060791\n",
            "1.0052363872528076\n",
            "1.0026147365570068\n",
            "1.0013066530227661\n",
            "1.0006531476974487\n",
            "30\n",
            "0.3518100678920746\n",
            "0.5931357145309448\n",
            "0.7701529860496521\n",
            "0.8775836825370789\n",
            "0.9367943406105042\n",
            "0.9678813219070435\n",
            "0.9838095903396606\n",
            "0.99187171459198\n",
            "0.9959275722503662\n",
            "0.997961699962616\n",
            "0.9989804625511169\n",
            "0.999489963054657\n",
            "31\n",
            "0.8355040550231934\n",
            "0.9140591025352478\n",
            "0.9560643434524536\n",
            "0.9777854084968567\n",
            "0.9888302683830261\n",
            "0.9943995475769043\n",
            "0.9971957802772522\n",
            "0.9985969662666321\n",
            "0.9992983341217041\n",
            "32\n",
            "7.853302001953125\n",
            "2.8023743629455566\n",
            "1.6740293502807617\n",
            "1.2938426733016968\n",
            "1.137472152709961\n",
            "1.0665233135223389\n",
            "1.0327261686325073\n",
            "1.0162314176559448\n",
            "1.0080831050872803\n",
            "1.0040333271026611\n",
            "1.0020146369934082\n",
            "1.001006841659546\n",
            "1.0005031824111938\n",
            "33\n",
            "0.11084868013858795\n",
            "0.332939475774765\n",
            "0.5770090222358704\n",
            "0.7596111297607422\n",
            "0.8715567588806152\n",
            "0.9335721135139465\n",
            "0.9662153720855713\n",
            "0.9829624891281128\n",
            "0.9914448857307434\n",
            "0.9957131743431091\n",
            "0.9978542327880859\n",
            "0.99892657995224\n",
            "0.9994632601737976\n",
            "34\n",
            "15.14503002166748\n",
            "3.8916611671447754\n",
            "1.9727294445037842\n",
            "1.404538869857788\n",
            "1.1851325035095215\n",
            "1.0886379480361938\n",
            "1.0433781147003174\n",
            "1.0214588642120361\n",
            "1.0106724500656128\n",
            "1.0053220987319946\n",
            "1.0026575326919556\n",
            "1.0013278722763062\n",
            "1.0006636381149292\n",
            "35\n",
            "0.040659014135599136\n",
            "0.201640784740448\n",
            "0.4490443468093872\n",
            "0.6701076626777649\n",
            "0.8186012506484985\n",
            "0.9047658443450928\n",
            "0.9511918425559998\n",
            "0.9752904176712036\n",
            "0.9875679612159729\n",
            "0.9937645792961121\n",
            "0.9968773722648621\n",
            "0.9984374642372131\n",
            "0.9992185831069946\n"
          ],
          "name": "stdout"
        },
        {
          "output_type": "display_data",
          "data": {
            "text/html": [
              "<table border=\"1\" class=\"dataframe\">\n",
              "  <thead>\n",
              "    <tr style=\"text-align: left;\">\n",
              "      <th>epoch</th>\n",
              "      <th>train_loss</th>\n",
              "      <th>valid_loss</th>\n",
              "      <th>error_rate</th>\n",
              "      <th>time</th>\n",
              "    </tr>\n",
              "  </thead>\n",
              "  <tbody>\n",
              "    <tr>\n",
              "      <td>0</td>\n",
              "      <td>0.736851</td>\n",
              "      <td>0.307038</td>\n",
              "      <td>0.096752</td>\n",
              "      <td>02:19</td>\n",
              "    </tr>\n",
              "  </tbody>\n",
              "</table>"
            ],
            "text/plain": [
              "<IPython.core.display.HTML object>"
            ]
          },
          "metadata": {
            "tags": []
          }
        }
      ]
    },
    {
      "cell_type": "code",
      "metadata": {
        "id": "VTOloaaDpvxl",
        "colab_type": "code",
        "colab": {}
      },
      "source": [
        ""
      ],
      "execution_count": 0,
      "outputs": []
    },
    {
      "cell_type": "code",
      "metadata": {
        "colab_type": "code",
        "id": "7fS5E-bT0TKL",
        "colab": {}
      },
      "source": [
        "means = [learn.activation_stats.stats[0][i].mean() for i in range(36)]\n",
        "stds = [learn.activation_stats.stats[1][i].mean() for i in range(36)]"
      ],
      "execution_count": 0,
      "outputs": []
    },
    {
      "cell_type": "code",
      "metadata": {
        "colab_type": "code",
        "id": "x7-6E9BO0TKQ",
        "outputId": "589fab5f-fa0a-4a10-8c05-7680fe21f203",
        "colab": {
          "base_uri": "https://localhost:8080/",
          "height": 286
        }
      },
      "source": [
        "plt.plot(means)"
      ],
      "execution_count": 0,
      "outputs": [
        {
          "output_type": "execute_result",
          "data": {
            "text/plain": [
              "[<matplotlib.lines.Line2D at 0x7fb5e19e6a58>]"
            ]
          },
          "metadata": {
            "tags": []
          },
          "execution_count": 91
        },
        {
          "output_type": "display_data",
          "data": {
            "image/png": "[encoded data removed]",
            "text/plain": [
              "<Figure size 432x288 with 1 Axes>"
            ]
          },
          "metadata": {
            "tags": []
          }
        }
      ]
    },
    {
      "cell_type": "code",
      "metadata": {
        "colab_type": "code",
        "id": "iURG-YR50TKS",
        "outputId": "7e8b9daf-b4ea-4f12-d063-26ed1fde6b0e",
        "colab": {
          "base_uri": "https://localhost:8080/",
          "height": 286
        }
      },
      "source": [
        "plt.plot(stds)"
      ],
      "execution_count": 0,
      "outputs": [
        {
          "output_type": "execute_result",
          "data": {
            "text/plain": [
              "[<matplotlib.lines.Line2D at 0x7fb5cd71e550>]"
            ]
          },
          "metadata": {
            "tags": []
          },
          "execution_count": 92
        },
        {
          "output_type": "display_data",
          "data": {
            "image/png": "[encoded data removed]",
            "text/plain": [
              "<Figure size 432x288 with 1 Axes>"
            ]
          },
          "metadata": {
            "tags": []
          }
        }
      ]
    },
    {
      "cell_type": "code",
      "metadata": {
        "id": "LL2l2motpvvf",
        "colab_type": "code",
        "outputId": "0d010cb4-ec93-4261-e644-262190674838",
        "colab": {
          "base_uri": "https://localhost:8080/",
          "height": 1000
        }
      },
      "source": [
        "\n",
        "learn = cnn_learner(data, models.resnet34, metrics=error_rate,callback_fns=[LSUV_HookCallBack_Sq,ActivationStats])\n",
        "learn.fit_one_cycle(1)\n",
        "\n"
      ],
      "execution_count": 0,
      "outputs": [
        {
          "output_type": "stream",
          "text": [
            "0\n",
            "0.6131209135055542\n",
            "1.2771060466766357\n",
            "0.8848843574523926\n",
            "1.063057541847229\n",
            "0.9698879718780518\n",
            "1.0154048204421997\n",
            "0.9923855066299438\n",
            "1.0038292407989502\n",
            "0.9980906844139099\n",
            "1.0009560585021973\n",
            "1\n",
            "0.6577245593070984\n",
            "1.2330421209335327\n",
            "0.9005566835403442\n",
            "1.0537667274475098\n",
            "0.9741542935371399\n",
            "1.0131789445877075\n",
            "0.9934750199317932\n",
            "1.0032784938812256\n",
            "0.9983647465705872\n",
            "1.0008186101913452\n",
            "2\n",
            "0.23798701167106628\n",
            "2.049855947494507\n",
            "0.6984548568725586\n",
            "1.196549892425537\n",
            "0.9141860604286194\n",
            "1.0458821058273315\n",
            "0.9778192639350891\n",
            "1.0112782716751099\n",
            "0.9944081902503967\n",
            "1.0028076171875\n",
            "0.9985991716384888\n",
            "1.0007011890411377\n",
            "3\n",
            "1.0082587003707886\n",
            "0.9958961009979248\n",
            "1.0020582675933838\n",
            "0.9989725351333618\n",
            "1.000514030456543\n",
            "4\n",
            "0.19273202121257782\n",
            "2.277839422225952\n",
            "0.662580132484436\n",
            "1.228515863418579\n",
            "0.9022142291069031\n",
            "1.0527981519699097\n",
            "0.9746022820472717\n",
            "1.0129460096359253\n",
            "0.9935891032218933\n",
            "1.003220796585083\n",
            "0.9983935356140137\n",
            "1.0008043050765991\n",
            "5\n",
            "1.3460478782653809\n",
            "0.8619255423545837\n",
            "1.077122688293457\n",
            "0.9635348320007324\n",
            "1.0187467336654663\n",
            "0.9907563328742981\n",
            "1.0046541690826416\n",
            "0.9976810216903687\n",
            "1.0011614561080933\n",
            "0.9994198679924011\n",
            "6\n",
            "0.21427017450332642\n",
            "2.160325050354004\n",
            "0.6803625822067261\n",
            "1.2123548984527588\n",
            "0.9082076549530029\n",
            "1.0493186712265015\n",
            "0.9762168526649475\n",
            "1.0121079683303833\n",
            "0.9940004944801331\n",
            "1.003013253211975\n",
            "0.9984968900680542\n",
            "1.0007524490356445\n",
            "7\n",
            "2.275864362716675\n",
            "0.6628676056861877\n",
            "1.2282495498657227\n",
            "0.9023120999336243\n",
            "1.0527410507202148\n",
            "0.974628746509552\n",
            "1.0129321813583374\n",
            "0.9935960173606873\n",
            "1.0032174587249756\n",
            "0.9983952045440674\n",
            "1.0008033514022827\n",
            "8\n",
            "0.27493828535079956\n",
            "1.9071390628814697\n",
            "0.7241171598434448\n",
            "1.1751562356948853\n",
            "0.9224698543548584\n",
            "1.0411756038665771\n",
            "0.98002690076828\n",
            "1.010138750076294\n",
            "0.994968831539154\n",
            "1.002524971961975\n",
            "0.9987398982048035\n",
            "1.0006307363510132\n",
            "9\n",
            "1.3124994039535522\n",
            "0.8728717565536499\n",
            "1.0703474283218384\n",
            "0.9665797352790833\n",
            "1.0171409845352173\n",
            "0.9915380477905273\n",
            "1.004258155822754\n",
            "0.9978777766227722\n",
            "1.0010627508163452\n",
            "0.999468982219696\n",
            "10\n",
            "1.3303420543670654\n",
            "0.8669984340667725\n",
            "1.0739667415618896\n",
            "0.9649496078491211\n",
            "1.0179997682571411\n",
            "0.9911197423934937\n",
            "1.004469871520996\n",
            "0.9977725744247437\n",
            "1.0011155605316162\n",
            "0.9994426369667053\n",
            "11\n",
            "0.2783147990703583\n",
            "1.8955352306365967\n",
            "0.7263301610946655\n",
            "1.1733644008636475\n",
            "0.9231740236282349\n",
            "1.0407782793045044\n",
            "0.9802140593528748\n",
            "1.0100421905517578\n",
            "0.9950163960456848\n",
            "1.0025010108947754\n",
            "0.9987519383430481\n",
            "1.000624656677246\n",
            "12\n",
            "1.1194614171981812\n",
            "0.9451385140419006\n",
            "1.028613567352295\n",
            "0.9859932661056519\n",
            "1.0070778131484985\n",
            "0.9964797496795654\n",
            "1.0017648935317993\n",
            "0.9991186857223511\n",
            "13\n",
            "0.29726406931877136\n",
            "1.8341243267059326\n",
            "0.7383897304534912\n",
            "1.1637433767318726\n",
            "0.9269821643829346\n",
            "1.0386382341384888\n",
            "0.9812232851982117\n",
            "1.009522557258606\n",
            "0.9952725172042847\n",
            "1.0023722648620605\n",
            "0.9988159537315369\n",
            "1.000592589378357\n",
            "14\n",
            "1.4128021001815796\n",
            "0.8413163423538208\n",
            "1.0902355909347534\n",
            "0.9577226638793945\n",
            "1.0218336582183838\n",
            "0.9892587661743164\n",
            "1.005414366722107\n",
            "0.9973036050796509\n",
            "1.0013508796691895\n",
            "0.9993252754211426\n",
            "15\n",
            "0.147623673081398\n",
            "2.602687120437622\n",
            "0.6198534965515137\n",
            "1.2701513767242432\n",
            "0.8873034715652466\n",
            "1.0616074800491333\n",
            "0.9705501794815063\n",
            "1.0150582790374756\n",
            "0.992554783821106\n",
            "1.0037435293197632\n",
            "0.9981333613395691\n",
            "1.0009346008300781\n",
            "16\n",
            "2.714081287384033\n",
            "0.6069998145103455\n",
            "1.2835289239883423\n",
            "0.8826676607131958\n",
            "1.0643912553787231\n",
            "0.9692802429199219\n",
            "1.0157231092453003\n",
            "0.9922299981117249\n",
            "1.0039076805114746\n",
            "0.9980518817901611\n",
            "1.000975489616394\n",
            "17\n",
            "0.4477654993534088\n",
            "1.494426965713501\n",
            "0.8180175423622131\n",
            "1.1056526899337769\n",
            "0.951022207736969\n",
            "1.0254267454147339\n",
            "0.9875240325927734\n",
            "1.006296992301941\n",
            "0.9968661665916443\n",
            "1.001570701599121\n",
            "0.9992155432701111\n",
            "18\n",
            "1.0186820030212402\n",
            "0.9907878041267395\n",
            "1.0046383142471313\n",
            "0.9976888298988342\n",
            "1.0011576414108276\n",
            "0.9994217157363892\n",
            "19\n",
            "1.7289793491363525\n",
            "0.760510265827179\n",
            "1.1466938257217407\n",
            "0.9338480830192566\n",
            "1.0348130464553833\n",
            "0.983035147190094\n",
            "1.0085920095443726\n",
            "0.9957315921783447\n",
            "1.002140998840332\n",
            "0.9989312887191772\n",
            "1.0005347728729248\n",
            "20\n",
            "0.3011308014392853\n",
            "1.8223103284835815\n",
            "0.7407793998718262\n",
            "1.1618646383285522\n",
            "0.9277312755584717\n",
            "1.0382188558578491\n",
            "0.9814213514328003\n",
            "1.0094209909439087\n",
            "0.9953224062919617\n",
            "1.0023471117019653\n",
            "0.9988284707069397\n",
            "1.0005862712860107\n",
            "21\n",
            "1.4171980619430542\n",
            "0.8400105237960815\n",
            "1.0910825729370117\n",
            "0.9573509693145752\n",
            "1.0220319032669067\n",
            "0.9891627430915833\n",
            "1.0054630041122437\n",
            "0.997279703617096\n",
            "1.001362919807434\n",
            "0.9993192553520203\n",
            "22\n",
            "0.3062646985054016\n",
            "1.8069723844528198\n",
            "0.7439165711402893\n",
            "1.1594122648239136\n",
            "0.9287120699882507\n",
            "1.0376704931259155\n",
            "0.981680691242218\n",
            "1.0092874765396118\n",
            "0.9953885078430176\n",
            "1.0023136138916016\n",
            "0.9988452792167664\n",
            "1.0005778074264526\n",
            "23\n",
            "2.381369113922119\n",
            "0.6480174660682678\n",
            "1.2422432899475098\n",
            "0.8972152471542358\n",
            "1.055727243423462\n",
            "0.9732493758201599\n",
            "1.0136497020721436\n",
            "0.9932444095611572\n",
            "1.0033949613571167\n",
            "0.9983068108558655\n",
            "1.000847578048706\n",
            "24\n",
            "0.24266298115253448\n",
            "2.030010223388672\n",
            "0.7018606066703796\n",
            "1.1936432123184204\n",
            "0.915298581123352\n",
            "1.0452462434768677\n",
            "0.9781167507171631\n",
            "1.0111244916915894\n",
            "0.9944837689399719\n",
            "1.0027695894241333\n",
            "0.9986180067062378\n",
            "1.0006917715072632\n",
            "25\n",
            "1.2701681852340698\n",
            "0.8872978091239929\n",
            "1.0616105794906616\n",
            "0.9705488085746765\n",
            "1.0150591135025024\n",
            "0.9925544261932373\n",
            "1.0037437677383423\n",
            "0.9981332421302795\n",
            "1.0009347200393677\n",
            "26\n",
            "0.22377453744411469\n",
            "2.113949775695801\n",
            "0.6877849102020264\n",
            "1.2057956457138062\n",
            "0.9106743931770325\n",
            "1.0478965044021606\n",
            "0.9768791198730469\n",
            "1.0117650032043457\n",
            "0.994168758392334\n",
            "1.0029284954071045\n",
            "0.9985389113426208\n",
            "1.000731348991394\n",
            "27\n",
            "3.4888808727264404\n",
            "0.5353735685348511\n",
            "1.366694688796997\n",
            "0.8553901314735413\n",
            "1.081229567527771\n",
            "0.9617031216621399\n",
            "1.0197166204452515\n",
            "0.9902850985527039\n",
            "1.004893183708191\n",
            "0.9975622892379761\n",
            "1.0012210607528687\n",
            "0.9993900060653687\n",
            "28\n",
            "0.5036282539367676\n",
            "1.409110188484192\n",
            "0.8424178957939148\n",
            "1.0895226001739502\n",
            "0.9580360651016235\n",
            "1.021666169166565\n",
            "0.9893398284912109\n",
            "1.0053731203079224\n",
            "0.9973241090774536\n",
            "1.0013407468795776\n",
            "0.9993304014205933\n",
            "29\n",
            "2.0252914428710938\n",
            "0.7026777863502502\n",
            "1.1929489374160767\n",
            "0.9155648350715637\n",
            "1.0450942516326904\n",
            "0.9781878590583801\n",
            "1.0110878944396973\n",
            "0.9945017099380493\n",
            "1.0027605295181274\n",
            "0.9986226558685303\n",
            "1.0006892681121826\n",
            "30\n",
            "0.37441155314445496\n",
            "1.6342761516571045\n",
            "0.7822349667549133\n",
            "1.1306583881378174\n",
            "0.9404469132423401\n",
            "1.0311760902404785\n",
            "0.9847672581672668\n",
            "1.007704496383667\n",
            "0.9961699843406677\n",
            "1.001920461654663\n",
            "0.9990410804748535\n",
            "31\n",
            "0.8110215663909912\n",
            "1.1104110479354858\n",
            "0.9489824175834656\n",
            "1.026528239250183\n",
            "0.9869940280914307\n",
            "1.0065670013427734\n",
            "0.9967324733734131\n",
            "1.0016378164291382\n",
            "0.9991820454597473\n",
            "32\n",
            "7.633537292480469\n",
            "0.3619404435157776\n",
            "1.6621928215026855\n",
            "0.7756384015083313\n",
            "1.1354560852050781\n",
            "0.9384580254554749\n",
            "1.0322682857513428\n",
            "0.9842461347579956\n",
            "1.007971167564392\n",
            "0.9960381388664246\n",
            "1.0019867420196533\n",
            "0.9990082383155823\n",
            "33\n",
            "0.10441378504037857\n",
            "3.0947184562683105\n",
            "0.5684462785720825\n",
            "1.3263410329818726\n",
            "0.8683052659034729\n",
            "1.0731582641601562\n",
            "0.9653129577636719\n",
            "1.017808198928833\n",
            "0.9912130832672119\n",
            "1.0044225454330444\n",
            "0.9977961778640747\n",
            "1.0011035203933716\n",
            "0.9994487762451172\n",
            "34\n",
            "15.479697227478027\n",
            "0.25416675209999084\n",
            "1.9835386276245117\n",
            "0.7100347876548767\n",
            "1.1867526769638062\n",
            "0.9179518222808838\n",
            "1.0437346696853638\n",
            "0.9788247346878052\n",
            "1.010758876800537\n",
            "0.9946637153625488\n",
            "1.0026787519454956\n",
            "0.9986634254455566\n",
            "1.000669002532959\n",
            "35\n",
            "0.0421614907681942\n",
            "4.870145797729492\n",
            "0.45313647389411926\n",
            "1.485543966293335\n",
            "0.82045978307724\n",
            "1.1040055751800537\n",
            "0.9517313838005066\n",
            "1.0250446796417236\n",
            "0.9877080917358398\n",
            "1.0062031745910645\n",
            "0.9969128370285034\n",
            "1.00154709815979\n",
            "0.9992272257804871\n"
          ],
          "name": "stdout"
        },
        {
          "output_type": "display_data",
          "data": {
            "text/html": [
              "<table border=\"1\" class=\"dataframe\">\n",
              "  <thead>\n",
              "    <tr style=\"text-align: left;\">\n",
              "      <th>epoch</th>\n",
              "      <th>train_loss</th>\n",
              "      <th>valid_loss</th>\n",
              "      <th>error_rate</th>\n",
              "      <th>time</th>\n",
              "    </tr>\n",
              "  </thead>\n",
              "  <tbody>\n",
              "    <tr>\n",
              "      <td>0</td>\n",
              "      <td>0.734493</td>\n",
              "      <td>0.315022</td>\n",
              "      <td>0.100135</td>\n",
              "      <td>02:21</td>\n",
              "    </tr>\n",
              "  </tbody>\n",
              "</table>"
            ],
            "text/plain": [
              "<IPython.core.display.HTML object>"
            ]
          },
          "metadata": {
            "tags": []
          }
        }
      ]
    },
    {
      "cell_type": "code",
      "metadata": {
        "colab_type": "code",
        "id": "mv1OIsFv0Xp3",
        "colab": {}
      },
      "source": [
        "means = [learn.activation_stats.stats[0][i].mean() for i in range(36)]\n",
        "stds = [learn.activation_stats.stats[1][i].mean() for i in range(36)]"
      ],
      "execution_count": 0,
      "outputs": []
    },
    {
      "cell_type": "code",
      "metadata": {
        "colab_type": "code",
        "id": "FHeE700_0Xp6",
        "outputId": "e24b9e65-81ed-4a5f-e5df-0632f1f39d01",
        "colab": {
          "base_uri": "https://localhost:8080/",
          "height": 286
        }
      },
      "source": [
        "plt.plot(means)"
      ],
      "execution_count": 0,
      "outputs": [
        {
          "output_type": "execute_result",
          "data": {
            "text/plain": [
              "[<matplotlib.lines.Line2D at 0x7fb5823c28d0>]"
            ]
          },
          "metadata": {
            "tags": []
          },
          "execution_count": 96
        },
        {
          "output_type": "display_data",
          "data": {
            "image/png": "[encoded data removed]",
            "text/plain": [
              "<Figure size 432x288 with 1 Axes>"
            ]
          },
          "metadata": {
            "tags": []
          }
        }
      ]
    },
    {
      "cell_type": "code",
      "metadata": {
        "colab_type": "code",
        "id": "E6UeHXBo0Xp9",
        "outputId": "99efe1cd-e429-48ad-fed5-ca781cb2d271",
        "colab": {
          "base_uri": "https://localhost:8080/",
          "height": 286
        }
      },
      "source": [
        "plt.plot(stds)"
      ],
      "execution_count": 0,
      "outputs": [
        {
          "output_type": "execute_result",
          "data": {
            "text/plain": [
              "[<matplotlib.lines.Line2D at 0x7fb5cd6764e0>]"
            ]
          },
          "metadata": {
            "tags": []
          },
          "execution_count": 97
        },
        {
          "output_type": "display_data",
          "data": {
            "image/png": "[encoded data removed]",
            "text/plain": [
              "<Figure size 432x288 with 1 Axes>"
            ]
          },
          "metadata": {
            "tags": []
          }
        }
      ]
    },
    {
      "cell_type": "markdown",
      "metadata": {
        "id": "BO8Oh1MQvPSV",
        "colab_type": "text"
      },
      "source": [
        "Pretrained = False"
      ]
    },
    {
      "cell_type": "code",
      "metadata": {
        "id": "hJTYhTjyqC9c",
        "colab_type": "code",
        "outputId": "aabe679b-64e2-43e0-a7f7-55fcda00f61e",
        "colab": {
          "base_uri": "https://localhost:8080/",
          "height": 204
        }
      },
      "source": [
        "\n",
        "learn = cnn_learner(data, models.resnet34, metrics=error_rate,pretrained=False)\n",
        "learn.fit_one_cycle(5)\n",
        "\n"
      ],
      "execution_count": 0,
      "outputs": [
        {
          "output_type": "display_data",
          "data": {
            "text/html": [
              "<table border=\"1\" class=\"dataframe\">\n",
              "  <thead>\n",
              "    <tr style=\"text-align: left;\">\n",
              "      <th>epoch</th>\n",
              "      <th>train_loss</th>\n",
              "      <th>valid_loss</th>\n",
              "      <th>error_rate</th>\n",
              "      <th>time</th>\n",
              "    </tr>\n",
              "  </thead>\n",
              "  <tbody>\n",
              "    <tr>\n",
              "      <td>0</td>\n",
              "      <td>4.477866</td>\n",
              "      <td>3.783200</td>\n",
              "      <td>0.944520</td>\n",
              "      <td>02:12</td>\n",
              "    </tr>\n",
              "    <tr>\n",
              "      <td>1</td>\n",
              "      <td>4.217132</td>\n",
              "      <td>3.738859</td>\n",
              "      <td>0.924222</td>\n",
              "      <td>02:08</td>\n",
              "    </tr>\n",
              "    <tr>\n",
              "      <td>2</td>\n",
              "      <td>3.836927</td>\n",
              "      <td>3.765436</td>\n",
              "      <td>0.897158</td>\n",
              "      <td>02:20</td>\n",
              "    </tr>\n",
              "    <tr>\n",
              "      <td>3</td>\n",
              "      <td>3.464271</td>\n",
              "      <td>3.099820</td>\n",
              "      <td>0.842355</td>\n",
              "      <td>02:10</td>\n",
              "    </tr>\n",
              "    <tr>\n",
              "      <td>4</td>\n",
              "      <td>3.211449</td>\n",
              "      <td>2.912679</td>\n",
              "      <td>0.794317</td>\n",
              "      <td>02:10</td>\n",
              "    </tr>\n",
              "  </tbody>\n",
              "</table>"
            ],
            "text/plain": [
              "<IPython.core.display.HTML object>"
            ]
          },
          "metadata": {
            "tags": []
          }
        }
      ]
    },
    {
      "cell_type": "code",
      "metadata": {
        "id": "D-SBzEYkmsU1",
        "colab_type": "code",
        "outputId": "c2dbf6d2-3b34-43c9-e3eb-2967485af9cf",
        "colab": {
          "base_uri": "https://localhost:8080/",
          "height": 1000
        }
      },
      "source": [
        "\n",
        "learn = cnn_learner(data, models.resnet34, metrics=error_rate,callback_fns=LSUV_HookCallBack_Sq,pretrained=False)\n",
        "learn.fit_one_cycle(5)\n",
        "\n"
      ],
      "execution_count": 0,
      "outputs": [
        {
          "output_type": "stream",
          "text": [
            "0\n",
            "0.20354431867599487\n",
            "0.9999999403953552\n",
            "1\n",
            "1.0862829685211182\n",
            "0.9999999403953552\n",
            "2\n",
            "0.91098952293396\n",
            "0.9999999403953552\n",
            "3\n",
            "2.0200233459472656\n",
            "1.0\n",
            "4\n",
            "1.1859595775604248\n",
            "1.0\n",
            "5\n",
            "2.1849796772003174\n",
            "1.0\n",
            "6\n",
            "0.9368482828140259\n",
            "0.9999998807907104\n",
            "7\n",
            "1.970059871673584\n",
            "1.0\n",
            "8\n",
            "0.9851251840591431\n",
            "1.0\n",
            "9\n",
            "1.7250924110412598\n",
            "0.9999999403953552\n",
            "10\n",
            "1.112108826637268\n",
            "1.0\n",
            "11\n",
            "0.9322288632392883\n",
            "0.9999998807907104\n",
            "12\n",
            "1.641937255859375\n",
            "1.0\n",
            "13\n",
            "0.9825705885887146\n",
            "0.9999998211860657\n",
            "14\n",
            "2.2094435691833496\n",
            "1.0\n",
            "15\n",
            "1.0278828144073486\n",
            "0.9999999403953552\n",
            "16\n",
            "1.8405685424804688\n",
            "1.0\n",
            "17\n",
            "1.0161983966827393\n",
            "1.0\n",
            "18\n",
            "1.97809898853302\n",
            "1.0\n",
            "19\n",
            "1.2425801753997803\n",
            "0.9999999403953552\n",
            "20\n",
            "0.9189213514328003\n",
            "0.9999999403953552\n",
            "21\n",
            "1.6487213373184204\n",
            "0.9999999403953552\n",
            "22\n",
            "1.0834577083587646\n",
            "0.9999999403953552\n",
            "23\n",
            "2.219040632247925\n",
            "1.0000001192092896\n",
            "24\n",
            "0.9922202825546265\n",
            "1.0000001192092896\n",
            "25\n",
            "2.511077642440796\n",
            "0.9999999403953552\n",
            "26\n",
            "0.9113543629646301\n",
            "1.0\n",
            "27\n",
            "2.6858971118927\n",
            "0.9999998807907104\n",
            "28\n",
            "1.0238949060440063\n",
            "0.9999998211860657\n",
            "29\n",
            "2.0682103633880615\n",
            "1.0000001192092896\n",
            "30\n",
            "0.9474445581436157\n",
            "0.9999998807907104\n",
            "31\n",
            "2.079523801803589\n",
            "0.9999999403953552\n",
            "32\n",
            "1.342725396156311\n",
            "0.9999998807907104\n",
            "33\n",
            "0.9630451798439026\n",
            "0.9999998807907104\n",
            "34\n",
            "1.6468509435653687\n",
            "1.0\n",
            "35\n",
            "0.9882696866989136\n",
            "1.0\n"
          ],
          "name": "stdout"
        },
        {
          "output_type": "display_data",
          "data": {
            "text/html": [
              "<table border=\"1\" class=\"dataframe\">\n",
              "  <thead>\n",
              "    <tr style=\"text-align: left;\">\n",
              "      <th>epoch</th>\n",
              "      <th>train_loss</th>\n",
              "      <th>valid_loss</th>\n",
              "      <th>error_rate</th>\n",
              "      <th>time</th>\n",
              "    </tr>\n",
              "  </thead>\n",
              "  <tbody>\n",
              "    <tr>\n",
              "      <td>0</td>\n",
              "      <td>4.093897</td>\n",
              "      <td>3.466738</td>\n",
              "      <td>0.906631</td>\n",
              "      <td>02:23</td>\n",
              "    </tr>\n",
              "  </tbody>\n",
              "</table>"
            ],
            "text/plain": [
              "<IPython.core.display.HTML object>"
            ]
          },
          "metadata": {
            "tags": []
          }
        }
      ]
    },
    {
      "cell_type": "code",
      "metadata": {
        "id": "5wG3MXStyqfa",
        "colab_type": "code",
        "colab": {}
      },
      "source": [
        "#Every Epoch \n"
      ],
      "execution_count": 0,
      "outputs": []
    },
    {
      "cell_type": "code",
      "metadata": {
        "colab_type": "code",
        "id": "AB7mqEWYilaR",
        "colab": {}
      },
      "source": [
        "\n",
        "class LSUV_HookCallBack_EveryEpoch(HookCallback):\n",
        "\n",
        "    def on_epoch_begin(self, **kwargs):\n",
        "        \"Register the `Hooks` on `self.modules`.\"\n",
        "\n",
        "        super().on_epoch_begin(**kwargs)\n",
        "        self.xb, self.yb = self.learn.data.one_batch()\n",
        "        self.xb = self.xb.cuda()\n",
        "\n",
        "\n",
        "        self.stats = {}\n",
        "\n",
        "        for idx,(mod,hook) in enumerate(zip(self.modules, self.hooks)):\n",
        "          self.stats[idx] = []\n",
        "          _ = self.learn.model(self.xb)\n",
        "          self.stats[idx].append(hook.stored[1])\n",
        "          print(idx)\n",
        "          print(hook.stored[1])\n",
        "          \n",
        "          while self.learn.model(self.xb) is not None and abs(hook.stored[1]-1) > 1e-3:\n",
        "            mod.weight.data /= hook.stored[1]\n",
        "            _ = self.learn.model(self.xb)\n",
        "            print(hook.stored[1])\n",
        "            self.stats[idx].append(hook.stored[1])\n",
        "\n",
        "            \n",
        "      \n",
        "    def hook(self, m:nn.Module, i:Tensors, o:Tensors)->Tuple[Rank0Tensor,Rank0Tensor]:\n",
        "        \"Take the mean and std of `o`.\"\n",
        "        return o.mean().item(),o.std().item()"
      ],
      "execution_count": 0,
      "outputs": []
    },
    {
      "cell_type": "code",
      "metadata": {
        "id": "styaUrfAqWBD",
        "colab_type": "code",
        "colab": {}
      },
      "source": [
        ""
      ],
      "execution_count": 0,
      "outputs": []
    }
  ]
}