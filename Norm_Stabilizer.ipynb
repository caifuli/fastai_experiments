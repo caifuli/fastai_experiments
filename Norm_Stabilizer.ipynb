{
  "nbformat": 4,
  "nbformat_minor": 0,
  "metadata": {
    "colab": {
      "name": "Norm-Stabilizer.ipynb",
      "provenance": []
    },
    "kernelspec": {
      "name": "python3",
      "display_name": "Python 3"
    },
    "accelerator": "GPU"
  },
  "cells": [
    {
      "cell_type": "code",
      "metadata": {
        "id": "GNy7WHZ3WiAQ",
        "colab_type": "code",
        "colab": {}
      },
      "source": [
        "from fastai.text import * \n",
        "from fastai import * "
      ],
      "execution_count": 0,
      "outputs": []
    },
    {
      "cell_type": "markdown",
      "metadata": {
        "id": "KZnoWhVWZOYT",
        "colab_type": "text"
      },
      "source": [
        "\n",
        "**[1][Regularizing RNNs by Stabilizing Activations](https://arxiv.org/abs/1511.08400)**\n",
        " - by David Krueger, Roland Memisevic\n",
        "\n"
      ]
    },
    {
      "cell_type": "code",
      "metadata": {
        "id": "1Y4L-39aVr8M",
        "colab_type": "code",
        "colab": {
          "base_uri": "https://localhost:8080/",
          "height": 281
        },
        "outputId": "9eedd554-e5e0-4898-fe18-1ca1169ceaac"
      },
      "source": [
        "\n",
        "bs=48\n",
        "path = untar_data(URLs.IMDB)\n",
        "path.ls()\n",
        "data_lm = (TextList.from_folder(path)\n",
        "           #Inputs: all the text files in path\n",
        "            .filter_by_folder(include=['train', 'test', 'unsup']) \n",
        "           #We may have other temp folders that contain text files so we only keep what's in train and test\n",
        "            .split_by_rand_pct(0.1)\n",
        "           #We randomly split and keep 10% (10,000 reviews) for validation\n",
        "            .label_for_lm()           \n",
        "           #We want to do a language model so we label accordingly\n",
        "            .databunch(bs=bs))\n",
        "data_lm.save('data_lm.pkl')\n",
        "\n",
        "data_lm = load_data(path, 'data_lm.pkl', bs=bs)\n",
        "data_lm.show_batch()"
      ],
      "execution_count": 4,
      "outputs": [
        {
          "output_type": "display_data",
          "data": {
            "text/html": [
              "<table border=\"1\" class=\"dataframe\">\n",
              "  <thead>\n",
              "    <tr style=\"text-align: right;\">\n",
              "      <th>idx</th>\n",
              "      <th>text</th>\n",
              "    </tr>\n",
              "  </thead>\n",
              "  <tbody>\n",
              "    <tr>\n",
              "      <td>0</td>\n",
              "      <td>takes the original point of it away and just renders it nearly unwatchable . ( one joke about xxmaj garth 's eyes xxunk the audience was good ... the rest i can hardly remember ... ) it feels like a poor quality \" xxmaj knowing xxmaj me , xxmaj knowing xxmaj you . \" i hope this improves as the series goes on , otherwise i shall be seriously disappointed</td>\n",
              "    </tr>\n",
              "    <tr>\n",
              "      <td>1</td>\n",
              "      <td>just started walking out during the course of the screening . \\n \\n  xxmaj there 's no way to actually summarize the story into something coherent , so i wo nt even try . xxmaj every cliché ever conceived is in there , and in all the wrong places . i 'm sorry to say this is one of the worst movies i have ever seen in my entire</td>\n",
              "    </tr>\n",
              "    <tr>\n",
              "      <td>2</td>\n",
              "      <td>\\n \\n  i must say that , when i first saw this thing on cable , i could n't stop laughing . xxmaj no xxup scifi film had prepared me for this ; it was so incredibly pathetic i could n't believe it ! xxmaj the actors are all a bunch of stereotypical - genre characters . xxmaj but since they 're not so famous ( to say the</td>\n",
              "    </tr>\n",
              "    <tr>\n",
              "      <td>3</td>\n",
              "      <td>the movie . xxmaj in the film , the characters and set were just some of the let downs that occurred in the movie . xxmaj the director left out so many important and interesting aspects of the book that made it one of the best literary works ever made . \\n \\n  xxmaj of course any book is better than the movie but these were n't even comparable</td>\n",
              "    </tr>\n",
              "    <tr>\n",
              "      <td>4</td>\n",
              "      <td>the xxmaj berlin xxmaj film xxmaj festival and had medium - high expectations . - xxmaj the director is xxmaj bertrand xxmaj tavernier and i was familiar with some of his previous work in xxmaj french cinema . i actually enjoyed some of his earlier movies . -the cast : xxmaj tommy xxmaj lee xxmaj jones , xxmaj john xxmaj goodman , xxmaj peter xxmaj xxunk , xxmaj mary xxmaj</td>\n",
              "    </tr>\n",
              "  </tbody>\n",
              "</table>"
            ],
            "text/plain": [
              "<IPython.core.display.HTML object>"
            ]
          },
          "metadata": {
            "tags": []
          }
        }
      ]
    },
    {
      "cell_type": "code",
      "metadata": {
        "id": "7obInUTIWspL",
        "colab_type": "code",
        "colab": {}
      },
      "source": [
        "learn = language_model_learner(data_lm, AWD_LSTM, drop_mult=0.3)\n",
        "# learn.lr_find()\n",
        "# learn.recorder.plot(skip_end=15)"
      ],
      "execution_count": 0,
      "outputs": []
    },
    {
      "cell_type": "code",
      "metadata": {
        "id": "ws0aGAbKW3HF",
        "colab_type": "code",
        "colab": {}
      },
      "source": [
        "learn.save_encoder('fine_tuned_enc')"
      ],
      "execution_count": 0,
      "outputs": []
    },
    {
      "cell_type": "code",
      "metadata": {
        "id": "o8xMj8o9XDo1",
        "colab_type": "code",
        "colab": {
          "base_uri": "https://localhost:8080/",
          "height": 297
        },
        "outputId": "b4978a9b-9d6c-42f3-94ed-1c46062c2f54"
      },
      "source": [
        "path = untar_data(URLs.IMDB)\n",
        "data_clas = (TextList.from_folder(path, vocab=data_lm.vocab)\n",
        "             #grab all the text files in path\n",
        "             .split_by_folder(valid='test')\n",
        "             #split by train and valid folder (that only keeps 'train' and 'test' so no need to filter)\n",
        "             .label_from_folder(classes=['neg', 'pos'])\n",
        "             #label them all with their folders\n",
        "             .databunch(bs=bs))\n",
        "\n",
        "data_clas.save('data_clas.pkl')\n",
        "data_clas = load_data(path, 'data_clas.pkl', bs=bs)\n",
        "data_clas.show_batch()"
      ],
      "execution_count": 7,
      "outputs": [
        {
          "output_type": "display_data",
          "data": {
            "text/html": [
              "<table border=\"1\" class=\"dataframe\">\n",
              "  <thead>\n",
              "    <tr style=\"text-align: right;\">\n",
              "      <th>text</th>\n",
              "      <th>target</th>\n",
              "    </tr>\n",
              "  </thead>\n",
              "  <tbody>\n",
              "    <tr>\n",
              "      <td>xxbos xxmaj match 1 : xxmaj tag xxmaj team xxmaj table xxmaj match xxmaj bubba xxmaj ray and xxmaj spike xxmaj dudley vs xxmaj eddie xxmaj guerrero and xxmaj chris xxmaj benoit xxmaj bubba xxmaj ray and xxmaj spike xxmaj dudley started things off with a xxmaj tag xxmaj team xxmaj table xxmaj match against xxmaj eddie xxmaj guerrero and xxmaj chris xxmaj benoit . xxmaj according to the rules</td>\n",
              "      <td>pos</td>\n",
              "    </tr>\n",
              "    <tr>\n",
              "      <td>xxbos xxmaj by 1987 xxmaj hong xxmaj kong had given the world such films as xxmaj sammo xxmaj hung 's ` xxmaj encounters of the xxmaj spooky xxmaj kind ' xxmaj chow xxmaj yun xxmaj fat in xxmaj john xxmaj woo 's iconic ` a xxmaj better xxmaj tomorrow ' , ` xxmaj zu xxmaj warriors ' and the classic ` xxmaj mr xxmaj vampire ' . xxmaj jackie xxmaj</td>\n",
              "      <td>pos</td>\n",
              "    </tr>\n",
              "    <tr>\n",
              "      <td>xxbos xxmaj god ! xxmaj zorro has been the the subject of about as many movies as xxmaj tarzan , and probably had about as many actors in the title role . \\n \\n  xxmaj this xxmaj serial is one of my own personal favourites , and as previously stated , it is one of the xxmaj top 5 xxmaj sound xxmaj serials . xxmaj oddly enough , this</td>\n",
              "      <td>pos</td>\n",
              "    </tr>\n",
              "    <tr>\n",
              "      <td>xxbos \" a xxmaj damsel in xxmaj distress \" is definitely not one of xxmaj fred xxmaj astaire 's better musicals . xxmaj but even xxmaj astaire 's bad films always had some good moments . \\n \\n  xxmaj in \" xxmaj damsel , \" xxmaj astaire is xxmaj jerry xxmaj halliday , an xxmaj american musical star who is in xxmaj london on a personal appearance tour .</td>\n",
              "      <td>neg</td>\n",
              "    </tr>\n",
              "    <tr>\n",
              "      <td>xxbos xxup warning : xxup possible xxup spoilers ( but not really - keep reading ) . xxmaj ahhh , there are so many reasons to become utterly addicted to this spoof gem that i wo n't have room to list them all . xxmaj the opening credits set the playful scene with kitsch late 1950s cartoon stills ; an enchanting xxmaj xxunk ' xxmaj prez ' xxmaj prado mambo</td>\n",
              "      <td>pos</td>\n",
              "    </tr>\n",
              "  </tbody>\n",
              "</table>"
            ],
            "text/plain": [
              "<IPython.core.display.HTML object>"
            ]
          },
          "metadata": {
            "tags": []
          }
        }
      ]
    },
    {
      "cell_type": "markdown",
      "metadata": {
        "id": "pkH0vcPwcSxk",
        "colab_type": "text"
      },
      "source": [
        "First using fastai's basic methodology we've created a language model fine tuned on the Wikipedia text. After that we've established a baseline using the fastai's fit_one_cycle policy. "
      ]
    },
    {
      "cell_type": "code",
      "metadata": {
        "id": "mZ7dISKjXM2E",
        "colab_type": "code",
        "colab": {
          "base_uri": "https://localhost:8080/",
          "height": 197
        },
        "outputId": "8b0e411d-c957-47e2-f1a7-1d046c3ec228"
      },
      "source": [
        "learn = text_classifier_learner(data_clas, AWD_LSTM, drop_mult=0.5)\n",
        "learn.load_encoder('fine_tuned_enc')\n",
        "# learn.lr_find()\n",
        "# learn.recorder.plot()\n",
        "learn.fit_one_cycle(5, 2e-2, moms=(0.8,0.7))"
      ],
      "execution_count": 39,
      "outputs": [
        {
          "output_type": "display_data",
          "data": {
            "text/html": [
              "<table border=\"1\" class=\"dataframe\">\n",
              "  <thead>\n",
              "    <tr style=\"text-align: left;\">\n",
              "      <th>epoch</th>\n",
              "      <th>train_loss</th>\n",
              "      <th>valid_loss</th>\n",
              "      <th>accuracy</th>\n",
              "      <th>time</th>\n",
              "    </tr>\n",
              "  </thead>\n",
              "  <tbody>\n",
              "    <tr>\n",
              "      <td>0</td>\n",
              "      <td>0.471733</td>\n",
              "      <td>0.457118</td>\n",
              "      <td>0.777040</td>\n",
              "      <td>10:06</td>\n",
              "    </tr>\n",
              "    <tr>\n",
              "      <td>1</td>\n",
              "      <td>0.467318</td>\n",
              "      <td>0.395980</td>\n",
              "      <td>0.822320</td>\n",
              "      <td>10:52</td>\n",
              "    </tr>\n",
              "    <tr>\n",
              "      <td>2</td>\n",
              "      <td>0.451140</td>\n",
              "      <td>0.377374</td>\n",
              "      <td>0.832560</td>\n",
              "      <td>09:49</td>\n",
              "    </tr>\n",
              "    <tr>\n",
              "      <td>3</td>\n",
              "      <td>0.449924</td>\n",
              "      <td>0.371972</td>\n",
              "      <td>0.836440</td>\n",
              "      <td>10:39</td>\n",
              "    </tr>\n",
              "    <tr>\n",
              "      <td>4</td>\n",
              "      <td>0.438636</td>\n",
              "      <td>0.360387</td>\n",
              "      <td>0.843320</td>\n",
              "      <td>11:00</td>\n",
              "    </tr>\n",
              "  </tbody>\n",
              "</table>"
            ],
            "text/plain": [
              "<IPython.core.display.HTML object>"
            ]
          },
          "metadata": {
            "tags": []
          }
        }
      ]
    },
    {
      "cell_type": "markdown",
      "metadata": {
        "id": "YuA-ERRodyJK",
        "colab_type": "text"
      },
      "source": [
        "\n",
        "#### **BASELINE** ####\n",
        "The baseline I have established does not include fine tuning the language model on the IMDB data. I simply loaded the encoder without fine tuning the language model at all. \n",
        "\n",
        "\n",
        "#### **fastai's existing fine tuning techniques** ####\n",
        "fastai already uses a couple of techniques for stabilizing RNNs. \n",
        "Those are defined [here](https://github.com/fastai/fastai/blob/master/fastai/callbacks/rnn.py). \n",
        "\n",
        "fastai documentation for the fine tuning techniques for `fastai.text` can  be found [here](https://docs.fast.ai/callbacks.rnn.html): \n",
        "\n",
        "These techniques are adopted from this paper:\n",
        "\n",
        "**[2][Regularizing and Optimizing LSTM Language Models](https://arxiv.org/abs/1708.02182)**\n",
        " - Stephen Merity, Nitish Shirish Keskar, Richard Socher\n",
        "\n",
        "**[2]** Introduces a technique called `Temporal Activation Regularization (TAR)`\n",
        "\n",
        " The TAR technique is essentially adding the following term to the loss (thus it exists in the callback `backward_begin`): \n",
        "\n",
        " `extra_loss_regularization_term = β L2(ht − ht+1)`\n",
        "\n",
        " Where `ht` is the hidden state at timestep `t`\n",
        "\n",
        "For those who are confused by the fancy terms (as I was) [here](https://en.wikipedia.org/wiki/Norm_(mathematics)#p-norm) is the definition if L2\n",
        "\n",
        " [2] also states:\n",
        "`As in Merity et al. (2017),\n",
        "the AR and TAR loss are only applied to the output of the\n",
        "final RNN layer as opposed to being applied to all layers.`\n",
        "\n",
        "The Norm Stabilizer paper introduces a technique similar to TAR from the paper above. So it implement this paper we will have to override the existing callback. \n",
        "\n",
        "Below is the callback implemented by fastai for reference. \n",
        "\n"
      ]
    },
    {
      "cell_type": "code",
      "metadata": {
        "id": "hmIvYNIOdxj-",
        "colab_type": "code",
        "colab": {}
      },
      "source": [
        "class RNNTrainer(LearnerCallback):\n",
        "    \"`Callback` that regroups lr adjustment to seq_len, AR and TAR.\"\n",
        "    def __init__(self, learn:Learner, alpha:float=0., beta:float=0.):\n",
        "        super().__init__(learn)\n",
        "        self.not_min += ['raw_out', 'out']\n",
        "        self.alpha,self.beta = alpha,beta\n",
        "        \n",
        "    def on_epoch_begin(self, **kwargs):\n",
        "        \"Reset the hidden state of the model.\"\n",
        "        self.learn.model.reset()\n",
        "\n",
        "    def on_loss_begin(self, last_output:Tuple[Tensor,Tensor,Tensor], **kwargs):\n",
        "        \"Save the extra outputs for later and only returns the true output.\"\n",
        "        self.raw_out,self.out = last_output[1],last_output[2]\n",
        "        return {'last_output': last_output[0]}\n",
        "\n",
        "    def on_backward_begin(self, last_loss:Rank0Tensor, last_input:Tensor, **kwargs):\n",
        "        \"Apply AR and TAR to `last_loss`.\"\n",
        "        \n",
        "        #AR \n",
        "        if self.alpha != 0.:  last_loss += self.alpha * self.out[-1].float().pow(2).mean()\n",
        "\n",
        "\n",
        "        # TAR\n",
        "        if self.beta != 0.:\n",
        "            h = self.raw_out[-1]\n",
        "            if len(h)>1: last_loss += self.beta * (h[:,1:] - h[:,:-1]).float().pow(2).mean() #L2\n",
        "\n",
        "\n",
        "        return {'last_loss': last_loss}\n"
      ],
      "execution_count": 0,
      "outputs": []
    },
    {
      "cell_type": "markdown",
      "metadata": {
        "id": "3iIotWW7iiT6",
        "colab_type": "text"
      },
      "source": [
        "####**Modifications**####\n",
        "\n",
        "We are going to have to replace the existing callback with a callback which also adds the norm-stabilizer term. \n",
        "\n",
        "####**Norm Stabilizer**####\n",
        "The term reccomended by [1] is as follows: \n",
        "`(β/T)* SIGMA[Across T](L2(ht) - L2(ht-1)^2`\n",
        "\n",
        "I have modified the RNNTrainer to add the norm-stabilizer below. \n"
      ]
    },
    {
      "cell_type": "code",
      "metadata": {
        "id": "0IXEHsIGcPDJ",
        "colab_type": "code",
        "colab": {}
      },
      "source": [
        "def apply_ar(alpha,out): return alpha * out[-1].float().pow(2).mean()\n",
        "\n",
        "def apply_tar(beta,h): return beta * (h[:,1:] - h[:,:-1]).float().pow(2).mean()\n",
        "\n",
        "def apply_normstable(beta,h): return beta/h.shape[1] *  (h[:,1:].pow(2).sum().sqrt() - h[:,:-1].pow(2).sum().sqrt()).float().pow(2)\n",
        "\n",
        "class RNNTrainerNorm(LearnerCallback):\n",
        "    def __init__(self, learn:Learner, alpha:float=2., beta:float=1., beta_norm:float=50.):\n",
        "        super().__init__(learn)\n",
        "        self.not_min += ['raw_out', 'out']\n",
        "        self.alpha,self.beta,self.beta_norm = alpha,beta,beta_norm\n",
        "        \n",
        "    def on_epoch_begin(self, **kwargs):\n",
        "        \"Reset the hidden state of the model.\"\n",
        "        self.learn.model.reset()\n",
        "\n",
        "    def on_loss_begin(self, last_output:Tuple[Tensor,Tensor,Tensor], **kwargs):\n",
        "        \"Save the extra outputs for later and only returns the true output.\"\n",
        "        self.raw_out,self.out = last_output[1],last_output[2]\n",
        "        return {'last_output': last_output[0]}\n",
        "\n",
        "    def on_backward_begin(self, last_loss:Rank0Tensor, last_input:Tensor, **kwargs):\n",
        "        \"Apply AR and TAR to `last_loss`.\"\n",
        "        #AR and TAR\n",
        "        if self.alpha != 0.:  last_loss += apply_ar(self.alpha,self.out)\n",
        "        if self.beta != 0.:\n",
        "            h = self.raw_out[-1]\n",
        "            if len(h)>1: last_loss += apply_tar(self.beta,h)\n",
        "\n",
        "        if self.beta_norm != 0.:\n",
        "            h = self.raw_out[-1]\n",
        "            if len(h)>1: last_loss += apply_normstable(self.beta_norm,h)        \n",
        "        \n",
        "        return {'last_loss': last_loss}\n",
        "\n"
      ],
      "execution_count": 0,
      "outputs": []
    },
    {
      "cell_type": "markdown",
      "metadata": {
        "id": "1lTxtXtjFScW",
        "colab_type": "text"
      },
      "source": [
        "Here are the observations of a small experiment I did. \n",
        "[1] and [2] both provide terms which are supposed to stabilize the LSTMs in the `learn.model`. In Jeremy's lectures he points out that when using the `fit_one_cycle` training policy we only train the last layer. \n",
        "\n",
        "`learn.model` is made of a `MultiBatchEncoder` with an `AWD_LSTM` inside it and a `PoolingLinearClassifier`. \n",
        "\n",
        "I have shown below that the `PoolingLinearClassifier` layer has `requires_grad` set to `True`. So we have a term which is supposed to be affecting the RNNs but since `requires_grad` is set to `False` that can't happen. We should be setting `freeze_to(-2)`\n",
        "\n",
        "This unfreezes only the last `LSTM` (for which we have added the regularization term) and should give us better results. \n"
      ]
    },
    {
      "cell_type": "code",
      "metadata": {
        "id": "tQRtI5hBGBUz",
        "colab_type": "code",
        "colab": {
          "base_uri": "https://localhost:8080/",
          "height": 692
        },
        "outputId": "01bbb631-b49b-4cdc-9edb-84f3b936a740"
      },
      "source": [
        "learn.model"
      ],
      "execution_count": 40,
      "outputs": [
        {
          "output_type": "execute_result",
          "data": {
            "text/plain": [
              "SequentialRNN(\n",
              "  (0): MultiBatchEncoder(\n",
              "    (module): AWD_LSTM(\n",
              "      (encoder): Embedding(60000, 400, padding_idx=1)\n",
              "      (encoder_dp): EmbeddingDropout(\n",
              "        (emb): Embedding(60000, 400, padding_idx=1)\n",
              "      )\n",
              "      (rnns): ModuleList(\n",
              "        (0): WeightDropout(\n",
              "          (module): LSTM(400, 1152, batch_first=True)\n",
              "        )\n",
              "        (1): WeightDropout(\n",
              "          (module): LSTM(1152, 1152, batch_first=True)\n",
              "        )\n",
              "        (2): WeightDropout(\n",
              "          (module): LSTM(1152, 400, batch_first=True)\n",
              "        )\n",
              "      )\n",
              "      (input_dp): RNNDropout()\n",
              "      (hidden_dps): ModuleList(\n",
              "        (0): RNNDropout()\n",
              "        (1): RNNDropout()\n",
              "        (2): RNNDropout()\n",
              "      )\n",
              "    )\n",
              "  )\n",
              "  (1): PoolingLinearClassifier(\n",
              "    (layers): Sequential(\n",
              "      (0): BatchNorm1d(1200, eps=1e-05, momentum=0.1, affine=True, track_running_stats=True)\n",
              "      (1): Dropout(p=0.2, inplace=False)\n",
              "      (2): Linear(in_features=1200, out_features=50, bias=True)\n",
              "      (3): ReLU(inplace=True)\n",
              "      (4): BatchNorm1d(50, eps=1e-05, momentum=0.1, affine=True, track_running_stats=True)\n",
              "      (5): Dropout(p=0.1, inplace=False)\n",
              "      (6): Linear(in_features=50, out_features=2, bias=True)\n",
              "    )\n",
              "  )\n",
              ")"
            ]
          },
          "metadata": {
            "tags": []
          },
          "execution_count": 40
        }
      ]
    },
    {
      "cell_type": "code",
      "metadata": {
        "id": "FnPZK-4dq7hZ",
        "colab_type": "code",
        "colab": {}
      },
      "source": [
        "def has_params(m:nn.Module)->bool:\n",
        "    \"Check if `m` has at least one parameter\"\n",
        "    return len(list(m.parameters())) > 0\n"
      ],
      "execution_count": 0,
      "outputs": []
    },
    {
      "cell_type": "code",
      "metadata": {
        "id": "cOKNPqLUlxLv",
        "colab_type": "code",
        "colab": {}
      },
      "source": [
        "modules = [m for m in flatten_model(learn.model) if has_params(m)]"
      ],
      "execution_count": 0,
      "outputs": []
    },
    {
      "cell_type": "code",
      "metadata": {
        "id": "p08raE6Ulyk-",
        "colab_type": "code",
        "colab": {
          "base_uri": "https://localhost:8080/",
          "height": 230
        },
        "outputId": "b1e83e15-c2ab-433d-a09f-a39b4cd89d15"
      },
      "source": [
        "modules"
      ],
      "execution_count": 22,
      "outputs": [
        {
          "output_type": "execute_result",
          "data": {
            "text/plain": [
              "[Embedding(60000, 400, padding_idx=1),\n",
              " Embedding(60000, 400, padding_idx=1),\n",
              " LSTM(400, 1152, batch_first=True),\n",
              " ParameterModule(),\n",
              " LSTM(1152, 1152, batch_first=True),\n",
              " ParameterModule(),\n",
              " LSTM(1152, 400, batch_first=True),\n",
              " ParameterModule(),\n",
              " BatchNorm1d(1200, eps=1e-05, momentum=0.1, affine=True, track_running_stats=True),\n",
              " Linear(in_features=1200, out_features=50, bias=True),\n",
              " BatchNorm1d(50, eps=1e-05, momentum=0.1, affine=True, track_running_stats=True),\n",
              " Linear(in_features=50, out_features=2, bias=True)]"
            ]
          },
          "metadata": {
            "tags": []
          },
          "execution_count": 22
        }
      ]
    },
    {
      "cell_type": "code",
      "metadata": {
        "id": "BOpnhoozrrVJ",
        "colab_type": "code",
        "colab": {}
      },
      "source": [
        "def requires_grad_bool(m:nn.Module)->Optional[bool]:\n",
        "    ps = list(m.parameters())\n",
        "    return ps[0].requires_grad\n"
      ],
      "execution_count": 0,
      "outputs": []
    },
    {
      "cell_type": "code",
      "metadata": {
        "id": "U-tqrb0OrE0V",
        "colab_type": "code",
        "colab": {
          "base_uri": "https://localhost:8080/",
          "height": 230
        },
        "outputId": "0b6cd267-26cb-4644-f095-e2d7849381e3"
      },
      "source": [
        "for it in modules:\n",
        "  print(requires_grad_bool(it),it)"
      ],
      "execution_count": 30,
      "outputs": [
        {
          "output_type": "stream",
          "text": [
            "False Embedding(60000, 400, padding_idx=1)\n",
            "False Embedding(60000, 400, padding_idx=1)\n",
            "False LSTM(400, 1152, batch_first=True)\n",
            "False ParameterModule()\n",
            "False LSTM(1152, 1152, batch_first=True)\n",
            "False ParameterModule()\n",
            "False LSTM(1152, 400, batch_first=True)\n",
            "False ParameterModule()\n",
            "True BatchNorm1d(1200, eps=1e-05, momentum=0.1, affine=True, track_running_stats=True)\n",
            "True Linear(in_features=1200, out_features=50, bias=True)\n",
            "True BatchNorm1d(50, eps=1e-05, momentum=0.1, affine=True, track_running_stats=True)\n",
            "True Linear(in_features=50, out_features=2, bias=True)\n"
          ],
          "name": "stdout"
        }
      ]
    },
    {
      "cell_type": "code",
      "metadata": {
        "id": "GezBt-PhsLdR",
        "colab_type": "code",
        "colab": {}
      },
      "source": [
        "learn.freeze_to(-2)"
      ],
      "execution_count": 0,
      "outputs": []
    },
    {
      "cell_type": "code",
      "metadata": {
        "id": "ujwl9Y5BsNCP",
        "colab_type": "code",
        "colab": {}
      },
      "source": [
        "modules = [m for m in flatten_model(learn.model) if has_params(m)]"
      ],
      "execution_count": 0,
      "outputs": []
    },
    {
      "cell_type": "code",
      "metadata": {
        "id": "VUJYuTv6wELd",
        "colab_type": "code",
        "colab": {
          "base_uri": "https://localhost:8080/",
          "height": 230
        },
        "outputId": "842ff7dd-1a9a-4db0-8e71-a8a3522c53be"
      },
      "source": [
        "for it in modules:\n",
        "  print(requires_grad_bool(it),it)"
      ],
      "execution_count": 33,
      "outputs": [
        {
          "output_type": "stream",
          "text": [
            "False Embedding(60000, 400, padding_idx=1)\n",
            "False Embedding(60000, 400, padding_idx=1)\n",
            "False LSTM(400, 1152, batch_first=True)\n",
            "False ParameterModule()\n",
            "False LSTM(1152, 1152, batch_first=True)\n",
            "False ParameterModule()\n",
            "True LSTM(1152, 400, batch_first=True)\n",
            "True ParameterModule()\n",
            "True BatchNorm1d(1200, eps=1e-05, momentum=0.1, affine=True, track_running_stats=True)\n",
            "True Linear(in_features=1200, out_features=50, bias=True)\n",
            "True BatchNorm1d(50, eps=1e-05, momentum=0.1, affine=True, track_running_stats=True)\n",
            "True Linear(in_features=50, out_features=2, bias=True)\n"
          ],
          "name": "stdout"
        }
      ]
    },
    {
      "cell_type": "code",
      "metadata": {
        "id": "I2_JzEmjwMUt",
        "colab_type": "code",
        "colab": {
          "base_uri": "https://localhost:8080/",
          "height": 296
        },
        "outputId": "48f63cd1-1023-4bb0-a4c9-0caed6c7d56d"
      },
      "source": [
        "learn = text_classifier_learner(data_clas, AWD_LSTM, drop_mult=0.5)\n",
        "learn.load_encoder('fine_tuned_enc')\n",
        "learn.freeze_to(-2)\n",
        "learn.lr_find()\n",
        "learn.recorder.plot()"
      ],
      "execution_count": 37,
      "outputs": [
        {
          "output_type": "display_data",
          "data": {
            "text/html": [
              ""
            ],
            "text/plain": [
              "<IPython.core.display.HTML object>"
            ]
          },
          "metadata": {
            "tags": []
          }
        },
        {
          "output_type": "stream",
          "text": [
            "LR Finder is complete, type {learner_name}.recorder.plot() to see the graph.\n"
          ],
          "name": "stdout"
        },
        {
          "output_type": "display_data",
          "data": {
            "image/png": "[encoded data removed]",
            "text/plain": [
              "<Figure size 432x288 with 1 Axes>"
            ]
          },
          "metadata": {
            "tags": []
          }
        }
      ]
    },
    {
      "cell_type": "code",
      "metadata": {
        "id": "dhNl36NqzLdb",
        "colab_type": "code",
        "colab": {
          "base_uri": "https://localhost:8080/",
          "height": 197
        },
        "outputId": "8b5e7e63-1b81-4647-fb7c-21caeefda047"
      },
      "source": [
        "learn.fit_one_cycle(5, 1e-3, moms=(0.8,0.7))"
      ],
      "execution_count": 53,
      "outputs": [
        {
          "output_type": "display_data",
          "data": {
            "text/html": [
              "<table border=\"1\" class=\"dataframe\">\n",
              "  <thead>\n",
              "    <tr style=\"text-align: left;\">\n",
              "      <th>epoch</th>\n",
              "      <th>train_loss</th>\n",
              "      <th>valid_loss</th>\n",
              "      <th>accuracy</th>\n",
              "      <th>time</th>\n",
              "    </tr>\n",
              "  </thead>\n",
              "  <tbody>\n",
              "    <tr>\n",
              "      <td>0</td>\n",
              "      <td>0.445050</td>\n",
              "      <td>0.361552</td>\n",
              "      <td>0.842000</td>\n",
              "      <td>10:25</td>\n",
              "    </tr>\n",
              "    <tr>\n",
              "      <td>1</td>\n",
              "      <td>0.443763</td>\n",
              "      <td>0.360960</td>\n",
              "      <td>0.845600</td>\n",
              "      <td>10:24</td>\n",
              "    </tr>\n",
              "    <tr>\n",
              "      <td>2</td>\n",
              "      <td>0.427118</td>\n",
              "      <td>0.358420</td>\n",
              "      <td>0.843040</td>\n",
              "      <td>10:15</td>\n",
              "    </tr>\n",
              "    <tr>\n",
              "      <td>3</td>\n",
              "      <td>0.447346</td>\n",
              "      <td>0.355710</td>\n",
              "      <td>0.844480</td>\n",
              "      <td>11:09</td>\n",
              "    </tr>\n",
              "    <tr>\n",
              "      <td>4</td>\n",
              "      <td>0.437228</td>\n",
              "      <td>0.361192</td>\n",
              "      <td>0.842680</td>\n",
              "      <td>10:53</td>\n",
              "    </tr>\n",
              "  </tbody>\n",
              "</table>"
            ],
            "text/plain": [
              "<IPython.core.display.HTML object>"
            ]
          },
          "metadata": {
            "tags": []
          }
        }
      ]
    },
    {
      "cell_type": "code",
      "metadata": {
        "id": "aS-DTVjM0Q1S",
        "colab_type": "code",
        "colab": {
          "base_uri": "https://localhost:8080/",
          "height": 296
        },
        "outputId": "26cde0eb-2e77-4b2d-c861-a02b0d89b914"
      },
      "source": [
        "learn = text_classifier_learner(data_clas, AWD_LSTM, drop_mult=0.5,)\n",
        "learn = learn.load_encoder('fine_tuned_enc')\n",
        "learn.freeze_to(-2)\n",
        "learn.callbacks =[RNNTrainerNorm(learn,2.,0.,500.)]\n",
        "learn.lr_find()\n",
        "learn.recorder.plot()"
      ],
      "execution_count": 56,
      "outputs": [
        {
          "output_type": "display_data",
          "data": {
            "text/html": [
              ""
            ],
            "text/plain": [
              "<IPython.core.display.HTML object>"
            ]
          },
          "metadata": {
            "tags": []
          }
        },
        {
          "output_type": "stream",
          "text": [
            "LR Finder is complete, type {learner_name}.recorder.plot() to see the graph.\n"
          ],
          "name": "stdout"
        },
        {
          "output_type": "display_data",
          "data": {
            "image/png": "[encoded data removed]",
            "text/plain": [
              "<Figure size 432x288 with 1 Axes>"
            ]
          },
          "metadata": {
            "tags": []
          }
        }
      ]
    },
    {
      "cell_type": "code",
      "metadata": {
        "id": "mQwBPnW-VjkY",
        "colab_type": "code",
        "colab": {
          "base_uri": "https://localhost:8080/",
          "height": 197
        },
        "outputId": "b45aaff2-be53-4448-d2ff-f54e25733bdd"
      },
      "source": [
        "learn.fit_one_cycle(5, 1e-3, moms=(0.8,0.7))"
      ],
      "execution_count": 57,
      "outputs": [
        {
          "output_type": "display_data",
          "data": {
            "text/html": [
              "<table border=\"1\" class=\"dataframe\">\n",
              "  <thead>\n",
              "    <tr style=\"text-align: left;\">\n",
              "      <th>epoch</th>\n",
              "      <th>train_loss</th>\n",
              "      <th>valid_loss</th>\n",
              "      <th>accuracy</th>\n",
              "      <th>time</th>\n",
              "    </tr>\n",
              "  </thead>\n",
              "  <tbody>\n",
              "    <tr>\n",
              "      <td>0</td>\n",
              "      <td>0.424120</td>\n",
              "      <td>0.399041</td>\n",
              "      <td>0.815960</td>\n",
              "      <td>12:43</td>\n",
              "    </tr>\n",
              "    <tr>\n",
              "      <td>1</td>\n",
              "      <td>0.362391</td>\n",
              "      <td>0.291880</td>\n",
              "      <td>0.880840</td>\n",
              "      <td>12:27</td>\n",
              "    </tr>\n",
              "    <tr>\n",
              "      <td>2</td>\n",
              "      <td>0.312827</td>\n",
              "      <td>0.259725</td>\n",
              "      <td>0.892560</td>\n",
              "      <td>11:26</td>\n",
              "    </tr>\n",
              "    <tr>\n",
              "      <td>3</td>\n",
              "      <td>0.279835</td>\n",
              "      <td>0.236507</td>\n",
              "      <td>0.904760</td>\n",
              "      <td>12:35</td>\n",
              "    </tr>\n",
              "    <tr>\n",
              "      <td>4</td>\n",
              "      <td>0.271583</td>\n",
              "      <td>0.236181</td>\n",
              "      <td>0.906480</td>\n",
              "      <td>12:50</td>\n",
              "    </tr>\n",
              "  </tbody>\n",
              "</table>"
            ],
            "text/plain": [
              "<IPython.core.display.HTML object>"
            ]
          },
          "metadata": {
            "tags": []
          }
        }
      ]
    },
    {
      "cell_type": "code",
      "metadata": {
        "id": "JxMVwSnFWE3b",
        "colab_type": "code",
        "colab": {}
      },
      "source": [
        ""
      ],
      "execution_count": 0,
      "outputs": []
    }
  ]
}